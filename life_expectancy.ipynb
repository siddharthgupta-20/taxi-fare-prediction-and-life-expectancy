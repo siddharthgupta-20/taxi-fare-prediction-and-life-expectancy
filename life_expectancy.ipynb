{
 "cells": [
  {
   "cell_type": "code",
   "execution_count": 1,
   "metadata": {},
   "outputs": [],
   "source": [
    "import matplotlib.pyplot as plt\n",
    "import plotly.express as px\n",
    "import pandas as pd\n",
    "import numpy as np\n",
    "import sklearn.preprocessing\n",
    "import dash\n",
    "import seaborn as sns\n"
   ]
  },
  {
   "cell_type": "markdown",
   "metadata": {},
   "source": [
    "for this assignment i took the help of:\n",
    "https://www.geeksforgeeks.org/ordinary-least-squares-ols-using-statsmodels/\n",
    "\n",
    "https://scikit-learn.org/stable/modules/generated/sklearn.linear_model.Lasso.html#:~:text=Returns%20predicted%20values.,y_true%20%2D%20y_pred)**%202).\n",
    "\n",
    "https://www.geeksforgeeks.org/ml-implementing-l1-and-l2-regularization-using-sklearn/\n"
   ]
  },
  {
   "cell_type": "code",
   "execution_count": 2,
   "metadata": {},
   "outputs": [
    {
     "data": {
      "text/html": [
       "<div>\n",
       "<style scoped>\n",
       "    .dataframe tbody tr th:only-of-type {\n",
       "        vertical-align: middle;\n",
       "    }\n",
       "\n",
       "    .dataframe tbody tr th {\n",
       "        vertical-align: top;\n",
       "    }\n",
       "\n",
       "    .dataframe thead th {\n",
       "        text-align: right;\n",
       "    }\n",
       "</style>\n",
       "<table border=\"1\" class=\"dataframe\">\n",
       "  <thead>\n",
       "    <tr style=\"text-align: right;\">\n",
       "      <th></th>\n",
       "      <th>Country</th>\n",
       "      <th>Year</th>\n",
       "      <th>Status</th>\n",
       "      <th>Life expectancy</th>\n",
       "      <th>Adult Mortality</th>\n",
       "      <th>infant deaths</th>\n",
       "      <th>Alcohol</th>\n",
       "      <th>percentage expenditure</th>\n",
       "      <th>Hepatitis B</th>\n",
       "      <th>Measles</th>\n",
       "      <th>...</th>\n",
       "      <th>Polio</th>\n",
       "      <th>Total expenditure</th>\n",
       "      <th>Diphtheria</th>\n",
       "      <th>HIV/AIDS</th>\n",
       "      <th>GDP</th>\n",
       "      <th>Population</th>\n",
       "      <th>thinness  1-19 years</th>\n",
       "      <th>thinness 5-9 years</th>\n",
       "      <th>Income composition of resources</th>\n",
       "      <th>Schooling</th>\n",
       "    </tr>\n",
       "  </thead>\n",
       "  <tbody>\n",
       "    <tr>\n",
       "      <th>0</th>\n",
       "      <td>Afghanistan</td>\n",
       "      <td>2015</td>\n",
       "      <td>Developing</td>\n",
       "      <td>65.0</td>\n",
       "      <td>263.0</td>\n",
       "      <td>62</td>\n",
       "      <td>0.01</td>\n",
       "      <td>71.279624</td>\n",
       "      <td>65.0</td>\n",
       "      <td>1154</td>\n",
       "      <td>...</td>\n",
       "      <td>6.0</td>\n",
       "      <td>8.16</td>\n",
       "      <td>65.0</td>\n",
       "      <td>0.1</td>\n",
       "      <td>584.259210</td>\n",
       "      <td>33736494.0</td>\n",
       "      <td>17.2</td>\n",
       "      <td>17.3</td>\n",
       "      <td>0.479</td>\n",
       "      <td>10.1</td>\n",
       "    </tr>\n",
       "    <tr>\n",
       "      <th>1</th>\n",
       "      <td>Afghanistan</td>\n",
       "      <td>2014</td>\n",
       "      <td>Developing</td>\n",
       "      <td>59.9</td>\n",
       "      <td>271.0</td>\n",
       "      <td>64</td>\n",
       "      <td>0.01</td>\n",
       "      <td>73.523582</td>\n",
       "      <td>62.0</td>\n",
       "      <td>492</td>\n",
       "      <td>...</td>\n",
       "      <td>58.0</td>\n",
       "      <td>8.18</td>\n",
       "      <td>62.0</td>\n",
       "      <td>0.1</td>\n",
       "      <td>612.696514</td>\n",
       "      <td>327582.0</td>\n",
       "      <td>17.5</td>\n",
       "      <td>17.5</td>\n",
       "      <td>0.476</td>\n",
       "      <td>10.0</td>\n",
       "    </tr>\n",
       "    <tr>\n",
       "      <th>2</th>\n",
       "      <td>Afghanistan</td>\n",
       "      <td>2013</td>\n",
       "      <td>Developing</td>\n",
       "      <td>59.9</td>\n",
       "      <td>268.0</td>\n",
       "      <td>66</td>\n",
       "      <td>0.01</td>\n",
       "      <td>73.219243</td>\n",
       "      <td>64.0</td>\n",
       "      <td>430</td>\n",
       "      <td>...</td>\n",
       "      <td>62.0</td>\n",
       "      <td>8.13</td>\n",
       "      <td>64.0</td>\n",
       "      <td>0.1</td>\n",
       "      <td>631.744976</td>\n",
       "      <td>31731688.0</td>\n",
       "      <td>17.7</td>\n",
       "      <td>17.7</td>\n",
       "      <td>0.470</td>\n",
       "      <td>9.9</td>\n",
       "    </tr>\n",
       "    <tr>\n",
       "      <th>3</th>\n",
       "      <td>Afghanistan</td>\n",
       "      <td>2012</td>\n",
       "      <td>Developing</td>\n",
       "      <td>59.5</td>\n",
       "      <td>272.0</td>\n",
       "      <td>69</td>\n",
       "      <td>0.01</td>\n",
       "      <td>78.184215</td>\n",
       "      <td>67.0</td>\n",
       "      <td>2787</td>\n",
       "      <td>...</td>\n",
       "      <td>67.0</td>\n",
       "      <td>8.52</td>\n",
       "      <td>67.0</td>\n",
       "      <td>0.1</td>\n",
       "      <td>669.959000</td>\n",
       "      <td>3696958.0</td>\n",
       "      <td>17.9</td>\n",
       "      <td>18.0</td>\n",
       "      <td>0.463</td>\n",
       "      <td>9.8</td>\n",
       "    </tr>\n",
       "    <tr>\n",
       "      <th>4</th>\n",
       "      <td>Afghanistan</td>\n",
       "      <td>2011</td>\n",
       "      <td>Developing</td>\n",
       "      <td>59.2</td>\n",
       "      <td>275.0</td>\n",
       "      <td>71</td>\n",
       "      <td>0.01</td>\n",
       "      <td>7.097109</td>\n",
       "      <td>68.0</td>\n",
       "      <td>3013</td>\n",
       "      <td>...</td>\n",
       "      <td>68.0</td>\n",
       "      <td>7.87</td>\n",
       "      <td>68.0</td>\n",
       "      <td>0.1</td>\n",
       "      <td>63.537231</td>\n",
       "      <td>2978599.0</td>\n",
       "      <td>18.2</td>\n",
       "      <td>18.2</td>\n",
       "      <td>0.454</td>\n",
       "      <td>9.5</td>\n",
       "    </tr>\n",
       "  </tbody>\n",
       "</table>\n",
       "<p>5 rows × 22 columns</p>\n",
       "</div>"
      ],
      "text/plain": [
       "       Country  Year      Status  Life expectancy   Adult Mortality  \\\n",
       "0  Afghanistan  2015  Developing              65.0            263.0   \n",
       "1  Afghanistan  2014  Developing              59.9            271.0   \n",
       "2  Afghanistan  2013  Developing              59.9            268.0   \n",
       "3  Afghanistan  2012  Developing              59.5            272.0   \n",
       "4  Afghanistan  2011  Developing              59.2            275.0   \n",
       "\n",
       "   infant deaths  Alcohol  percentage expenditure  Hepatitis B  Measles   ...  \\\n",
       "0             62     0.01               71.279624         65.0      1154  ...   \n",
       "1             64     0.01               73.523582         62.0       492  ...   \n",
       "2             66     0.01               73.219243         64.0       430  ...   \n",
       "3             69     0.01               78.184215         67.0      2787  ...   \n",
       "4             71     0.01                7.097109         68.0      3013  ...   \n",
       "\n",
       "   Polio  Total expenditure  Diphtheria    HIV/AIDS         GDP  Population  \\\n",
       "0    6.0               8.16         65.0        0.1  584.259210  33736494.0   \n",
       "1   58.0               8.18         62.0        0.1  612.696514    327582.0   \n",
       "2   62.0               8.13         64.0        0.1  631.744976  31731688.0   \n",
       "3   67.0               8.52         67.0        0.1  669.959000   3696958.0   \n",
       "4   68.0               7.87         68.0        0.1   63.537231   2978599.0   \n",
       "\n",
       "    thinness  1-19 years   thinness 5-9 years  \\\n",
       "0                   17.2                 17.3   \n",
       "1                   17.5                 17.5   \n",
       "2                   17.7                 17.7   \n",
       "3                   17.9                 18.0   \n",
       "4                   18.2                 18.2   \n",
       "\n",
       "   Income composition of resources  Schooling  \n",
       "0                            0.479       10.1  \n",
       "1                            0.476       10.0  \n",
       "2                            0.470        9.9  \n",
       "3                            0.463        9.8  \n",
       "4                            0.454        9.5  \n",
       "\n",
       "[5 rows x 22 columns]"
      ]
     },
     "execution_count": 2,
     "metadata": {},
     "output_type": "execute_result"
    }
   ],
   "source": [
    "df = pd.read_csv(\"Life Expectancy Data.csv\")\n",
    "df.head()"
   ]
  },
  {
   "cell_type": "code",
   "execution_count": 3,
   "metadata": {},
   "outputs": [
    {
     "data": {
      "text/plain": [
       "Index(['Country', 'Year', 'Status', 'Life expectancy ', 'Adult Mortality',\n",
       "       'infant deaths', 'Alcohol', 'percentage expenditure', 'Hepatitis B',\n",
       "       'Measles ', ' BMI ', 'under-five deaths ', 'Polio', 'Total expenditure',\n",
       "       'Diphtheria ', ' HIV/AIDS', 'GDP', 'Population',\n",
       "       ' thinness  1-19 years', ' thinness 5-9 years',\n",
       "       'Income composition of resources', 'Schooling'],\n",
       "      dtype='object')"
      ]
     },
     "execution_count": 3,
     "metadata": {},
     "output_type": "execute_result"
    }
   ],
   "source": [
    "df.columns"
   ]
  },
  {
   "cell_type": "code",
   "execution_count": 4,
   "metadata": {},
   "outputs": [
    {
     "data": {
      "text/plain": [
       "(2938, 22)"
      ]
     },
     "execution_count": 4,
     "metadata": {},
     "output_type": "execute_result"
    }
   ],
   "source": [
    "df.shape"
   ]
  },
  {
   "cell_type": "code",
   "execution_count": 5,
   "metadata": {},
   "outputs": [
    {
     "name": "stdout",
     "output_type": "stream",
     "text": [
      "Country                              0\n",
      "Year                                 0\n",
      "Status                               0\n",
      "Life expectancy                     10\n",
      "Adult Mortality                     10\n",
      "infant deaths                        0\n",
      "Alcohol                            194\n",
      "percentage expenditure               0\n",
      "Hepatitis B                        553\n",
      "Measles                              0\n",
      " BMI                                34\n",
      "under-five deaths                    0\n",
      "Polio                               19\n",
      "Total expenditure                  226\n",
      "Diphtheria                          19\n",
      " HIV/AIDS                            0\n",
      "GDP                                448\n",
      "Population                         652\n",
      " thinness  1-19 years               34\n",
      " thinness 5-9 years                 34\n",
      "Income composition of resources    167\n",
      "Schooling                          163\n",
      "dtype: int64\n"
     ]
    }
   ],
   "source": [
    "nu = df.isnull().sum()\n",
    "print(nu)"
   ]
  },
  {
   "cell_type": "code",
   "execution_count": 6,
   "metadata": {},
   "outputs": [
    {
     "name": "stdout",
     "output_type": "stream",
     "text": [
      "Country                            0\n",
      "Year                               0\n",
      "Status                             0\n",
      "Life expectancy                    0\n",
      "Adult Mortality                    0\n",
      "infant deaths                      0\n",
      "Alcohol                            0\n",
      "percentage expenditure             0\n",
      "Hepatitis B                        0\n",
      "Measles                            0\n",
      " BMI                               0\n",
      "under-five deaths                  0\n",
      "Polio                              0\n",
      "Total expenditure                  0\n",
      "Diphtheria                         0\n",
      " HIV/AIDS                          0\n",
      "GDP                                0\n",
      "Population                         0\n",
      " thinness  1-19 years              0\n",
      " thinness 5-9 years                0\n",
      "Income composition of resources    0\n",
      "Schooling                          0\n",
      "dtype: int64\n",
      "(1649, 22)\n"
     ]
    }
   ],
   "source": [
    "df.replace([np.inf, -np.inf], np.nan, inplace=True)\n",
    "df.dropna(axis=0, how='any', thresh=None, subset=None, inplace=True)\n",
    "df.reset_index()\n",
    "nu = df.isnull().sum()\n",
    "print(nu)\n",
    "print(df.shape)"
   ]
  },
  {
   "cell_type": "code",
   "execution_count": null,
   "metadata": {},
   "outputs": [],
   "source": [
    "\n",
    "\n",
    "\n",
    "\n"
   ]
  },
  {
   "cell_type": "code",
   "execution_count": 7,
   "metadata": {},
   "outputs": [
    {
     "name": "stdout",
     "output_type": "stream",
     "text": [
      "(1649, 22)\n"
     ]
    }
   ],
   "source": [
    "print(df.shape)"
   ]
  },
  {
   "cell_type": "code",
   "execution_count": 8,
   "metadata": {},
   "outputs": [
    {
     "data": {
      "text/html": [
       "<div>\n",
       "<style scoped>\n",
       "    .dataframe tbody tr th:only-of-type {\n",
       "        vertical-align: middle;\n",
       "    }\n",
       "\n",
       "    .dataframe tbody tr th {\n",
       "        vertical-align: top;\n",
       "    }\n",
       "\n",
       "    .dataframe thead th {\n",
       "        text-align: right;\n",
       "    }\n",
       "</style>\n",
       "<table border=\"1\" class=\"dataframe\">\n",
       "  <thead>\n",
       "    <tr style=\"text-align: right;\">\n",
       "      <th></th>\n",
       "      <th>Year</th>\n",
       "      <th>Life expectancy</th>\n",
       "      <th>Adult Mortality</th>\n",
       "      <th>infant deaths</th>\n",
       "      <th>Alcohol</th>\n",
       "      <th>percentage expenditure</th>\n",
       "      <th>Hepatitis B</th>\n",
       "      <th>Measles</th>\n",
       "      <th>BMI</th>\n",
       "      <th>under-five deaths</th>\n",
       "      <th>Polio</th>\n",
       "      <th>Total expenditure</th>\n",
       "      <th>Diphtheria</th>\n",
       "      <th>HIV/AIDS</th>\n",
       "      <th>GDP</th>\n",
       "      <th>Population</th>\n",
       "      <th>thinness  1-19 years</th>\n",
       "      <th>thinness 5-9 years</th>\n",
       "      <th>Income composition of resources</th>\n",
       "      <th>Schooling</th>\n",
       "    </tr>\n",
       "  </thead>\n",
       "  <tbody>\n",
       "    <tr>\n",
       "      <th>Year</th>\n",
       "      <td>1.000000</td>\n",
       "      <td>0.050771</td>\n",
       "      <td>-0.037092</td>\n",
       "      <td>0.008029</td>\n",
       "      <td>-0.113365</td>\n",
       "      <td>0.069553</td>\n",
       "      <td>0.114897</td>\n",
       "      <td>-0.053822</td>\n",
       "      <td>0.005739</td>\n",
       "      <td>0.010479</td>\n",
       "      <td>-0.016699</td>\n",
       "      <td>0.059493</td>\n",
       "      <td>0.029641</td>\n",
       "      <td>-0.123405</td>\n",
       "      <td>0.096421</td>\n",
       "      <td>0.012567</td>\n",
       "      <td>0.019757</td>\n",
       "      <td>0.014122</td>\n",
       "      <td>0.122892</td>\n",
       "      <td>0.088732</td>\n",
       "    </tr>\n",
       "    <tr>\n",
       "      <th>Life expectancy</th>\n",
       "      <td>0.050771</td>\n",
       "      <td>1.000000</td>\n",
       "      <td>-0.702523</td>\n",
       "      <td>-0.169074</td>\n",
       "      <td>0.402718</td>\n",
       "      <td>0.409631</td>\n",
       "      <td>0.199935</td>\n",
       "      <td>-0.068881</td>\n",
       "      <td>0.542042</td>\n",
       "      <td>-0.192265</td>\n",
       "      <td>0.327294</td>\n",
       "      <td>0.174718</td>\n",
       "      <td>0.341331</td>\n",
       "      <td>-0.592236</td>\n",
       "      <td>0.441322</td>\n",
       "      <td>-0.022305</td>\n",
       "      <td>-0.457838</td>\n",
       "      <td>-0.457508</td>\n",
       "      <td>0.721083</td>\n",
       "      <td>0.727630</td>\n",
       "    </tr>\n",
       "    <tr>\n",
       "      <th>Adult Mortality</th>\n",
       "      <td>-0.037092</td>\n",
       "      <td>-0.702523</td>\n",
       "      <td>1.000000</td>\n",
       "      <td>0.042450</td>\n",
       "      <td>-0.175535</td>\n",
       "      <td>-0.237610</td>\n",
       "      <td>-0.105225</td>\n",
       "      <td>-0.003967</td>\n",
       "      <td>-0.351542</td>\n",
       "      <td>0.060365</td>\n",
       "      <td>-0.199853</td>\n",
       "      <td>-0.085227</td>\n",
       "      <td>-0.191429</td>\n",
       "      <td>0.550691</td>\n",
       "      <td>-0.255035</td>\n",
       "      <td>-0.015012</td>\n",
       "      <td>0.272230</td>\n",
       "      <td>0.286723</td>\n",
       "      <td>-0.442203</td>\n",
       "      <td>-0.421171</td>\n",
       "    </tr>\n",
       "    <tr>\n",
       "      <th>infant deaths</th>\n",
       "      <td>0.008029</td>\n",
       "      <td>-0.169074</td>\n",
       "      <td>0.042450</td>\n",
       "      <td>1.000000</td>\n",
       "      <td>-0.106217</td>\n",
       "      <td>-0.090765</td>\n",
       "      <td>-0.231769</td>\n",
       "      <td>0.532680</td>\n",
       "      <td>-0.234425</td>\n",
       "      <td>0.996906</td>\n",
       "      <td>-0.156929</td>\n",
       "      <td>-0.146951</td>\n",
       "      <td>-0.161871</td>\n",
       "      <td>0.007712</td>\n",
       "      <td>-0.098092</td>\n",
       "      <td>0.671758</td>\n",
       "      <td>0.463415</td>\n",
       "      <td>0.461908</td>\n",
       "      <td>-0.134754</td>\n",
       "      <td>-0.214372</td>\n",
       "    </tr>\n",
       "    <tr>\n",
       "      <th>Alcohol</th>\n",
       "      <td>-0.113365</td>\n",
       "      <td>0.402718</td>\n",
       "      <td>-0.175535</td>\n",
       "      <td>-0.106217</td>\n",
       "      <td>1.000000</td>\n",
       "      <td>0.417047</td>\n",
       "      <td>0.109889</td>\n",
       "      <td>-0.050110</td>\n",
       "      <td>0.353396</td>\n",
       "      <td>-0.101082</td>\n",
       "      <td>0.240315</td>\n",
       "      <td>0.214885</td>\n",
       "      <td>0.242951</td>\n",
       "      <td>-0.027113</td>\n",
       "      <td>0.443433</td>\n",
       "      <td>-0.028880</td>\n",
       "      <td>-0.403755</td>\n",
       "      <td>-0.386208</td>\n",
       "      <td>0.561074</td>\n",
       "      <td>0.616975</td>\n",
       "    </tr>\n",
       "  </tbody>\n",
       "</table>\n",
       "</div>"
      ],
      "text/plain": [
       "                      Year  Life expectancy   Adult Mortality  infant deaths  \\\n",
       "Year              1.000000          0.050771        -0.037092       0.008029   \n",
       "Life expectancy   0.050771          1.000000        -0.702523      -0.169074   \n",
       "Adult Mortality  -0.037092         -0.702523         1.000000       0.042450   \n",
       "infant deaths     0.008029         -0.169074         0.042450       1.000000   \n",
       "Alcohol          -0.113365          0.402718        -0.175535      -0.106217   \n",
       "\n",
       "                   Alcohol  percentage expenditure  Hepatitis B  Measles   \\\n",
       "Year             -0.113365                0.069553     0.114897 -0.053822   \n",
       "Life expectancy   0.402718                0.409631     0.199935 -0.068881   \n",
       "Adult Mortality  -0.175535               -0.237610    -0.105225 -0.003967   \n",
       "infant deaths    -0.106217               -0.090765    -0.231769  0.532680   \n",
       "Alcohol           1.000000                0.417047     0.109889 -0.050110   \n",
       "\n",
       "                      BMI   under-five deaths      Polio  Total expenditure  \\\n",
       "Year              0.005739            0.010479 -0.016699           0.059493   \n",
       "Life expectancy   0.542042           -0.192265  0.327294           0.174718   \n",
       "Adult Mortality  -0.351542            0.060365 -0.199853          -0.085227   \n",
       "infant deaths    -0.234425            0.996906 -0.156929          -0.146951   \n",
       "Alcohol           0.353396           -0.101082  0.240315           0.214885   \n",
       "\n",
       "                  Diphtheria    HIV/AIDS       GDP  Population  \\\n",
       "Year                 0.029641  -0.123405  0.096421    0.012567   \n",
       "Life expectancy      0.341331  -0.592236  0.441322   -0.022305   \n",
       "Adult Mortality     -0.191429   0.550691 -0.255035   -0.015012   \n",
       "infant deaths       -0.161871   0.007712 -0.098092    0.671758   \n",
       "Alcohol              0.242951  -0.027113  0.443433   -0.028880   \n",
       "\n",
       "                   thinness  1-19 years   thinness 5-9 years  \\\n",
       "Year                           0.019757             0.014122   \n",
       "Life expectancy               -0.457838            -0.457508   \n",
       "Adult Mortality                0.272230             0.286723   \n",
       "infant deaths                  0.463415             0.461908   \n",
       "Alcohol                       -0.403755            -0.386208   \n",
       "\n",
       "                  Income composition of resources  Schooling  \n",
       "Year                                     0.122892   0.088732  \n",
       "Life expectancy                          0.721083   0.727630  \n",
       "Adult Mortality                         -0.442203  -0.421171  \n",
       "infant deaths                           -0.134754  -0.214372  \n",
       "Alcohol                                  0.561074   0.616975  "
      ]
     },
     "execution_count": 8,
     "metadata": {},
     "output_type": "execute_result"
    }
   ],
   "source": [
    "df.corr().head()"
   ]
  },
  {
   "cell_type": "code",
   "execution_count": 9,
   "metadata": {},
   "outputs": [
    {
     "data": {
      "application/vnd.plotly.v1+json": {
       "config": {
        "plotlyServerURL": "https://plot.ly"
       },
       "data": [
        {
         "coloraxis": "coloraxis",
         "hovertemplate": "x: %{x}<br>y: %{y}<br>color: %{z}<extra></extra>",
         "name": "0",
         "type": "heatmap",
         "x": [
          "Year",
          "Life expectancy ",
          "Adult Mortality",
          "infant deaths",
          "Alcohol",
          "percentage expenditure",
          "Hepatitis B",
          "Measles ",
          " BMI ",
          "under-five deaths ",
          "Polio",
          "Total expenditure",
          "Diphtheria ",
          " HIV/AIDS",
          "GDP",
          "Population",
          " thinness  1-19 years",
          " thinness 5-9 years",
          "Income composition of resources",
          "Schooling"
         ],
         "xaxis": "x",
         "y": [
          "Year",
          "Life expectancy ",
          "Adult Mortality",
          "infant deaths",
          "Alcohol",
          "percentage expenditure",
          "Hepatitis B",
          "Measles ",
          " BMI ",
          "under-five deaths ",
          "Polio",
          "Total expenditure",
          "Diphtheria ",
          " HIV/AIDS",
          "GDP",
          "Population",
          " thinness  1-19 years",
          " thinness 5-9 years",
          "Income composition of resources",
          "Schooling"
         ],
         "yaxis": "y",
         "z": [
          [
           1,
           0.050771034946768934,
           -0.03709178245433387,
           0.00802912842131356,
           -0.11336476394157947,
           0.0695534682872512,
           0.11489709227287769,
           -0.053822045511548906,
           0.005739060646846459,
           0.010478594191314507,
           -0.016698803420504647,
           0.05949277661796821,
           0.029640585705866113,
           -0.12340499044463564,
           0.09642148485469197,
           0.01256689337748074,
           0.019756611280034142,
           0.01412242223205193,
           0.12289178011110663,
           0.08873178653230088
          ],
          [
           0.050771034946768934,
           1,
           -0.7025230623069735,
           -0.1690738039995967,
           0.402718321727354,
           0.40963082412504687,
           0.1999352763975776,
           -0.0688812221111765,
           0.5420415876915772,
           -0.19226530105304535,
           0.3272944031049289,
           0.17471764064230505,
           0.3413312342606403,
           -0.5922362925926357,
           0.44132180991356496,
           -0.022304977802841897,
           -0.45783819334984416,
           -0.45750828676580096,
           0.7210825929172864,
           0.7276300323211043
          ],
          [
           -0.03709178245433387,
           -0.7025230623069735,
           1,
           0.04245023704032809,
           -0.17553508575848245,
           -0.23760989013786574,
           -0.10522544258930572,
           -0.00396668450741432,
           -0.35154247827451096,
           0.06036502608490277,
           -0.1998530004059598,
           -0.08522653475086901,
           -0.19142875921157268,
           0.5506907453932752,
           -0.2550347325077516,
           -0.015011838123604479,
           0.27223004418323704,
           0.28672288217555714,
           -0.44220328763116346,
           -0.4211705232348179
          ],
          [
           0.00802912842131356,
           -0.1690738039995967,
           0.04245023704032809,
           1,
           -0.10621691728681969,
           -0.09076463246335109,
           -0.23176893692854378,
           0.5326798315447473,
           -0.23442515387117596,
           0.9969056219353224,
           -0.15692880507580892,
           -0.14695111722940113,
           -0.16187100368767537,
           0.00771154732619318,
           -0.09809202043044435,
           0.6717583100250997,
           0.46341525622301777,
           0.46190792452168566,
           -0.13475386311017992,
           -0.21437190029219005
          ],
          [
           -0.11336476394157947,
           0.402718321727354,
           -0.17553508575848245,
           -0.10621691728681969,
           1,
           0.41704735846341157,
           0.10988939237514632,
           -0.05011023458879729,
           0.35339620539045263,
           -0.10108216444515852,
           0.24031453311147946,
           0.21488509406015904,
           0.242951426833254,
           -0.027112636037520683,
           0.4434327894751658,
           -0.02888023244930858,
           -0.4037549896475883,
           -0.3862081893744056,
           0.561074332137327,
           0.6169748090003161
          ],
          [
           0.0695534682872512,
           0.40963082412504687,
           -0.23760989013786574,
           -0.09076463246335109,
           0.41704735846341157,
           1,
           0.0167601726008279,
           -0.06307078856097414,
           0.24273824334180236,
           -0.09215805581353384,
           0.12862605133569857,
           0.18387236479076008,
           0.13481324186082008,
           -0.09508499088595439,
           0.9592988569672184,
           -0.016792141321812965,
           -0.2550346029509551,
           -0.25563544240004926,
           0.40216973584811605,
           0.422088454191989
          ],
          [
           0.11489709227287769,
           0.1999352763975776,
           -0.10522544258930572,
           -0.23176893692854378,
           0.10988939237514632,
           0.0167601726008279,
           1,
           -0.12479999284933868,
           0.1433017864392848,
           -0.24076602981914144,
           0.4633307991718396,
           0.11332668265769096,
           0.5889899269525826,
           -0.09480197056648793,
           0.04184950025350453,
           -0.1297226546503967,
           -0.1294059539799348,
           -0.13325098509557512,
           0.18492097001836738,
           0.21518159338370538
          ],
          [
           -0.053822045511548906,
           -0.0688812221111765,
           -0.00396668450741432,
           0.5326798315447473,
           -0.05011023458879729,
           -0.06307078856097414,
           -0.12479999284933868,
           1,
           -0.15324546413761048,
           0.5175055633419402,
           -0.05785013256906104,
           -0.1135827384332759,
           -0.058605906548631084,
           -0.0035218537602014874,
           -0.06476758967009412,
           0.3219463766227996,
           0.1806415057342373,
           0.17494621729955206,
           -0.05827725578548968,
           -0.11566048090047963
          ],
          [
           0.005739060646846459,
           0.5420415876915772,
           -0.35154247827451096,
           -0.23442515387117596,
           0.35339620539045263,
           0.24273824334180236,
           0.1433017864392848,
           -0.15324546413761048,
           1,
           -0.24213739773028894,
           0.1862679651210562,
           0.18946896373710756,
           0.17629450269591418,
           -0.21089674627313934,
           0.2661139730639117,
           -0.08141598206828445,
           -0.5470175139952642,
           -0.5540939811178432,
           0.51050483068018,
           0.5548439025517072
          ],
          [
           0.010478594191314507,
           -0.19226530105304535,
           0.06036502608490277,
           0.9969056219353224,
           -0.10108216444515852,
           -0.09215805581353384,
           -0.24076602981914144,
           0.5175055633419402,
           -0.24213739773028894,
           1,
           -0.17116418966476749,
           -0.14580310040849545,
           -0.17844818726958073,
           0.01947592699776879,
           -0.1003312627386841,
           0.6586796907106565,
           0.4647846984505456,
           0.4622893812693002,
           -0.14809727582639554,
           -0.22601261739668616
          ],
          [
           -0.016698803420504647,
           0.3272944031049289,
           -0.1998530004059598,
           -0.15692880507580892,
           0.24031453311147946,
           0.12862605133569857,
           0.4633307991718396,
           -0.05785013256906104,
           0.1862679651210562,
           -0.17116418966476749,
           1,
           0.11976798351450432,
           0.6092454669558363,
           -0.10788546790410074,
           0.1568086898165069,
           -0.04538657158389491,
           -0.16406959345408154,
           -0.17448925069180868,
           0.3146815941255956,
           0.3501466010592101
          ],
          [
           0.05949277661796821,
           0.17471764064230505,
           -0.08522653475086901,
           -0.14695111722940113,
           0.21488509406015904,
           0.18387236479076008,
           0.11332668265769096,
           -0.1135827384332759,
           0.18946896373710756,
           -0.14580310040849545,
           0.11976798351450432,
           1,
           0.12991481304061506,
           0.04310065658602942,
           0.18037347007785745,
           -0.07996223681885921,
           -0.2098723196428522,
           -0.21786479439827353,
           0.1836531899297193,
           0.2437834454923263
          ],
          [
           0.029640585705866113,
           0.3413312342606403,
           -0.19142875921157268,
           -0.16187100368767537,
           0.242951426833254,
           0.13481324186082008,
           0.5889899269525826,
           -0.058605906548631084,
           0.17629450269591418,
           -0.17844818726958073,
           0.6092454669558363,
           0.12991481304061506,
           1,
           -0.11760107416414974,
           0.15843774489541004,
           -0.03989753651945028,
           -0.1872416454797586,
           -0.18095238221833498,
           0.3432617722501239,
           0.35039793460461593
          ],
          [
           -0.12340499044463564,
           -0.5922362925926357,
           0.5506907453932752,
           0.00771154732619318,
           -0.027112636037520683,
           -0.09508499088595439,
           -0.09480197056648793,
           -0.0035218537602014874,
           -0.21089674627313934,
           0.01947592699776879,
           -0.10788546790410074,
           0.04310065658602942,
           -0.11760107416414974,
           1,
           -0.10808059984822807,
           -0.027800561586620996,
           0.1725917670389402,
           0.183146726954806,
           -0.2485898549046261,
           -0.21184020050163221
          ],
          [
           0.09642148485469197,
           0.44132180991356496,
           -0.2550347325077516,
           -0.09809202043044435,
           0.4434327894751658,
           0.9592988569672184,
           0.04184950025350453,
           -0.06476758967009412,
           0.2661139730639117,
           -0.1003312627386841,
           0.1568086898165069,
           0.18037347007785745,
           0.15843774489541004,
           -0.10808059984822807,
           1,
           -0.020368964304488483,
           -0.27749834542066154,
           -0.2779585540787128,
           0.44685551061622986,
           0.4679469733645062
          ],
          [
           0.01256689337748074,
           -0.022304977802841897,
           -0.015011838123604479,
           0.6717583100250997,
           -0.02888023244930858,
           -0.016792141321812965,
           -0.1297226546503967,
           0.3219463766227996,
           -0.08141598206828445,
           0.6586796907106565,
           -0.04538657158389491,
           -0.07996223681885921,
           -0.03989753651945028,
           -0.027800561586620996,
           -0.020368964304488483,
           1,
           0.28252928034622227,
           0.27791337374069813,
           -0.00813246552354176,
           -0.040312419026834516
          ],
          [
           0.019756611280034142,
           -0.45783819334984416,
           0.27223004418323704,
           0.46341525622301777,
           -0.4037549896475883,
           -0.2550346029509551,
           -0.1294059539799348,
           0.1806415057342373,
           -0.5470175139952642,
           0.4647846984505456,
           -0.16406959345408154,
           -0.2098723196428522,
           -0.1872416454797586,
           0.1725917670389402,
           -0.27749834542066154,
           0.28252928034622227,
           1,
           0.9279134442386393,
           -0.4536788538689407,
           -0.4911992098537933
          ],
          [
           0.01412242223205193,
           -0.45750828676580096,
           0.28672288217555714,
           0.46190792452168566,
           -0.3862081893744056,
           -0.25563544240004926,
           -0.13325098509557512,
           0.17494621729955206,
           -0.5540939811178432,
           0.4622893812693002,
           -0.17448925069180868,
           -0.21786479439827353,
           -0.18095238221833498,
           0.183146726954806,
           -0.2779585540787128,
           0.27791337374069813,
           0.9279134442386393,
           1,
           -0.43848372115044115,
           -0.4724820295664819
          ],
          [
           0.12289178011110663,
           0.7210825929172864,
           -0.44220328763116346,
           -0.13475386311017992,
           0.561074332137327,
           0.40216973584811605,
           0.18492097001836738,
           -0.05827725578548968,
           0.51050483068018,
           -0.14809727582639554,
           0.3146815941255956,
           0.1836531899297193,
           0.3432617722501239,
           -0.2485898549046261,
           0.44685551061622986,
           -0.00813246552354176,
           -0.4536788538689407,
           -0.43848372115044115,
           1,
           0.7847405811682984
          ],
          [
           0.08873178653230088,
           0.7276300323211043,
           -0.4211705232348179,
           -0.21437190029219005,
           0.6169748090003161,
           0.422088454191989,
           0.21518159338370538,
           -0.11566048090047963,
           0.5548439025517072,
           -0.22601261739668616,
           0.3501466010592101,
           0.2437834454923263,
           0.35039793460461593,
           -0.21184020050163221,
           0.4679469733645062,
           -0.040312419026834516,
           -0.4911992098537933,
           -0.4724820295664819,
           0.7847405811682984,
           1
          ]
         ]
        }
       ],
       "layout": {
        "coloraxis": {
         "colorscale": [
          [
           0,
           "#0d0887"
          ],
          [
           0.1111111111111111,
           "#46039f"
          ],
          [
           0.2222222222222222,
           "#7201a8"
          ],
          [
           0.3333333333333333,
           "#9c179e"
          ],
          [
           0.4444444444444444,
           "#bd3786"
          ],
          [
           0.5555555555555556,
           "#d8576b"
          ],
          [
           0.6666666666666666,
           "#ed7953"
          ],
          [
           0.7777777777777778,
           "#fb9f3a"
          ],
          [
           0.8888888888888888,
           "#fdca26"
          ],
          [
           1,
           "#f0f921"
          ]
         ]
        },
        "margin": {
         "t": 60
        },
        "template": {
         "data": {
          "bar": [
           {
            "error_x": {
             "color": "#2a3f5f"
            },
            "error_y": {
             "color": "#2a3f5f"
            },
            "marker": {
             "line": {
              "color": "#E5ECF6",
              "width": 0.5
             },
             "pattern": {
              "fillmode": "overlay",
              "size": 10,
              "solidity": 0.2
             }
            },
            "type": "bar"
           }
          ],
          "barpolar": [
           {
            "marker": {
             "line": {
              "color": "#E5ECF6",
              "width": 0.5
             },
             "pattern": {
              "fillmode": "overlay",
              "size": 10,
              "solidity": 0.2
             }
            },
            "type": "barpolar"
           }
          ],
          "carpet": [
           {
            "aaxis": {
             "endlinecolor": "#2a3f5f",
             "gridcolor": "white",
             "linecolor": "white",
             "minorgridcolor": "white",
             "startlinecolor": "#2a3f5f"
            },
            "baxis": {
             "endlinecolor": "#2a3f5f",
             "gridcolor": "white",
             "linecolor": "white",
             "minorgridcolor": "white",
             "startlinecolor": "#2a3f5f"
            },
            "type": "carpet"
           }
          ],
          "choropleth": [
           {
            "colorbar": {
             "outlinewidth": 0,
             "ticks": ""
            },
            "type": "choropleth"
           }
          ],
          "contour": [
           {
            "colorbar": {
             "outlinewidth": 0,
             "ticks": ""
            },
            "colorscale": [
             [
              0,
              "#0d0887"
             ],
             [
              0.1111111111111111,
              "#46039f"
             ],
             [
              0.2222222222222222,
              "#7201a8"
             ],
             [
              0.3333333333333333,
              "#9c179e"
             ],
             [
              0.4444444444444444,
              "#bd3786"
             ],
             [
              0.5555555555555556,
              "#d8576b"
             ],
             [
              0.6666666666666666,
              "#ed7953"
             ],
             [
              0.7777777777777778,
              "#fb9f3a"
             ],
             [
              0.8888888888888888,
              "#fdca26"
             ],
             [
              1,
              "#f0f921"
             ]
            ],
            "type": "contour"
           }
          ],
          "contourcarpet": [
           {
            "colorbar": {
             "outlinewidth": 0,
             "ticks": ""
            },
            "type": "contourcarpet"
           }
          ],
          "heatmap": [
           {
            "colorbar": {
             "outlinewidth": 0,
             "ticks": ""
            },
            "colorscale": [
             [
              0,
              "#0d0887"
             ],
             [
              0.1111111111111111,
              "#46039f"
             ],
             [
              0.2222222222222222,
              "#7201a8"
             ],
             [
              0.3333333333333333,
              "#9c179e"
             ],
             [
              0.4444444444444444,
              "#bd3786"
             ],
             [
              0.5555555555555556,
              "#d8576b"
             ],
             [
              0.6666666666666666,
              "#ed7953"
             ],
             [
              0.7777777777777778,
              "#fb9f3a"
             ],
             [
              0.8888888888888888,
              "#fdca26"
             ],
             [
              1,
              "#f0f921"
             ]
            ],
            "type": "heatmap"
           }
          ],
          "heatmapgl": [
           {
            "colorbar": {
             "outlinewidth": 0,
             "ticks": ""
            },
            "colorscale": [
             [
              0,
              "#0d0887"
             ],
             [
              0.1111111111111111,
              "#46039f"
             ],
             [
              0.2222222222222222,
              "#7201a8"
             ],
             [
              0.3333333333333333,
              "#9c179e"
             ],
             [
              0.4444444444444444,
              "#bd3786"
             ],
             [
              0.5555555555555556,
              "#d8576b"
             ],
             [
              0.6666666666666666,
              "#ed7953"
             ],
             [
              0.7777777777777778,
              "#fb9f3a"
             ],
             [
              0.8888888888888888,
              "#fdca26"
             ],
             [
              1,
              "#f0f921"
             ]
            ],
            "type": "heatmapgl"
           }
          ],
          "histogram": [
           {
            "marker": {
             "pattern": {
              "fillmode": "overlay",
              "size": 10,
              "solidity": 0.2
             }
            },
            "type": "histogram"
           }
          ],
          "histogram2d": [
           {
            "colorbar": {
             "outlinewidth": 0,
             "ticks": ""
            },
            "colorscale": [
             [
              0,
              "#0d0887"
             ],
             [
              0.1111111111111111,
              "#46039f"
             ],
             [
              0.2222222222222222,
              "#7201a8"
             ],
             [
              0.3333333333333333,
              "#9c179e"
             ],
             [
              0.4444444444444444,
              "#bd3786"
             ],
             [
              0.5555555555555556,
              "#d8576b"
             ],
             [
              0.6666666666666666,
              "#ed7953"
             ],
             [
              0.7777777777777778,
              "#fb9f3a"
             ],
             [
              0.8888888888888888,
              "#fdca26"
             ],
             [
              1,
              "#f0f921"
             ]
            ],
            "type": "histogram2d"
           }
          ],
          "histogram2dcontour": [
           {
            "colorbar": {
             "outlinewidth": 0,
             "ticks": ""
            },
            "colorscale": [
             [
              0,
              "#0d0887"
             ],
             [
              0.1111111111111111,
              "#46039f"
             ],
             [
              0.2222222222222222,
              "#7201a8"
             ],
             [
              0.3333333333333333,
              "#9c179e"
             ],
             [
              0.4444444444444444,
              "#bd3786"
             ],
             [
              0.5555555555555556,
              "#d8576b"
             ],
             [
              0.6666666666666666,
              "#ed7953"
             ],
             [
              0.7777777777777778,
              "#fb9f3a"
             ],
             [
              0.8888888888888888,
              "#fdca26"
             ],
             [
              1,
              "#f0f921"
             ]
            ],
            "type": "histogram2dcontour"
           }
          ],
          "mesh3d": [
           {
            "colorbar": {
             "outlinewidth": 0,
             "ticks": ""
            },
            "type": "mesh3d"
           }
          ],
          "parcoords": [
           {
            "line": {
             "colorbar": {
              "outlinewidth": 0,
              "ticks": ""
             }
            },
            "type": "parcoords"
           }
          ],
          "pie": [
           {
            "automargin": true,
            "type": "pie"
           }
          ],
          "scatter": [
           {
            "marker": {
             "colorbar": {
              "outlinewidth": 0,
              "ticks": ""
             }
            },
            "type": "scatter"
           }
          ],
          "scatter3d": [
           {
            "line": {
             "colorbar": {
              "outlinewidth": 0,
              "ticks": ""
             }
            },
            "marker": {
             "colorbar": {
              "outlinewidth": 0,
              "ticks": ""
             }
            },
            "type": "scatter3d"
           }
          ],
          "scattercarpet": [
           {
            "marker": {
             "colorbar": {
              "outlinewidth": 0,
              "ticks": ""
             }
            },
            "type": "scattercarpet"
           }
          ],
          "scattergeo": [
           {
            "marker": {
             "colorbar": {
              "outlinewidth": 0,
              "ticks": ""
             }
            },
            "type": "scattergeo"
           }
          ],
          "scattergl": [
           {
            "marker": {
             "colorbar": {
              "outlinewidth": 0,
              "ticks": ""
             }
            },
            "type": "scattergl"
           }
          ],
          "scattermapbox": [
           {
            "marker": {
             "colorbar": {
              "outlinewidth": 0,
              "ticks": ""
             }
            },
            "type": "scattermapbox"
           }
          ],
          "scatterpolar": [
           {
            "marker": {
             "colorbar": {
              "outlinewidth": 0,
              "ticks": ""
             }
            },
            "type": "scatterpolar"
           }
          ],
          "scatterpolargl": [
           {
            "marker": {
             "colorbar": {
              "outlinewidth": 0,
              "ticks": ""
             }
            },
            "type": "scatterpolargl"
           }
          ],
          "scatterternary": [
           {
            "marker": {
             "colorbar": {
              "outlinewidth": 0,
              "ticks": ""
             }
            },
            "type": "scatterternary"
           }
          ],
          "surface": [
           {
            "colorbar": {
             "outlinewidth": 0,
             "ticks": ""
            },
            "colorscale": [
             [
              0,
              "#0d0887"
             ],
             [
              0.1111111111111111,
              "#46039f"
             ],
             [
              0.2222222222222222,
              "#7201a8"
             ],
             [
              0.3333333333333333,
              "#9c179e"
             ],
             [
              0.4444444444444444,
              "#bd3786"
             ],
             [
              0.5555555555555556,
              "#d8576b"
             ],
             [
              0.6666666666666666,
              "#ed7953"
             ],
             [
              0.7777777777777778,
              "#fb9f3a"
             ],
             [
              0.8888888888888888,
              "#fdca26"
             ],
             [
              1,
              "#f0f921"
             ]
            ],
            "type": "surface"
           }
          ],
          "table": [
           {
            "cells": {
             "fill": {
              "color": "#EBF0F8"
             },
             "line": {
              "color": "white"
             }
            },
            "header": {
             "fill": {
              "color": "#C8D4E3"
             },
             "line": {
              "color": "white"
             }
            },
            "type": "table"
           }
          ]
         },
         "layout": {
          "annotationdefaults": {
           "arrowcolor": "#2a3f5f",
           "arrowhead": 0,
           "arrowwidth": 1
          },
          "autotypenumbers": "strict",
          "coloraxis": {
           "colorbar": {
            "outlinewidth": 0,
            "ticks": ""
           }
          },
          "colorscale": {
           "diverging": [
            [
             0,
             "#8e0152"
            ],
            [
             0.1,
             "#c51b7d"
            ],
            [
             0.2,
             "#de77ae"
            ],
            [
             0.3,
             "#f1b6da"
            ],
            [
             0.4,
             "#fde0ef"
            ],
            [
             0.5,
             "#f7f7f7"
            ],
            [
             0.6,
             "#e6f5d0"
            ],
            [
             0.7,
             "#b8e186"
            ],
            [
             0.8,
             "#7fbc41"
            ],
            [
             0.9,
             "#4d9221"
            ],
            [
             1,
             "#276419"
            ]
           ],
           "sequential": [
            [
             0,
             "#0d0887"
            ],
            [
             0.1111111111111111,
             "#46039f"
            ],
            [
             0.2222222222222222,
             "#7201a8"
            ],
            [
             0.3333333333333333,
             "#9c179e"
            ],
            [
             0.4444444444444444,
             "#bd3786"
            ],
            [
             0.5555555555555556,
             "#d8576b"
            ],
            [
             0.6666666666666666,
             "#ed7953"
            ],
            [
             0.7777777777777778,
             "#fb9f3a"
            ],
            [
             0.8888888888888888,
             "#fdca26"
            ],
            [
             1,
             "#f0f921"
            ]
           ],
           "sequentialminus": [
            [
             0,
             "#0d0887"
            ],
            [
             0.1111111111111111,
             "#46039f"
            ],
            [
             0.2222222222222222,
             "#7201a8"
            ],
            [
             0.3333333333333333,
             "#9c179e"
            ],
            [
             0.4444444444444444,
             "#bd3786"
            ],
            [
             0.5555555555555556,
             "#d8576b"
            ],
            [
             0.6666666666666666,
             "#ed7953"
            ],
            [
             0.7777777777777778,
             "#fb9f3a"
            ],
            [
             0.8888888888888888,
             "#fdca26"
            ],
            [
             1,
             "#f0f921"
            ]
           ]
          },
          "colorway": [
           "#636efa",
           "#EF553B",
           "#00cc96",
           "#ab63fa",
           "#FFA15A",
           "#19d3f3",
           "#FF6692",
           "#B6E880",
           "#FF97FF",
           "#FECB52"
          ],
          "font": {
           "color": "#2a3f5f"
          },
          "geo": {
           "bgcolor": "white",
           "lakecolor": "white",
           "landcolor": "#E5ECF6",
           "showlakes": true,
           "showland": true,
           "subunitcolor": "white"
          },
          "hoverlabel": {
           "align": "left"
          },
          "hovermode": "closest",
          "mapbox": {
           "style": "light"
          },
          "paper_bgcolor": "white",
          "plot_bgcolor": "#E5ECF6",
          "polar": {
           "angularaxis": {
            "gridcolor": "white",
            "linecolor": "white",
            "ticks": ""
           },
           "bgcolor": "#E5ECF6",
           "radialaxis": {
            "gridcolor": "white",
            "linecolor": "white",
            "ticks": ""
           }
          },
          "scene": {
           "xaxis": {
            "backgroundcolor": "#E5ECF6",
            "gridcolor": "white",
            "gridwidth": 2,
            "linecolor": "white",
            "showbackground": true,
            "ticks": "",
            "zerolinecolor": "white"
           },
           "yaxis": {
            "backgroundcolor": "#E5ECF6",
            "gridcolor": "white",
            "gridwidth": 2,
            "linecolor": "white",
            "showbackground": true,
            "ticks": "",
            "zerolinecolor": "white"
           },
           "zaxis": {
            "backgroundcolor": "#E5ECF6",
            "gridcolor": "white",
            "gridwidth": 2,
            "linecolor": "white",
            "showbackground": true,
            "ticks": "",
            "zerolinecolor": "white"
           }
          },
          "shapedefaults": {
           "line": {
            "color": "#2a3f5f"
           }
          },
          "ternary": {
           "aaxis": {
            "gridcolor": "white",
            "linecolor": "white",
            "ticks": ""
           },
           "baxis": {
            "gridcolor": "white",
            "linecolor": "white",
            "ticks": ""
           },
           "bgcolor": "#E5ECF6",
           "caxis": {
            "gridcolor": "white",
            "linecolor": "white",
            "ticks": ""
           }
          },
          "title": {
           "x": 0.05
          },
          "xaxis": {
           "automargin": true,
           "gridcolor": "white",
           "linecolor": "white",
           "ticks": "",
           "title": {
            "standoff": 15
           },
           "zerolinecolor": "white",
           "zerolinewidth": 2
          },
          "yaxis": {
           "automargin": true,
           "gridcolor": "white",
           "linecolor": "white",
           "ticks": "",
           "title": {
            "standoff": 15
           },
           "zerolinecolor": "white",
           "zerolinewidth": 2
          }
         }
        },
        "xaxis": {
         "anchor": "y",
         "constrain": "domain",
         "domain": [
          0,
          1
         ],
         "scaleanchor": "y"
        },
        "yaxis": {
         "anchor": "x",
         "autorange": "reversed",
         "constrain": "domain",
         "domain": [
          0,
          1
         ]
        }
       }
      }
     },
     "metadata": {},
     "output_type": "display_data"
    }
   ],
   "source": [
    "fig = px.imshow(df.corr())\n",
    "fig.show()"
   ]
  },
  {
   "cell_type": "code",
   "execution_count": 10,
   "metadata": {},
   "outputs": [
    {
     "data": {
      "image/png": "[encoded data removed]",
      "text/plain": [
       "<Figure size 1080x720 with 2 Axes>"
      ]
     },
     "metadata": {
      "needs_background": "light"
     },
     "output_type": "display_data"
    }
   ],
   "source": [
    "plt.figure(figsize=(15,10))\n",
    "sns.heatmap(df.corr(),annot=True,cmap='Greens')\n",
    "plt.show()"
   ]
  },
  {
   "cell_type": "markdown",
   "metadata": {},
   "source": [
    "this metric is very helpful in understanding the relation between the features as high corelation implies highly related. we can see (infant_death,under-5 death), (GDP,percentage expenditure),(thinnes 1-19 years,thinness 5-9 years) these are some which have high correlation.\n",
    "this can also be seen intuitatively as in each tuple the mentioned parameter are almost similar in nature."
   ]
  },
  {
   "cell_type": "code",
   "execution_count": 11,
   "metadata": {},
   "outputs": [
    {
     "data": {
      "application/vnd.plotly.v1+json": {
       "config": {
        "plotlyServerURL": "https://plot.ly"
       },
       "data": [
        {
         "alignmentgroup": "True",
         "bingroup": "x",
         "hovertemplate": "Life expectancy =%{x}<br>count=%{y}<extra></extra>",
         "legendgroup": "",
         "marker": {
          "color": "#636efa",
          "pattern": {
           "shape": ""
          }
         },
         "name": "",
         "offsetgroup": "",
         "orientation": "v",
         "showlegend": false,
         "type": "histogram",
         "x": [
          65,
          59.9,
          59.9,
          59.5,
          59.2,
          58.8,
          58.6,
          58.1,
          57.5,
          57.3,
          57.3,
          57,
          56.7,
          56.2,
          55.3,
          54.8,
          77.8,
          77.5,
          77.2,
          76.9,
          76.6,
          76.2,
          76.1,
          75.3,
          75.9,
          74.2,
          73.5,
          73,
          72.8,
          73.3,
          73.6,
          72.6,
          75.4,
          75.3,
          75.1,
          74.9,
          74.7,
          74.4,
          74.1,
          73.8,
          73.4,
          72.9,
          72.3,
          51.7,
          51.1,
          56,
          51,
          49.6,
          49.1,
          48.7,
          48.2,
          76.2,
          76,
          75.9,
          75.7,
          75.5,
          75.6,
          75.4,
          74.8,
          75.2,
          74.9,
          74.7,
          74.1,
          74.1,
          74.6,
          74.4,
          74.4,
          73.9,
          73.5,
          73.3,
          73.2,
          73.5,
          72.9,
          73,
          73,
          72.7,
          72.6,
          72.6,
          72,
          82.7,
          82.5,
          82.3,
          82,
          81.9,
          81.7,
          81.3,
          81.3,
          81.2,
          81,
          86,
          83,
          79.9,
          79.9,
          81.4,
          81.1,
          88,
          88,
          84,
          82,
          84,
          81,
          79.8,
          79.4,
          79.3,
          78.8,
          78.7,
          78.6,
          78.1,
          72.5,
          72.2,
          71.9,
          71.6,
          71.1,
          78,
          73,
          73,
          69.2,
          68.4,
          68.4,
          67.8,
          67.8,
          71.4,
          71,
          77,
          73,
          69.9,
          69.5,
          69.1,
          68.6,
          68.2,
          67.8,
          67.3,
          66.8,
          72,
          71.7,
          71.9,
          72,
          73,
          70,
          70,
          69.8,
          68.9,
          68.1,
          68.2,
          67.7,
          67.2,
          67.7,
          68,
          89,
          87,
          83,
          83,
          80,
          79.8,
          79.5,
          79.5,
          79.4,
          78.9,
          78.8,
          78.3,
          78,
          78,
          77.6,
          70,
          69.8,
          69.4,
          69.4,
          69.5,
          69.5,
          69.6,
          69.6,
          69.4,
          69,
          68.7,
          68.4,
          68.5,
          68.2,
          68.3,
          59.7,
          59.5,
          59.3,
          59.1,
          58.7,
          58.4,
          57.6,
          57.1,
          56.8,
          56.5,
          56.1,
          55.8,
          55.6,
          69.4,
          69.1,
          68.7,
          68.3,
          67.9,
          67.4,
          67,
          66.5,
          65.8,
          65,
          64.2,
          63.3,
          62.5,
          61.7,
          62,
          77.2,
          77,
          76.8,
          76.9,
          76.4,
          76.1,
          76,
          75.4,
          75.7,
          75,
          75.5,
          65.1,
          64.2,
          63.4,
          62.2,
          61.1,
          59.2,
          57.5,
          56.9,
          54.8,
          51.7,
          48.1,
          46.4,
          46,
          46.7,
          47.8,
          74.8,
          74.7,
          74.5,
          74.1,
          73.8,
          73.6,
          73.4,
          73.3,
          73,
          72.7,
          72,
          71.8,
          71.4,
          71,
          75,
          74.3,
          74.1,
          73.9,
          73.7,
          73.4,
          73.2,
          72.9,
          72.6,
          72.2,
          72.1,
          72.2,
          72,
          71.8,
          71.6,
          71.1,
          59.3,
          59,
          58.6,
          58.1,
          57.5,
          56.9,
          56.1,
          55.3,
          54.3,
          59.1,
          58.6,
          58,
          57.4,
          56.8,
          56.2,
          55.3,
          54.8,
          54.1,
          53.4,
          52.6,
          73,
          72.8,
          72.7,
          72.6,
          72.5,
          72.4,
          72.4,
          72.3,
          72.1,
          71.8,
          71.4,
          71.1,
          77,
          68.3,
          67.8,
          67.4,
          67,
          66.6,
          66.1,
          65.6,
          65,
          64.1,
          56.7,
          56.4,
          55.9,
          55.6,
          55.3,
          54.8,
          54.2,
          53.6,
          53.3,
          52.8,
          82,
          81.8,
          81.6,
          81.5,
          81.2,
          81,
          87,
          85,
          85,
          81,
          80,
          79.7,
          58,
          49.9,
          53,
          49.8,
          49.2,
          48.6,
          52.6,
          52.2,
          51.8,
          51.6,
          51.2,
          57,
          49.6,
          83,
          81,
          79.9,
          79.8,
          79.1,
          79.3,
          79.6,
          78.9,
          78.9,
          75.8,
          75.6,
          75.4,
          75.2,
          75,
          74.9,
          74.5,
          74.4,
          74.2,
          73.9,
          73.5,
          73.1,
          72.7,
          72.2,
          71.7,
          74.6,
          74.4,
          74.3,
          74.2,
          73.6,
          73.6,
          73.5,
          73.5,
          73.1,
          73.1,
          72.8,
          72.4,
          71.8,
          71.5,
          71.4,
          63.2,
          62.9,
          62.5,
          62.2,
          61.8,
          61.3,
          61,
          66,
          63,
          60,
          59.8,
          59.6,
          79.5,
          79.4,
          79.2,
          79,
          78.1,
          79.2,
          78.9,
          78.9,
          78,
          78.6,
          77.7,
          78,
          78.3,
          77.5,
          77.6,
          77.8,
          77.7,
          77.1,
          77,
          76.6,
          76.3,
          76,
          75.8,
          83,
          81,
          80,
          79.7,
          79.5,
          79.3,
          79.1,
          78.9,
          78.8,
          78.7,
          78.6,
          78.5,
          78.4,
          78.2,
          78.1,
          63,
          62.7,
          62.2,
          61.8,
          61.3,
          69,
          62,
          59.8,
          73.6,
          73.4,
          72.1,
          73.1,
          72.7,
          73.6,
          73.3,
          72.9,
          72.3,
          69.7,
          69.3,
          73,
          71.4,
          71.2,
          72,
          76,
          76,
          75.5,
          75.3,
          75,
          75.1,
          74.6,
          74.7,
          74.4,
          74.2,
          74.4,
          74.4,
          73.6,
          73.4,
          72.8,
          73.3,
          73,
          73,
          72,
          72,
          71.4,
          71.7,
          71.2,
          75,
          71,
          70,
          69.9,
          73,
          68.9,
          69,
          57.9,
          62.9,
          62.1,
          61.4,
          67,
          62,
          59.7,
          59.4,
          59.1,
          58.8,
          58.5,
          77.3,
          76.9,
          76.3,
          76.1,
          75.6,
          74.9,
          74.2,
          73,
          73,
          72.8,
          72.3,
          64.2,
          63.7,
          63.3,
          62.6,
          61.8,
          68,
          59.8,
          58.5,
          69.7,
          69.6,
          69.4,
          69.2,
          69.1,
          68.9,
          68.7,
          68.6,
          68.5,
          68.3,
          68.1,
          68,
          67.9,
          67.8,
          67.7,
          82.2,
          82,
          81.5,
          81.7,
          81.3,
          81.1,
          89,
          89,
          86,
          81,
          82,
          79.3,
          79.2,
          79,
          78.8,
          65.5,
          64.6,
          63.5,
          62.8,
          62.3,
          61.7,
          61.6,
          61.6,
          61.4,
          65,
          74.5,
          74.5,
          74.2,
          73.9,
          73.8,
          73.2,
          73.9,
          74.4,
          73.9,
          73.9,
          72.3,
          72.7,
          71.7,
          73,
          71.8,
          89,
          86,
          86,
          85,
          81,
          80,
          79.9,
          79.8,
          79.6,
          79.2,
          79.1,
          78.5,
          78.4,
          78.3,
          78,
          62.1,
          61.9,
          61.6,
          61.2,
          69,
          66,
          63,
          59.9,
          59.4,
          58.9,
          58.3,
          57.9,
          57.6,
          88,
          86,
          84,
          85,
          83,
          80,
          79.9,
          79.4,
          79.7,
          79.3,
          79.2,
          79.1,
          79,
          78.7,
          78.2,
          71.7,
          71.4,
          71.3,
          71.1,
          77,
          76,
          79,
          75,
          69.7,
          69.2,
          58.1,
          58.8,
          58.4,
          58.1,
          57.8,
          57.3,
          56.8,
          56.4,
          58.4,
          58.1,
          57.6,
          57.1,
          56.7,
          56.3,
          66,
          65.9,
          65.8,
          65.6,
          65.9,
          66.1,
          66.3,
          65.7,
          65.2,
          65,
          65.1,
          65.3,
          65.3,
          65.4,
          63.1,
          62.7,
          74.5,
          74.3,
          74.1,
          73.9,
          73.6,
          73.4,
          73.2,
          73,
          72.8,
          72.5,
          72.2,
          71.9,
          71.6,
          71.3,
          71,
          68,
          67.6,
          67.3,
          66.8,
          66.4,
          66,
          65.5,
          65.2,
          64.8,
          64.4,
          64,
          68.9,
          68.7,
          68.5,
          68.3,
          68.1,
          67.9,
          67.7,
          67.5,
          67.3,
          67.2,
          65.3,
          66.9,
          66.7,
          66.5,
          66.3,
          67.9,
          69.5,
          76,
          77,
          76,
          74,
          69.3,
          65.9,
          64.7,
          66.8,
          67.2,
          81.2,
          81,
          85,
          84,
          86,
          82.2,
          82.1,
          81.8,
          81.8,
          81.7,
          81.5,
          81,
          84,
          84,
          80,
          81,
          79.7,
          79.3,
          79.3,
          78.9,
          82.5,
          82.3,
          82,
          82,
          81.8,
          81.6,
          81.5,
          81.3,
          81.2,
          88,
          89,
          79.9,
          80,
          79.8,
          79.4,
          75.8,
          75.6,
          75.3,
          75.2,
          75,
          74.7,
          74.5,
          74.2,
          74,
          73.5,
          73.3,
          73.1,
          74,
          73.9,
          73.7,
          73.6,
          73.4,
          73.3,
          73.1,
          73,
          72.8,
          72.4,
          72.5,
          72.3,
          72.1,
          71.9,
          71.7,
          69.9,
          69.5,
          69.1,
          68.5,
          67.8,
          67.8,
          66.6,
          65.3,
          65,
          64.6,
          64.7,
          64.4,
          64.7,
          64.4,
          63.9,
          62.9,
          62.6,
          62.1,
          61.2,
          63,
          59.1,
          57.9,
          56.8,
          55.3,
          54.1,
          53,
          52.4,
          52.1,
          66.1,
          65.8,
          65.7,
          65.5,
          65.3,
          65.2,
          65.1,
          65,
          65,
          64.9,
          64.8,
          64.7,
          64.6,
          64.3,
          64.1,
          74.4,
          74.1,
          73.8,
          73.6,
          72.8,
          72.6,
          71.9,
          78,
          75,
          76,
          71,
          78,
          73,
          69.9,
          71,
          74.8,
          74.9,
          75,
          75,
          74.9,
          74.7,
          74.5,
          74.4,
          74.1,
          73.9,
          73.7,
          73.5,
          73.2,
          73,
          72.7,
          52.1,
          52.1,
          52.2,
          52.3,
          51.1,
          49.4,
          47.8,
          46.2,
          45.3,
          44.5,
          44.8,
          45.5,
          58.1,
          61.1,
          67,
          62,
          59.7,
          59.2,
          58.6,
          73.4,
          73,
          73,
          72.8,
          72.4,
          72.2,
          71.1,
          72,
          76,
          78,
          71.6,
          71.6,
          71.4,
          71.2,
          71.6,
          81.7,
          81.4,
          81.1,
          88,
          86,
          83,
          80,
          79.7,
          79.4,
          78.8,
          78.7,
          78.6,
          78.3,
          78,
          77.8,
          65.1,
          64.7,
          64.3,
          63.8,
          63.3,
          62.8,
          62.3,
          61.9,
          61.4,
          69,
          64,
          59.9,
          59.3,
          57.6,
          56.7,
          55.3,
          54.1,
          52.9,
          51.5,
          50,
          48.5,
          47.1,
          46,
          45.1,
          44.6,
          44,
          74.8,
          74.6,
          74.5,
          74.3,
          74.1,
          74,
          73.8,
          73.7,
          73.6,
          73.4,
          73.2,
          73.1,
          72.9,
          72.7,
          72.4,
          78.2,
          77.9,
          77.6,
          77.3,
          76.7,
          76.3,
          75.9,
          75.4,
          75,
          74.3,
          73.4,
          72.7,
          71.8,
          78,
          69.6,
          57.8,
          57.3,
          57.2,
          56.8,
          56.5,
          56,
          55.5,
          55,
          54.3,
          53.6,
          52.8,
          52,
          81.4,
          81.1,
          81,
          87,
          83,
          82,
          80,
          79.6,
          79.3,
          79,
          78.7,
          78.5,
          63,
          62.7,
          62.5,
          62.2,
          62,
          61.7,
          61.4,
          61.2,
          69,
          66,
          74.2,
          74.1,
          73.9,
          73.6,
          73.3,
          72.8,
          72.7,
          72.9,
          71.8,
          72.1,
          71.9,
          71.5,
          71.5,
          71.5,
          71,
          76.6,
          76.6,
          76.3,
          76.1,
          75.6,
          75.7,
          75.6,
          76,
          75.8,
          75.3,
          75.4,
          75,
          75,
          75,
          74.8,
          68.4,
          68.1,
          67.8,
          67.3,
          66.3,
          66.9,
          67.4,
          65.9,
          65,
          64.5,
          64,
          64,
          63.8,
          63.2,
          62.8,
          75.9,
          75.8,
          75.6,
          75.4,
          75.3,
          75,
          74.6,
          74.2,
          73.8,
          74.1,
          73.9,
          73.6,
          73.3,
          72.8,
          72.3,
          71.8,
          71.4,
          71,
          77,
          72,
          69.9,
          69.5,
          69,
          68.6,
          56.7,
          55.3,
          54.8,
          54.3,
          54,
          53.8,
          53.2,
          52.1,
          51.2,
          58,
          54,
          51,
          49.8,
          49.5,
          66.4,
          66.2,
          65.9,
          65.6,
          65.4,
          65.2,
          59.2,
          64.5,
          64.2,
          63.9,
          63.5,
          63.2,
          65.9,
          66.1,
          65.8,
          64.3,
          63,
          69.6,
          69.3,
          68.9,
          68.4,
          68,
          67.5,
          67,
          66.6,
          66,
          65.4,
          64.7,
          64.3,
          81.7,
          81.4,
          81.1,
          81.1,
          74.5,
          73.9,
          73.9,
          74.5,
          73.2,
          73.2,
          72.5,
          72.5,
          73,
          71.2,
          71,
          76,
          75,
          73,
          73,
          61.4,
          69,
          63,
          59.4,
          58.2,
          57.1,
          53.6,
          53.2,
          52.7,
          52.3,
          52,
          51.6,
          59,
          55,
          49.8,
          49.2,
          66.2,
          66,
          65.7,
          65.5,
          65.1,
          64.8,
          64.6,
          64.4,
          64.2,
          62.9,
          63.7,
          63.5,
          77.6,
          77.5,
          77.2,
          77.3,
          76.5,
          76.8,
          76.5,
          76.4,
          76.2,
          75.8,
          75.8,
          75.5,
          75.7,
          75.5,
          62.7,
          62.4,
          62.2,
          62,
          61.8,
          61.6,
          61.4,
          61.1,
          68,
          64,
          59.9,
          59.6,
          59.3,
          59.1,
          58.9,
          73.9,
          73.8,
          73.6,
          73.4,
          73.2,
          73,
          72.7,
          72.5,
          72.3,
          72.1,
          71.9,
          71.7,
          75.3,
          75.3,
          74.9,
          74.5,
          73.7,
          73.8,
          73.9,
          74,
          74.2,
          72.8,
          72.2,
          72.1,
          68.4,
          68.1,
          68.1,
          68,
          67.9,
          68,
          67.5,
          67.5,
          67.3,
          67,
          67.3,
          67.2,
          66.8,
          66.8,
          66.8,
          77.3,
          77.1,
          76.8,
          76.7,
          76.3,
          75.7,
          75.5,
          75.3,
          75.2,
          75,
          74.9,
          74.7,
          74.5,
          74.2,
          73.7,
          89,
          86,
          83,
          82,
          79.6,
          79.3,
          79,
          78.7,
          78.5,
          77.7,
          78,
          77.3,
          77.2,
          76.9,
          76.6,
          74.8,
          74.6,
          74.4,
          74.3,
          73.4,
          73.1,
          73.1,
          72.9,
          72.5,
          71.9,
          71.7,
          71.1,
          77,
          78,
          77,
          73,
          70,
          69.6,
          69.4,
          68.4,
          68.2,
          67.5,
          67.3,
          66.4,
          65,
          64.9,
          64.6,
          64.8,
          65.1,
          65.7,
          65.2,
          64.6,
          63.8,
          62.8,
          61,
          68,
          59.6,
          57.6,
          55.3,
          53.4,
          52,
          57,
          73.8,
          73.6,
          73.2,
          73,
          72.6,
          76,
          72.5,
          72.2,
          72,
          71.6,
          71.4,
          79,
          76,
          75,
          72,
          67.3,
          67.1,
          66.9,
          66.6,
          66.2,
          65.8,
          65.4,
          65.1,
          64.7,
          64.3,
          63.8,
          63.4,
          66.4,
          66,
          65.6,
          64.9,
          64.3,
          63.5,
          62.8,
          62.1,
          61.3,
          65,
          59.7,
          75.4,
          75.3,
          74.9,
          74.6,
          74.4,
          74.1,
          74,
          73.8,
          73.6,
          73,
          73,
          73,
          72.9,
          72.7,
          72.6,
          72.4,
          72.3,
          72.2,
          72.2,
          72.2,
          72.2,
          72.1,
          72.1,
          72.1,
          72,
          71.8,
          48.1,
          54,
          49.7,
          48.9,
          48.1,
          47.1,
          46.2,
          45.3,
          68.8,
          68.8,
          68.7,
          68.5,
          68.3,
          68.1,
          68,
          67.6,
          67.6,
          67.4,
          67.1,
          66.8,
          66.5,
          66.2,
          65.8,
          62,
          69,
          59.2,
          58.9,
          58,
          56.5,
          55.3,
          54.5,
          54,
          53.8,
          53.7,
          54,
          54.9,
          56,
          57.3,
          82.6,
          82.4,
          82,
          82.1,
          81.9,
          81.6,
          81.3,
          89,
          88,
          81,
          81,
          79.4,
          79.5,
          79.4,
          79.1,
          74.7,
          74.6,
          74.5,
          74.5,
          74.5,
          71.8,
          72.3,
          73.7,
          73.8,
          74.2,
          69.1,
          73.9,
          71.4,
          71.2,
          71.3,
          76,
          73,
          70,
          69.8,
          69.5,
          69.3,
          68.9,
          58.4,
          57.6,
          56.5,
          55,
          53.6,
          52.6,
          51.4,
          50,
          47.8,
          46,
          45.6,
          45.9,
          46.4,
          47.1,
          48.4,
          82.3,
          81.9,
          81.7,
          81.7,
          73.8,
          73.7,
          73.5,
          73.2,
          73,
          72.8,
          72.7,
          72.6,
          69.6,
          69.3,
          68.8,
          68.1,
          67.3,
          66.7,
          66.4,
          66.1,
          65.9,
          65.5,
          65.9,
          65.2,
          64.3,
          74.6,
          74.5,
          74.3,
          74.1,
          73.9,
          73.7,
          73.5,
          73.3,
          73,
          72.5,
          71.6,
          71.7,
          71.4,
          71.2,
          71.1,
          68,
          67.7,
          67.4,
          67.2,
          66.9,
          66.6,
          66.2,
          59.7,
          59.4,
          58.9,
          58.3,
          57.4,
          56.7,
          56.2,
          73.3,
          73.2,
          73,
          72.9,
          72.8,
          72.5,
          72.6,
          72.5,
          72.4,
          72.3,
          72.2,
          72,
          71.9,
          71.8,
          71.6,
          71.1,
          71,
          78,
          76,
          74,
          71,
          69.9,
          69.7,
          69.6,
          69.5,
          69.4,
          69.3,
          69.2,
          75.1,
          74.9,
          74.9,
          74.8,
          74.8,
          74.7,
          74.7,
          74.6,
          74.4,
          74.2,
          74,
          73.7,
          73.5,
          73.2,
          72.9,
          75.5,
          75.2,
          74.8,
          74.5,
          74.2,
          73.9,
          73.5,
          73.2,
          72.8,
          72.4,
          72,
          71.6,
          71.2,
          78,
          74,
          66,
          65.4,
          65.6,
          65.6,
          65.8,
          65.6,
          64.5,
          64.1,
          63.7,
          63.3,
          63.5,
          63.4,
          63.3,
          61.5,
          67,
          60,
          59.3,
          58.4,
          57.5,
          56.3,
          55.5,
          54.9,
          53.2,
          51.3,
          51,
          48.8,
          78,
          71,
          77,
          75,
          69.8,
          69.2,
          67.7,
          67.5,
          67.7,
          67,
          67.4,
          67.6,
          67.6,
          67.7,
          67.5,
          76.8,
          76.8,
          76.5,
          77,
          76.3,
          76.6,
          76.4,
          75.4,
          76.2,
          75.7,
          75.4,
          75.4,
          75.4,
          75.2,
          75.1,
          69.2,
          69.1,
          68.8,
          68.5,
          68.3,
          68,
          67.9,
          67.8,
          67.6,
          67.3,
          67.8,
          67.2,
          67.1,
          71.7,
          71.6,
          71.4,
          71.2,
          71,
          78,
          75,
          73,
          71,
          69.9,
          69.6,
          69.4,
          69.3,
          69.1,
          69,
          61.1,
          63,
          59.2,
          58.2,
          58,
          57.4,
          55.7,
          52.6,
          58,
          49.3,
          59.2,
          58,
          56.6,
          54.9,
          52.4,
          50,
          48.2,
          46.6,
          45.4,
          44.6,
          44.3,
          44.5,
          44.8,
          45.3,
          46
         ],
         "xaxis": "x",
         "yaxis": "y"
        }
       ],
       "layout": {
        "barmode": "relative",
        "legend": {
         "tracegroupgap": 0
        },
        "margin": {
         "t": 60
        },
        "template": {
         "data": {
          "bar": [
           {
            "error_x": {
             "color": "#f2f5fa"
            },
            "error_y": {
             "color": "#f2f5fa"
            },
            "marker": {
             "line": {
              "color": "rgb(17,17,17)",
              "width": 0.5
             },
             "pattern": {
              "fillmode": "overlay",
              "size": 10,
              "solidity": 0.2
             }
            },
            "type": "bar"
           }
          ],
          "barpolar": [
           {
            "marker": {
             "line": {
              "color": "rgb(17,17,17)",
              "width": 0.5
             },
             "pattern": {
              "fillmode": "overlay",
              "size": 10,
              "solidity": 0.2
             }
            },
            "type": "barpolar"
           }
          ],
          "carpet": [
           {
            "aaxis": {
             "endlinecolor": "#A2B1C6",
             "gridcolor": "#506784",
             "linecolor": "#506784",
             "minorgridcolor": "#506784",
             "startlinecolor": "#A2B1C6"
            },
            "baxis": {
             "endlinecolor": "#A2B1C6",
             "gridcolor": "#506784",
             "linecolor": "#506784",
             "minorgridcolor": "#506784",
             "startlinecolor": "#A2B1C6"
            },
            "type": "carpet"
           }
          ],
          "choropleth": [
           {
            "colorbar": {
             "outlinewidth": 0,
             "ticks": ""
            },
            "type": "choropleth"
           }
          ],
          "contour": [
           {
            "colorbar": {
             "outlinewidth": 0,
             "ticks": ""
            },
            "colorscale": [
             [
              0,
              "#0d0887"
             ],
             [
              0.1111111111111111,
              "#46039f"
             ],
             [
              0.2222222222222222,
              "#7201a8"
             ],
             [
              0.3333333333333333,
              "#9c179e"
             ],
             [
              0.4444444444444444,
              "#bd3786"
             ],
             [
              0.5555555555555556,
              "#d8576b"
             ],
             [
              0.6666666666666666,
              "#ed7953"
             ],
             [
              0.7777777777777778,
              "#fb9f3a"
             ],
             [
              0.8888888888888888,
              "#fdca26"
             ],
             [
              1,
              "#f0f921"
             ]
            ],
            "type": "contour"
           }
          ],
          "contourcarpet": [
           {
            "colorbar": {
             "outlinewidth": 0,
             "ticks": ""
            },
            "type": "contourcarpet"
           }
          ],
          "heatmap": [
           {
            "colorbar": {
             "outlinewidth": 0,
             "ticks": ""
            },
            "colorscale": [
             [
              0,
              "#0d0887"
             ],
             [
              0.1111111111111111,
              "#46039f"
             ],
             [
              0.2222222222222222,
              "#7201a8"
             ],
             [
              0.3333333333333333,
              "#9c179e"
             ],
             [
              0.4444444444444444,
              "#bd3786"
             ],
             [
              0.5555555555555556,
              "#d8576b"
             ],
             [
              0.6666666666666666,
              "#ed7953"
             ],
             [
              0.7777777777777778,
              "#fb9f3a"
             ],
             [
              0.8888888888888888,
              "#fdca26"
             ],
             [
              1,
              "#f0f921"
             ]
            ],
            "type": "heatmap"
           }
          ],
          "heatmapgl": [
           {
            "colorbar": {
             "outlinewidth": 0,
             "ticks": ""
            },
            "colorscale": [
             [
              0,
              "#0d0887"
             ],
             [
              0.1111111111111111,
              "#46039f"
             ],
             [
              0.2222222222222222,
              "#7201a8"
             ],
             [
              0.3333333333333333,
              "#9c179e"
             ],
             [
              0.4444444444444444,
              "#bd3786"
             ],
             [
              0.5555555555555556,
              "#d8576b"
             ],
             [
              0.6666666666666666,
              "#ed7953"
             ],
             [
              0.7777777777777778,
              "#fb9f3a"
             ],
             [
              0.8888888888888888,
              "#fdca26"
             ],
             [
              1,
              "#f0f921"
             ]
            ],
            "type": "heatmapgl"
           }
          ],
          "histogram": [
           {
            "marker": {
             "pattern": {
              "fillmode": "overlay",
              "size": 10,
              "solidity": 0.2
             }
            },
            "type": "histogram"
           }
          ],
          "histogram2d": [
           {
            "colorbar": {
             "outlinewidth": 0,
             "ticks": ""
            },
            "colorscale": [
             [
              0,
              "#0d0887"
             ],
             [
              0.1111111111111111,
              "#46039f"
             ],
             [
              0.2222222222222222,
              "#7201a8"
             ],
             [
              0.3333333333333333,
              "#9c179e"
             ],
             [
              0.4444444444444444,
              "#bd3786"
             ],
             [
              0.5555555555555556,
              "#d8576b"
             ],
             [
              0.6666666666666666,
              "#ed7953"
             ],
             [
              0.7777777777777778,
              "#fb9f3a"
             ],
             [
              0.8888888888888888,
              "#fdca26"
             ],
             [
              1,
              "#f0f921"
             ]
            ],
            "type": "histogram2d"
           }
          ],
          "histogram2dcontour": [
           {
            "colorbar": {
             "outlinewidth": 0,
             "ticks": ""
            },
            "colorscale": [
             [
              0,
              "#0d0887"
             ],
             [
              0.1111111111111111,
              "#46039f"
             ],
             [
              0.2222222222222222,
              "#7201a8"
             ],
             [
              0.3333333333333333,
              "#9c179e"
             ],
             [
              0.4444444444444444,
              "#bd3786"
             ],
             [
              0.5555555555555556,
              "#d8576b"
             ],
             [
              0.6666666666666666,
              "#ed7953"
             ],
             [
              0.7777777777777778,
              "#fb9f3a"
             ],
             [
              0.8888888888888888,
              "#fdca26"
             ],
             [
              1,
              "#f0f921"
             ]
            ],
            "type": "histogram2dcontour"
           }
          ],
          "mesh3d": [
           {
            "colorbar": {
             "outlinewidth": 0,
             "ticks": ""
            },
            "type": "mesh3d"
           }
          ],
          "parcoords": [
           {
            "line": {
             "colorbar": {
              "outlinewidth": 0,
              "ticks": ""
             }
            },
            "type": "parcoords"
           }
          ],
          "pie": [
           {
            "automargin": true,
            "type": "pie"
           }
          ],
          "scatter": [
           {
            "marker": {
             "line": {
              "color": "#283442"
             }
            },
            "type": "scatter"
           }
          ],
          "scatter3d": [
           {
            "line": {
             "colorbar": {
              "outlinewidth": 0,
              "ticks": ""
             }
            },
            "marker": {
             "colorbar": {
              "outlinewidth": 0,
              "ticks": ""
             }
            },
            "type": "scatter3d"
           }
          ],
          "scattercarpet": [
           {
            "marker": {
             "colorbar": {
              "outlinewidth": 0,
              "ticks": ""
             }
            },
            "type": "scattercarpet"
           }
          ],
          "scattergeo": [
           {
            "marker": {
             "colorbar": {
              "outlinewidth": 0,
              "ticks": ""
             }
            },
            "type": "scattergeo"
           }
          ],
          "scattergl": [
           {
            "marker": {
             "line": {
              "color": "#283442"
             }
            },
            "type": "scattergl"
           }
          ],
          "scattermapbox": [
           {
            "marker": {
             "colorbar": {
              "outlinewidth": 0,
              "ticks": ""
             }
            },
            "type": "scattermapbox"
           }
          ],
          "scatterpolar": [
           {
            "marker": {
             "colorbar": {
              "outlinewidth": 0,
              "ticks": ""
             }
            },
            "type": "scatterpolar"
           }
          ],
          "scatterpolargl": [
           {
            "marker": {
             "colorbar": {
              "outlinewidth": 0,
              "ticks": ""
             }
            },
            "type": "scatterpolargl"
           }
          ],
          "scatterternary": [
           {
            "marker": {
             "colorbar": {
              "outlinewidth": 0,
              "ticks": ""
             }
            },
            "type": "scatterternary"
           }
          ],
          "surface": [
           {
            "colorbar": {
             "outlinewidth": 0,
             "ticks": ""
            },
            "colorscale": [
             [
              0,
              "#0d0887"
             ],
             [
              0.1111111111111111,
              "#46039f"
             ],
             [
              0.2222222222222222,
              "#7201a8"
             ],
             [
              0.3333333333333333,
              "#9c179e"
             ],
             [
              0.4444444444444444,
              "#bd3786"
             ],
             [
              0.5555555555555556,
              "#d8576b"
             ],
             [
              0.6666666666666666,
              "#ed7953"
             ],
             [
              0.7777777777777778,
              "#fb9f3a"
             ],
             [
              0.8888888888888888,
              "#fdca26"
             ],
             [
              1,
              "#f0f921"
             ]
            ],
            "type": "surface"
           }
          ],
          "table": [
           {
            "cells": {
             "fill": {
              "color": "#506784"
             },
             "line": {
              "color": "rgb(17,17,17)"
             }
            },
            "header": {
             "fill": {
              "color": "#2a3f5f"
             },
             "line": {
              "color": "rgb(17,17,17)"
             }
            },
            "type": "table"
           }
          ]
         },
         "layout": {
          "annotationdefaults": {
           "arrowcolor": "#f2f5fa",
           "arrowhead": 0,
           "arrowwidth": 1
          },
          "autotypenumbers": "strict",
          "coloraxis": {
           "colorbar": {
            "outlinewidth": 0,
            "ticks": ""
           }
          },
          "colorscale": {
           "diverging": [
            [
             0,
             "#8e0152"
            ],
            [
             0.1,
             "#c51b7d"
            ],
            [
             0.2,
             "#de77ae"
            ],
            [
             0.3,
             "#f1b6da"
            ],
            [
             0.4,
             "#fde0ef"
            ],
            [
             0.5,
             "#f7f7f7"
            ],
            [
             0.6,
             "#e6f5d0"
            ],
            [
             0.7,
             "#b8e186"
            ],
            [
             0.8,
             "#7fbc41"
            ],
            [
             0.9,
             "#4d9221"
            ],
            [
             1,
             "#276419"
            ]
           ],
           "sequential": [
            [
             0,
             "#0d0887"
            ],
            [
             0.1111111111111111,
             "#46039f"
            ],
            [
             0.2222222222222222,
             "#7201a8"
            ],
            [
             0.3333333333333333,
             "#9c179e"
            ],
            [
             0.4444444444444444,
             "#bd3786"
            ],
            [
             0.5555555555555556,
             "#d8576b"
            ],
            [
             0.6666666666666666,
             "#ed7953"
            ],
            [
             0.7777777777777778,
             "#fb9f3a"
            ],
            [
             0.8888888888888888,
             "#fdca26"
            ],
            [
             1,
             "#f0f921"
            ]
           ],
           "sequentialminus": [
            [
             0,
             "#0d0887"
            ],
            [
             0.1111111111111111,
             "#46039f"
            ],
            [
             0.2222222222222222,
             "#7201a8"
            ],
            [
             0.3333333333333333,
             "#9c179e"
            ],
            [
             0.4444444444444444,
             "#bd3786"
            ],
            [
             0.5555555555555556,
             "#d8576b"
            ],
            [
             0.6666666666666666,
             "#ed7953"
            ],
            [
             0.7777777777777778,
             "#fb9f3a"
            ],
            [
             0.8888888888888888,
             "#fdca26"
            ],
            [
             1,
             "#f0f921"
            ]
           ]
          },
          "colorway": [
           "#636efa",
           "#EF553B",
           "#00cc96",
           "#ab63fa",
           "#FFA15A",
           "#19d3f3",
           "#FF6692",
           "#B6E880",
           "#FF97FF",
           "#FECB52"
          ],
          "font": {
           "color": "#f2f5fa"
          },
          "geo": {
           "bgcolor": "rgb(17,17,17)",
           "lakecolor": "rgb(17,17,17)",
           "landcolor": "rgb(17,17,17)",
           "showlakes": true,
           "showland": true,
           "subunitcolor": "#506784"
          },
          "hoverlabel": {
           "align": "left"
          },
          "hovermode": "closest",
          "mapbox": {
           "style": "dark"
          },
          "paper_bgcolor": "rgb(17,17,17)",
          "plot_bgcolor": "rgb(17,17,17)",
          "polar": {
           "angularaxis": {
            "gridcolor": "#506784",
            "linecolor": "#506784",
            "ticks": ""
           },
           "bgcolor": "rgb(17,17,17)",
           "radialaxis": {
            "gridcolor": "#506784",
            "linecolor": "#506784",
            "ticks": ""
           }
          },
          "scene": {
           "xaxis": {
            "backgroundcolor": "rgb(17,17,17)",
            "gridcolor": "#506784",
            "gridwidth": 2,
            "linecolor": "#506784",
            "showbackground": true,
            "ticks": "",
            "zerolinecolor": "#C8D4E3"
           },
           "yaxis": {
            "backgroundcolor": "rgb(17,17,17)",
            "gridcolor": "#506784",
            "gridwidth": 2,
            "linecolor": "#506784",
            "showbackground": true,
            "ticks": "",
            "zerolinecolor": "#C8D4E3"
           },
           "zaxis": {
            "backgroundcolor": "rgb(17,17,17)",
            "gridcolor": "#506784",
            "gridwidth": 2,
            "linecolor": "#506784",
            "showbackground": true,
            "ticks": "",
            "zerolinecolor": "#C8D4E3"
           }
          },
          "shapedefaults": {
           "line": {
            "color": "#f2f5fa"
           }
          },
          "sliderdefaults": {
           "bgcolor": "#C8D4E3",
           "bordercolor": "rgb(17,17,17)",
           "borderwidth": 1,
           "tickwidth": 0
          },
          "ternary": {
           "aaxis": {
            "gridcolor": "#506784",
            "linecolor": "#506784",
            "ticks": ""
           },
           "baxis": {
            "gridcolor": "#506784",
            "linecolor": "#506784",
            "ticks": ""
           },
           "bgcolor": "rgb(17,17,17)",
           "caxis": {
            "gridcolor": "#506784",
            "linecolor": "#506784",
            "ticks": ""
           }
          },
          "title": {
           "x": 0.05
          },
          "updatemenudefaults": {
           "bgcolor": "#506784",
           "borderwidth": 0
          },
          "xaxis": {
           "automargin": true,
           "gridcolor": "#283442",
           "linecolor": "#506784",
           "ticks": "",
           "title": {
            "standoff": 15
           },
           "zerolinecolor": "#283442",
           "zerolinewidth": 2
          },
          "yaxis": {
           "automargin": true,
           "gridcolor": "#283442",
           "linecolor": "#506784",
           "ticks": "",
           "title": {
            "standoff": 15
           },
           "zerolinecolor": "#283442",
           "zerolinewidth": 2
          }
         }
        },
        "xaxis": {
         "anchor": "y",
         "domain": [
          0,
          1
         ],
         "title": {
          "text": "Life expectancy "
         }
        },
        "yaxis": {
         "anchor": "x",
         "domain": [
          0,
          1
         ],
         "title": {
          "text": "count"
         }
        }
       }
      }
     },
     "metadata": {},
     "output_type": "display_data"
    }
   ],
   "source": [
    "fig=px.histogram(df,x='Life expectancy ',template='plotly_dark')\n",
    "fig.show()"
   ]
  },
  {
   "cell_type": "markdown",
   "metadata": {},
   "source": [
    "this shows that the average life expectancy is between 70 to 80 years"
   ]
  },
  {
   "cell_type": "code",
   "execution_count": 12,
   "metadata": {},
   "outputs": [
    {
     "data": {
      "application/vnd.plotly.v1+json": {
       "config": {
        "plotlyServerURL": "https://plot.ly"
       },
       "data": [
        {
         "alignmentgroup": "True",
         "box": {
          "visible": false
         },
         "hovertemplate": "Status=Developing<br>Life expectancy =%{x}<extra></extra>",
         "legendgroup": "Developing",
         "marker": {
          "color": "#636efa"
         },
         "name": "Developing",
         "offsetgroup": "Developing",
         "orientation": "h",
         "scalegroup": "True",
         "showlegend": true,
         "type": "violin",
         "x": [
          65,
          59.9,
          59.9,
          59.5,
          59.2,
          58.8,
          58.6,
          58.1,
          57.5,
          57.3,
          57.3,
          57,
          56.7,
          56.2,
          55.3,
          54.8,
          77.8,
          77.5,
          77.2,
          76.9,
          76.6,
          76.2,
          76.1,
          75.3,
          75.9,
          74.2,
          73.5,
          73,
          72.8,
          73.3,
          73.6,
          72.6,
          75.4,
          75.3,
          75.1,
          74.9,
          74.7,
          74.4,
          74.1,
          73.8,
          73.4,
          72.9,
          72.3,
          51.7,
          51.1,
          56,
          51,
          49.6,
          49.1,
          48.7,
          48.2,
          76.2,
          76,
          75.9,
          75.7,
          75.5,
          75.6,
          75.4,
          74.8,
          75.2,
          74.9,
          74.7,
          74.1,
          74.1,
          74.6,
          74.4,
          74.4,
          73.9,
          73.5,
          73.3,
          73.2,
          73.5,
          72.9,
          73,
          73,
          72.7,
          72.6,
          72.6,
          72,
          72.5,
          72.2,
          71.9,
          71.6,
          71.1,
          78,
          73,
          73,
          69.2,
          68.4,
          68.4,
          67.8,
          67.8,
          71.4,
          71,
          77,
          73,
          69.9,
          69.5,
          69.1,
          68.6,
          68.2,
          67.8,
          67.3,
          66.8,
          72,
          71.7,
          71.9,
          72,
          73,
          70,
          70,
          69.8,
          68.9,
          68.1,
          68.2,
          67.7,
          67.2,
          67.7,
          68,
          70,
          69.8,
          69.4,
          69.4,
          69.5,
          69.5,
          69.6,
          69.6,
          69.4,
          69,
          68.7,
          68.4,
          68.5,
          68.2,
          68.3,
          59.7,
          59.5,
          59.3,
          59.1,
          58.7,
          58.4,
          57.6,
          57.1,
          56.8,
          56.5,
          56.1,
          55.8,
          55.6,
          69.4,
          69.1,
          68.7,
          68.3,
          67.9,
          67.4,
          67,
          66.5,
          65.8,
          65,
          64.2,
          63.3,
          62.5,
          61.7,
          62,
          77.2,
          77,
          76.8,
          76.9,
          76.4,
          76.1,
          76,
          75.4,
          75.7,
          75,
          75.5,
          65.1,
          64.2,
          63.4,
          62.2,
          61.1,
          59.2,
          57.5,
          56.9,
          54.8,
          51.7,
          48.1,
          46.4,
          46,
          46.7,
          47.8,
          74.8,
          74.7,
          74.5,
          74.1,
          73.8,
          73.6,
          73.4,
          73.3,
          73,
          72.7,
          72,
          71.8,
          71.4,
          71,
          75,
          59.3,
          59,
          58.6,
          58.1,
          57.5,
          56.9,
          56.1,
          55.3,
          54.3,
          59.1,
          58.6,
          58,
          57.4,
          56.8,
          56.2,
          55.3,
          54.8,
          54.1,
          53.4,
          52.6,
          73,
          72.8,
          72.7,
          72.6,
          72.5,
          72.4,
          72.4,
          72.3,
          72.1,
          71.8,
          71.4,
          71.1,
          77,
          68.3,
          67.8,
          67.4,
          67,
          66.6,
          66.1,
          65.6,
          65,
          64.1,
          56.7,
          56.4,
          55.9,
          55.6,
          55.3,
          54.8,
          54.2,
          53.6,
          53.3,
          52.8,
          82,
          81.8,
          81.6,
          81.5,
          81.2,
          81,
          87,
          85,
          85,
          81,
          80,
          79.7,
          58,
          49.9,
          53,
          49.8,
          49.2,
          48.6,
          52.6,
          52.2,
          51.8,
          51.6,
          51.2,
          57,
          49.6,
          83,
          81,
          79.9,
          79.8,
          79.1,
          79.3,
          79.6,
          78.9,
          78.9,
          75.8,
          75.6,
          75.4,
          75.2,
          75,
          74.9,
          74.5,
          74.4,
          74.2,
          73.9,
          73.5,
          73.1,
          72.7,
          72.2,
          71.7,
          74.6,
          74.4,
          74.3,
          74.2,
          73.6,
          73.6,
          73.5,
          73.5,
          73.1,
          73.1,
          72.8,
          72.4,
          71.8,
          71.5,
          71.4,
          63.2,
          62.9,
          62.5,
          62.2,
          61.8,
          61.3,
          61,
          66,
          63,
          60,
          59.8,
          59.6,
          79.5,
          79.4,
          79.2,
          79,
          78.1,
          79.2,
          78.9,
          78.9,
          78,
          78.6,
          77.7,
          78,
          78.3,
          77.5,
          77.6,
          63,
          62.7,
          62.2,
          61.8,
          61.3,
          69,
          62,
          59.8,
          73.6,
          73.4,
          72.1,
          73.1,
          72.7,
          73.6,
          73.3,
          72.9,
          72.3,
          69.7,
          69.3,
          73,
          71.4,
          71.2,
          72,
          76,
          76,
          75.5,
          75.3,
          75,
          75.1,
          74.6,
          74.7,
          74.4,
          74.2,
          74.4,
          74.4,
          73.6,
          73.4,
          72.8,
          73.3,
          73,
          73,
          72,
          72,
          71.4,
          71.7,
          71.2,
          75,
          71,
          70,
          69.9,
          73,
          68.9,
          69,
          57.9,
          62.9,
          62.1,
          61.4,
          67,
          62,
          59.7,
          59.4,
          59.1,
          58.8,
          58.5,
          77.3,
          76.9,
          76.3,
          76.1,
          75.6,
          74.9,
          74.2,
          73,
          73,
          72.8,
          72.3,
          64.2,
          63.7,
          63.3,
          62.6,
          61.8,
          68,
          59.8,
          58.5,
          69.7,
          69.6,
          69.4,
          69.2,
          69.1,
          68.9,
          68.7,
          68.6,
          68.5,
          68.3,
          68.1,
          68,
          67.9,
          67.8,
          67.7,
          82.2,
          82,
          81.5,
          81.7,
          81.3,
          81.1,
          89,
          89,
          86,
          81,
          82,
          79.3,
          79.2,
          79,
          78.8,
          65.5,
          64.6,
          63.5,
          62.8,
          62.3,
          61.7,
          61.6,
          61.6,
          61.4,
          65,
          74.5,
          74.5,
          74.2,
          73.9,
          73.8,
          73.2,
          73.9,
          74.4,
          73.9,
          73.9,
          72.3,
          72.7,
          71.7,
          73,
          71.8,
          62.1,
          61.9,
          61.6,
          61.2,
          69,
          66,
          63,
          59.9,
          59.4,
          58.9,
          58.3,
          57.9,
          57.6,
          88,
          86,
          84,
          85,
          83,
          80,
          79.9,
          79.4,
          79.7,
          79.3,
          79.2,
          79.1,
          79,
          78.7,
          78.2,
          71.7,
          71.4,
          71.3,
          71.1,
          77,
          76,
          79,
          75,
          69.7,
          69.2,
          58.1,
          58.8,
          58.4,
          58.1,
          57.8,
          57.3,
          56.8,
          56.4,
          58.4,
          58.1,
          57.6,
          57.1,
          56.7,
          56.3,
          66,
          65.9,
          65.8,
          65.6,
          65.9,
          66.1,
          66.3,
          65.7,
          65.2,
          65,
          65.1,
          65.3,
          65.3,
          65.4,
          63.1,
          62.7,
          74.5,
          74.3,
          74.1,
          73.9,
          73.6,
          73.4,
          73.2,
          73,
          72.8,
          72.5,
          72.2,
          71.9,
          71.6,
          71.3,
          71,
          68,
          67.6,
          67.3,
          66.8,
          66.4,
          66,
          65.5,
          65.2,
          64.8,
          64.4,
          64,
          68.9,
          68.7,
          68.5,
          68.3,
          68.1,
          67.9,
          67.7,
          67.5,
          67.3,
          67.2,
          65.3,
          66.9,
          66.7,
          66.5,
          66.3,
          67.9,
          69.5,
          76,
          77,
          76,
          74,
          69.3,
          65.9,
          64.7,
          66.8,
          67.2,
          82.2,
          82.1,
          81.8,
          81.8,
          81.7,
          81.5,
          81,
          84,
          84,
          80,
          81,
          79.7,
          79.3,
          79.3,
          78.9,
          75.8,
          75.6,
          75.3,
          75.2,
          75,
          74.7,
          74.5,
          74.2,
          74,
          73.5,
          73.3,
          73.1,
          74,
          73.9,
          73.7,
          73.6,
          73.4,
          73.3,
          73.1,
          73,
          72.8,
          72.4,
          72.5,
          72.3,
          72.1,
          71.9,
          71.7,
          69.9,
          69.5,
          69.1,
          68.5,
          67.8,
          67.8,
          66.6,
          65.3,
          65,
          64.6,
          64.7,
          64.4,
          64.7,
          64.4,
          63.9,
          62.9,
          62.6,
          62.1,
          61.2,
          63,
          59.1,
          57.9,
          56.8,
          55.3,
          54.1,
          53,
          52.4,
          52.1,
          66.1,
          65.8,
          65.7,
          65.5,
          65.3,
          65.2,
          65.1,
          65,
          65,
          64.9,
          64.8,
          64.7,
          64.6,
          64.3,
          64.1,
          74.8,
          74.9,
          75,
          75,
          74.9,
          74.7,
          74.5,
          74.4,
          74.1,
          73.9,
          73.7,
          73.5,
          73.2,
          73,
          72.7,
          52.1,
          52.1,
          52.2,
          52.3,
          51.1,
          49.4,
          47.8,
          46.2,
          45.3,
          44.5,
          44.8,
          45.5,
          58.1,
          61.1,
          67,
          62,
          59.7,
          59.2,
          58.6,
          65.1,
          64.7,
          64.3,
          63.8,
          63.3,
          62.8,
          62.3,
          61.9,
          61.4,
          69,
          64,
          59.9,
          59.3,
          57.6,
          56.7,
          55.3,
          54.1,
          52.9,
          51.5,
          50,
          48.5,
          47.1,
          46,
          45.1,
          44.6,
          44,
          74.8,
          74.6,
          74.5,
          74.3,
          74.1,
          74,
          73.8,
          73.7,
          73.6,
          73.4,
          73.2,
          73.1,
          72.9,
          72.7,
          72.4,
          78.2,
          77.9,
          77.6,
          77.3,
          76.7,
          76.3,
          75.9,
          75.4,
          75,
          74.3,
          73.4,
          72.7,
          71.8,
          78,
          69.6,
          57.8,
          57.3,
          57.2,
          56.8,
          56.5,
          56,
          55.5,
          55,
          54.3,
          53.6,
          52.8,
          52,
          63,
          62.7,
          62.5,
          62.2,
          62,
          61.7,
          61.4,
          61.2,
          69,
          66,
          74.2,
          74.1,
          73.9,
          73.6,
          73.3,
          72.8,
          72.7,
          72.9,
          71.8,
          72.1,
          71.9,
          71.5,
          71.5,
          71.5,
          71,
          76.6,
          76.6,
          76.3,
          76.1,
          75.6,
          75.7,
          75.6,
          76,
          75.8,
          75.3,
          75.4,
          75,
          75,
          75,
          74.8,
          68.4,
          68.1,
          67.8,
          67.3,
          66.3,
          66.9,
          67.4,
          65.9,
          65,
          64.5,
          64,
          64,
          63.8,
          63.2,
          62.8,
          75.9,
          75.8,
          75.6,
          75.4,
          75.3,
          75,
          74.6,
          74.2,
          73.8,
          74.1,
          73.9,
          73.6,
          73.3,
          72.8,
          72.3,
          71.8,
          71.4,
          71,
          77,
          72,
          69.9,
          69.5,
          69,
          68.6,
          56.7,
          55.3,
          54.8,
          54.3,
          54,
          53.8,
          53.2,
          52.1,
          51.2,
          58,
          54,
          51,
          49.8,
          49.5,
          66.4,
          66.2,
          65.9,
          65.6,
          65.4,
          65.2,
          59.2,
          64.5,
          64.2,
          63.9,
          63.5,
          63.2,
          65.9,
          66.1,
          65.8,
          64.3,
          63,
          69.6,
          69.3,
          68.9,
          68.4,
          68,
          67.5,
          67,
          66.6,
          66,
          65.4,
          64.7,
          64.3,
          74.5,
          73.9,
          73.9,
          74.5,
          73.2,
          73.2,
          72.5,
          72.5,
          73,
          71.2,
          71,
          76,
          75,
          73,
          73,
          61.4,
          69,
          63,
          59.4,
          58.2,
          57.1,
          53.6,
          53.2,
          52.7,
          52.3,
          52,
          51.6,
          59,
          55,
          49.8,
          49.2,
          66.2,
          66,
          65.7,
          65.5,
          65.1,
          64.8,
          64.6,
          64.4,
          64.2,
          62.9,
          63.7,
          63.5,
          77.6,
          77.5,
          77.2,
          77.3,
          76.5,
          76.8,
          76.5,
          76.4,
          76.2,
          75.8,
          75.8,
          75.5,
          75.7,
          75.5,
          62.7,
          62.4,
          62.2,
          62,
          61.8,
          61.6,
          61.4,
          61.1,
          68,
          64,
          59.9,
          59.6,
          59.3,
          59.1,
          58.9,
          73.9,
          73.8,
          73.6,
          73.4,
          73.2,
          73,
          72.7,
          72.5,
          72.3,
          72.1,
          71.9,
          71.7,
          75.3,
          75.3,
          74.9,
          74.5,
          73.7,
          73.8,
          73.9,
          74,
          74.2,
          72.8,
          72.2,
          72.1,
          68.4,
          68.1,
          68.1,
          68,
          67.9,
          68,
          67.5,
          67.5,
          67.3,
          67,
          67.3,
          67.2,
          66.8,
          66.8,
          66.8,
          73,
          70,
          69.6,
          69.4,
          68.4,
          68.2,
          67.5,
          67.3,
          66.4,
          65,
          64.9,
          64.6,
          64.8,
          65.1,
          65.7,
          65.2,
          64.6,
          63.8,
          62.8,
          61,
          68,
          59.6,
          57.6,
          55.3,
          53.4,
          52,
          57,
          73.8,
          73.6,
          73.2,
          73,
          72.6,
          76,
          72.5,
          72.2,
          72,
          71.6,
          71.4,
          79,
          76,
          75,
          72,
          67.3,
          67.1,
          66.9,
          66.6,
          66.2,
          65.8,
          65.4,
          65.1,
          64.7,
          64.3,
          63.8,
          63.4,
          66.4,
          66,
          65.6,
          64.9,
          64.3,
          63.5,
          62.8,
          62.1,
          61.3,
          65,
          59.7,
          75.4,
          75.3,
          74.9,
          74.6,
          74.4,
          74.1,
          74,
          73.8,
          73.6,
          73,
          73,
          73,
          72.9,
          72.7,
          72.6,
          72.4,
          72.3,
          72.2,
          72.2,
          72.2,
          72.2,
          72.1,
          72.1,
          72.1,
          72,
          71.8,
          48.1,
          54,
          49.7,
          48.9,
          48.1,
          47.1,
          46.2,
          45.3,
          68.8,
          68.8,
          68.7,
          68.5,
          68.3,
          68.1,
          68,
          67.6,
          67.6,
          67.4,
          67.1,
          66.8,
          66.5,
          66.2,
          65.8,
          62,
          69,
          59.2,
          58.9,
          58,
          56.5,
          55.3,
          54.5,
          54,
          53.8,
          53.7,
          54,
          54.9,
          56,
          57.3,
          74.7,
          74.6,
          74.5,
          74.5,
          74.5,
          71.8,
          72.3,
          73.7,
          73.8,
          74.2,
          69.1,
          73.9,
          71.4,
          71.2,
          71.3,
          76,
          73,
          70,
          69.8,
          69.5,
          69.3,
          68.9,
          58.4,
          57.6,
          56.5,
          55,
          53.6,
          52.6,
          51.4,
          50,
          47.8,
          46,
          45.6,
          45.9,
          46.4,
          47.1,
          48.4,
          73.8,
          73.7,
          73.5,
          73.2,
          73,
          72.8,
          72.7,
          72.6,
          69.6,
          69.3,
          68.8,
          68.1,
          67.3,
          66.7,
          66.4,
          66.1,
          65.9,
          65.5,
          65.9,
          65.2,
          64.3,
          74.6,
          74.5,
          74.3,
          74.1,
          73.9,
          73.7,
          73.5,
          73.3,
          73,
          72.5,
          71.6,
          71.7,
          71.4,
          71.2,
          71.1,
          68,
          67.7,
          67.4,
          67.2,
          66.9,
          66.6,
          66.2,
          59.7,
          59.4,
          58.9,
          58.3,
          57.4,
          56.7,
          56.2,
          73.3,
          73.2,
          73,
          72.9,
          72.8,
          72.5,
          72.6,
          72.5,
          72.4,
          72.3,
          72.2,
          72,
          71.9,
          71.8,
          71.6,
          71.1,
          71,
          78,
          76,
          74,
          71,
          69.9,
          69.7,
          69.6,
          69.5,
          69.4,
          69.3,
          69.2,
          75.1,
          74.9,
          74.9,
          74.8,
          74.8,
          74.7,
          74.7,
          74.6,
          74.4,
          74.2,
          74,
          73.7,
          73.5,
          73.2,
          72.9,
          75.5,
          75.2,
          74.8,
          74.5,
          74.2,
          73.9,
          73.5,
          73.2,
          72.8,
          72.4,
          72,
          71.6,
          71.2,
          78,
          74,
          66,
          65.4,
          65.6,
          65.6,
          65.8,
          65.6,
          64.5,
          64.1,
          63.7,
          63.3,
          63.5,
          63.4,
          63.3,
          61.5,
          67,
          60,
          59.3,
          58.4,
          57.5,
          56.3,
          55.5,
          54.9,
          53.2,
          51.3,
          51,
          48.8,
          78,
          71,
          77,
          75,
          69.8,
          69.2,
          67.7,
          67.5,
          67.7,
          67,
          67.4,
          67.6,
          67.6,
          67.7,
          67.5,
          76.8,
          76.8,
          76.5,
          77,
          76.3,
          76.6,
          76.4,
          75.4,
          76.2,
          75.7,
          75.4,
          75.4,
          75.4,
          75.2,
          75.1,
          69.2,
          69.1,
          68.8,
          68.5,
          68.3,
          68,
          67.9,
          67.8,
          67.6,
          67.3,
          67.8,
          67.2,
          67.1,
          71.7,
          71.6,
          71.4,
          71.2,
          71,
          78,
          75,
          73,
          71,
          69.9,
          69.6,
          69.4,
          69.3,
          69.1,
          69,
          61.1,
          63,
          59.2,
          58.2,
          58,
          57.4,
          55.7,
          52.6,
          58,
          49.3,
          59.2,
          58,
          56.6,
          54.9,
          52.4,
          50,
          48.2,
          46.6,
          45.4,
          44.6,
          44.3,
          44.5,
          44.8,
          45.3,
          46
         ],
         "x0": " ",
         "xaxis": "x",
         "y0": " ",
         "yaxis": "y"
        },
        {
         "alignmentgroup": "True",
         "box": {
          "visible": false
         },
         "hovertemplate": "Status=Developed<br>Life expectancy =%{x}<extra></extra>",
         "legendgroup": "Developed",
         "marker": {
          "color": "#EF553B"
         },
         "name": "Developed",
         "offsetgroup": "Developed",
         "orientation": "h",
         "scalegroup": "True",
         "showlegend": true,
         "type": "violin",
         "x": [
          82.7,
          82.5,
          82.3,
          82,
          81.9,
          81.7,
          81.3,
          81.3,
          81.2,
          81,
          86,
          83,
          79.9,
          79.9,
          81.4,
          81.1,
          88,
          88,
          84,
          82,
          84,
          81,
          79.8,
          79.4,
          79.3,
          78.8,
          78.7,
          78.6,
          78.1,
          89,
          87,
          83,
          83,
          80,
          79.8,
          79.5,
          79.5,
          79.4,
          78.9,
          78.8,
          78.3,
          78,
          78,
          77.6,
          74.3,
          74.1,
          73.9,
          73.7,
          73.4,
          73.2,
          72.9,
          72.6,
          72.2,
          72.1,
          72.2,
          72,
          71.8,
          71.6,
          71.1,
          77.8,
          77.7,
          77.1,
          77,
          76.6,
          76.3,
          76,
          75.8,
          83,
          81,
          80,
          79.7,
          79.5,
          79.3,
          79.1,
          78.9,
          78.8,
          78.7,
          78.6,
          78.5,
          78.4,
          78.2,
          78.1,
          89,
          86,
          86,
          85,
          81,
          80,
          79.9,
          79.8,
          79.6,
          79.2,
          79.1,
          78.5,
          78.4,
          78.3,
          78,
          81.2,
          81,
          85,
          84,
          86,
          82.5,
          82.3,
          82,
          82,
          81.8,
          81.6,
          81.5,
          81.3,
          81.2,
          88,
          89,
          79.9,
          80,
          79.8,
          79.4,
          74.4,
          74.1,
          73.8,
          73.6,
          72.8,
          72.6,
          71.9,
          78,
          75,
          76,
          71,
          78,
          73,
          69.9,
          71,
          73.4,
          73,
          73,
          72.8,
          72.4,
          72.2,
          71.1,
          72,
          76,
          78,
          71.6,
          71.6,
          71.4,
          71.2,
          71.6,
          81.7,
          81.4,
          81.1,
          88,
          86,
          83,
          80,
          79.7,
          79.4,
          78.8,
          78.7,
          78.6,
          78.3,
          78,
          77.8,
          81.4,
          81.1,
          81,
          87,
          83,
          82,
          80,
          79.6,
          79.3,
          79,
          78.7,
          78.5,
          81.7,
          81.4,
          81.1,
          81.1,
          77.3,
          77.1,
          76.8,
          76.7,
          76.3,
          75.7,
          75.5,
          75.3,
          75.2,
          75,
          74.9,
          74.7,
          74.5,
          74.2,
          73.7,
          89,
          86,
          83,
          82,
          79.6,
          79.3,
          79,
          78.7,
          78.5,
          77.7,
          78,
          77.3,
          77.2,
          76.9,
          76.6,
          74.8,
          74.6,
          74.4,
          74.3,
          73.4,
          73.1,
          73.1,
          72.9,
          72.5,
          71.9,
          71.7,
          71.1,
          77,
          78,
          77,
          82.6,
          82.4,
          82,
          82.1,
          81.9,
          81.6,
          81.3,
          89,
          88,
          81,
          81,
          79.4,
          79.5,
          79.4,
          79.1,
          82.3,
          81.9,
          81.7,
          81.7
         ],
         "x0": " ",
         "xaxis": "x",
         "y0": " ",
         "yaxis": "y"
        }
       ],
       "layout": {
        "legend": {
         "title": {
          "text": "Status"
         },
         "tracegroupgap": 0
        },
        "margin": {
         "t": 60
        },
        "template": {
         "data": {
          "bar": [
           {
            "error_x": {
             "color": "#f2f5fa"
            },
            "error_y": {
             "color": "#f2f5fa"
            },
            "marker": {
             "line": {
              "color": "rgb(17,17,17)",
              "width": 0.5
             },
             "pattern": {
              "fillmode": "overlay",
              "size": 10,
              "solidity": 0.2
             }
            },
            "type": "bar"
           }
          ],
          "barpolar": [
           {
            "marker": {
             "line": {
              "color": "rgb(17,17,17)",
              "width": 0.5
             },
             "pattern": {
              "fillmode": "overlay",
              "size": 10,
              "solidity": 0.2
             }
            },
            "type": "barpolar"
           }
          ],
          "carpet": [
           {
            "aaxis": {
             "endlinecolor": "#A2B1C6",
             "gridcolor": "#506784",
             "linecolor": "#506784",
             "minorgridcolor": "#506784",
             "startlinecolor": "#A2B1C6"
            },
            "baxis": {
             "endlinecolor": "#A2B1C6",
             "gridcolor": "#506784",
             "linecolor": "#506784",
             "minorgridcolor": "#506784",
             "startlinecolor": "#A2B1C6"
            },
            "type": "carpet"
           }
          ],
          "choropleth": [
           {
            "colorbar": {
             "outlinewidth": 0,
             "ticks": ""
            },
            "type": "choropleth"
           }
          ],
          "contour": [
           {
            "colorbar": {
             "outlinewidth": 0,
             "ticks": ""
            },
            "colorscale": [
             [
              0,
              "#0d0887"
             ],
             [
              0.1111111111111111,
              "#46039f"
             ],
             [
              0.2222222222222222,
              "#7201a8"
             ],
             [
              0.3333333333333333,
              "#9c179e"
             ],
             [
              0.4444444444444444,
              "#bd3786"
             ],
             [
              0.5555555555555556,
              "#d8576b"
             ],
             [
              0.6666666666666666,
              "#ed7953"
             ],
             [
              0.7777777777777778,
              "#fb9f3a"
             ],
             [
              0.8888888888888888,
              "#fdca26"
             ],
             [
              1,
              "#f0f921"
             ]
            ],
            "type": "contour"
           }
          ],
          "contourcarpet": [
           {
            "colorbar": {
             "outlinewidth": 0,
             "ticks": ""
            },
            "type": "contourcarpet"
           }
          ],
          "heatmap": [
           {
            "colorbar": {
             "outlinewidth": 0,
             "ticks": ""
            },
            "colorscale": [
             [
              0,
              "#0d0887"
             ],
             [
              0.1111111111111111,
              "#46039f"
             ],
             [
              0.2222222222222222,
              "#7201a8"
             ],
             [
              0.3333333333333333,
              "#9c179e"
             ],
             [
              0.4444444444444444,
              "#bd3786"
             ],
             [
              0.5555555555555556,
              "#d8576b"
             ],
             [
              0.6666666666666666,
              "#ed7953"
             ],
             [
              0.7777777777777778,
              "#fb9f3a"
             ],
             [
              0.8888888888888888,
              "#fdca26"
             ],
             [
              1,
              "#f0f921"
             ]
            ],
            "type": "heatmap"
           }
          ],
          "heatmapgl": [
           {
            "colorbar": {
             "outlinewidth": 0,
             "ticks": ""
            },
            "colorscale": [
             [
              0,
              "#0d0887"
             ],
             [
              0.1111111111111111,
              "#46039f"
             ],
             [
              0.2222222222222222,
              "#7201a8"
             ],
             [
              0.3333333333333333,
              "#9c179e"
             ],
             [
              0.4444444444444444,
              "#bd3786"
             ],
             [
              0.5555555555555556,
              "#d8576b"
             ],
             [
              0.6666666666666666,
              "#ed7953"
             ],
             [
              0.7777777777777778,
              "#fb9f3a"
             ],
             [
              0.8888888888888888,
              "#fdca26"
             ],
             [
              1,
              "#f0f921"
             ]
            ],
            "type": "heatmapgl"
           }
          ],
          "histogram": [
           {
            "marker": {
             "pattern": {
              "fillmode": "overlay",
              "size": 10,
              "solidity": 0.2
             }
            },
            "type": "histogram"
           }
          ],
          "histogram2d": [
           {
            "colorbar": {
             "outlinewidth": 0,
             "ticks": ""
            },
            "colorscale": [
             [
              0,
              "#0d0887"
             ],
             [
              0.1111111111111111,
              "#46039f"
             ],
             [
              0.2222222222222222,
              "#7201a8"
             ],
             [
              0.3333333333333333,
              "#9c179e"
             ],
             [
              0.4444444444444444,
              "#bd3786"
             ],
             [
              0.5555555555555556,
              "#d8576b"
             ],
             [
              0.6666666666666666,
              "#ed7953"
             ],
             [
              0.7777777777777778,
              "#fb9f3a"
             ],
             [
              0.8888888888888888,
              "#fdca26"
             ],
             [
              1,
              "#f0f921"
             ]
            ],
            "type": "histogram2d"
           }
          ],
          "histogram2dcontour": [
           {
            "colorbar": {
             "outlinewidth": 0,
             "ticks": ""
            },
            "colorscale": [
             [
              0,
              "#0d0887"
             ],
             [
              0.1111111111111111,
              "#46039f"
             ],
             [
              0.2222222222222222,
              "#7201a8"
             ],
             [
              0.3333333333333333,
              "#9c179e"
             ],
             [
              0.4444444444444444,
              "#bd3786"
             ],
             [
              0.5555555555555556,
              "#d8576b"
             ],
             [
              0.6666666666666666,
              "#ed7953"
             ],
             [
              0.7777777777777778,
              "#fb9f3a"
             ],
             [
              0.8888888888888888,
              "#fdca26"
             ],
             [
              1,
              "#f0f921"
             ]
            ],
            "type": "histogram2dcontour"
           }
          ],
          "mesh3d": [
           {
            "colorbar": {
             "outlinewidth": 0,
             "ticks": ""
            },
            "type": "mesh3d"
           }
          ],
          "parcoords": [
           {
            "line": {
             "colorbar": {
              "outlinewidth": 0,
              "ticks": ""
             }
            },
            "type": "parcoords"
           }
          ],
          "pie": [
           {
            "automargin": true,
            "type": "pie"
           }
          ],
          "scatter": [
           {
            "marker": {
             "line": {
              "color": "#283442"
             }
            },
            "type": "scatter"
           }
          ],
          "scatter3d": [
           {
            "line": {
             "colorbar": {
              "outlinewidth": 0,
              "ticks": ""
             }
            },
            "marker": {
             "colorbar": {
              "outlinewidth": 0,
              "ticks": ""
             }
            },
            "type": "scatter3d"
           }
          ],
          "scattercarpet": [
           {
            "marker": {
             "colorbar": {
              "outlinewidth": 0,
              "ticks": ""
             }
            },
            "type": "scattercarpet"
           }
          ],
          "scattergeo": [
           {
            "marker": {
             "colorbar": {
              "outlinewidth": 0,
              "ticks": ""
             }
            },
            "type": "scattergeo"
           }
          ],
          "scattergl": [
           {
            "marker": {
             "line": {
              "color": "#283442"
             }
            },
            "type": "scattergl"
           }
          ],
          "scattermapbox": [
           {
            "marker": {
             "colorbar": {
              "outlinewidth": 0,
              "ticks": ""
             }
            },
            "type": "scattermapbox"
           }
          ],
          "scatterpolar": [
           {
            "marker": {
             "colorbar": {
              "outlinewidth": 0,
              "ticks": ""
             }
            },
            "type": "scatterpolar"
           }
          ],
          "scatterpolargl": [
           {
            "marker": {
             "colorbar": {
              "outlinewidth": 0,
              "ticks": ""
             }
            },
            "type": "scatterpolargl"
           }
          ],
          "scatterternary": [
           {
            "marker": {
             "colorbar": {
              "outlinewidth": 0,
              "ticks": ""
             }
            },
            "type": "scatterternary"
           }
          ],
          "surface": [
           {
            "colorbar": {
             "outlinewidth": 0,
             "ticks": ""
            },
            "colorscale": [
             [
              0,
              "#0d0887"
             ],
             [
              0.1111111111111111,
              "#46039f"
             ],
             [
              0.2222222222222222,
              "#7201a8"
             ],
             [
              0.3333333333333333,
              "#9c179e"
             ],
             [
              0.4444444444444444,
              "#bd3786"
             ],
             [
              0.5555555555555556,
              "#d8576b"
             ],
             [
              0.6666666666666666,
              "#ed7953"
             ],
             [
              0.7777777777777778,
              "#fb9f3a"
             ],
             [
              0.8888888888888888,
              "#fdca26"
             ],
             [
              1,
              "#f0f921"
             ]
            ],
            "type": "surface"
           }
          ],
          "table": [
           {
            "cells": {
             "fill": {
              "color": "#506784"
             },
             "line": {
              "color": "rgb(17,17,17)"
             }
            },
            "header": {
             "fill": {
              "color": "#2a3f5f"
             },
             "line": {
              "color": "rgb(17,17,17)"
             }
            },
            "type": "table"
           }
          ]
         },
         "layout": {
          "annotationdefaults": {
           "arrowcolor": "#f2f5fa",
           "arrowhead": 0,
           "arrowwidth": 1
          },
          "autotypenumbers": "strict",
          "coloraxis": {
           "colorbar": {
            "outlinewidth": 0,
            "ticks": ""
           }
          },
          "colorscale": {
           "diverging": [
            [
             0,
             "#8e0152"
            ],
            [
             0.1,
             "#c51b7d"
            ],
            [
             0.2,
             "#de77ae"
            ],
            [
             0.3,
             "#f1b6da"
            ],
            [
             0.4,
             "#fde0ef"
            ],
            [
             0.5,
             "#f7f7f7"
            ],
            [
             0.6,
             "#e6f5d0"
            ],
            [
             0.7,
             "#b8e186"
            ],
            [
             0.8,
             "#7fbc41"
            ],
            [
             0.9,
             "#4d9221"
            ],
            [
             1,
             "#276419"
            ]
           ],
           "sequential": [
            [
             0,
             "#0d0887"
            ],
            [
             0.1111111111111111,
             "#46039f"
            ],
            [
             0.2222222222222222,
             "#7201a8"
            ],
            [
             0.3333333333333333,
             "#9c179e"
            ],
            [
             0.4444444444444444,
             "#bd3786"
            ],
            [
             0.5555555555555556,
             "#d8576b"
            ],
            [
             0.6666666666666666,
             "#ed7953"
            ],
            [
             0.7777777777777778,
             "#fb9f3a"
            ],
            [
             0.8888888888888888,
             "#fdca26"
            ],
            [
             1,
             "#f0f921"
            ]
           ],
           "sequentialminus": [
            [
             0,
             "#0d0887"
            ],
            [
             0.1111111111111111,
             "#46039f"
            ],
            [
             0.2222222222222222,
             "#7201a8"
            ],
            [
             0.3333333333333333,
             "#9c179e"
            ],
            [
             0.4444444444444444,
             "#bd3786"
            ],
            [
             0.5555555555555556,
             "#d8576b"
            ],
            [
             0.6666666666666666,
             "#ed7953"
            ],
            [
             0.7777777777777778,
             "#fb9f3a"
            ],
            [
             0.8888888888888888,
             "#fdca26"
            ],
            [
             1,
             "#f0f921"
            ]
           ]
          },
          "colorway": [
           "#636efa",
           "#EF553B",
           "#00cc96",
           "#ab63fa",
           "#FFA15A",
           "#19d3f3",
           "#FF6692",
           "#B6E880",
           "#FF97FF",
           "#FECB52"
          ],
          "font": {
           "color": "#f2f5fa"
          },
          "geo": {
           "bgcolor": "rgb(17,17,17)",
           "lakecolor": "rgb(17,17,17)",
           "landcolor": "rgb(17,17,17)",
           "showlakes": true,
           "showland": true,
           "subunitcolor": "#506784"
          },
          "hoverlabel": {
           "align": "left"
          },
          "hovermode": "closest",
          "mapbox": {
           "style": "dark"
          },
          "paper_bgcolor": "rgb(17,17,17)",
          "plot_bgcolor": "rgb(17,17,17)",
          "polar": {
           "angularaxis": {
            "gridcolor": "#506784",
            "linecolor": "#506784",
            "ticks": ""
           },
           "bgcolor": "rgb(17,17,17)",
           "radialaxis": {
            "gridcolor": "#506784",
            "linecolor": "#506784",
            "ticks": ""
           }
          },
          "scene": {
           "xaxis": {
            "backgroundcolor": "rgb(17,17,17)",
            "gridcolor": "#506784",
            "gridwidth": 2,
            "linecolor": "#506784",
            "showbackground": true,
            "ticks": "",
            "zerolinecolor": "#C8D4E3"
           },
           "yaxis": {
            "backgroundcolor": "rgb(17,17,17)",
            "gridcolor": "#506784",
            "gridwidth": 2,
            "linecolor": "#506784",
            "showbackground": true,
            "ticks": "",
            "zerolinecolor": "#C8D4E3"
           },
           "zaxis": {
            "backgroundcolor": "rgb(17,17,17)",
            "gridcolor": "#506784",
            "gridwidth": 2,
            "linecolor": "#506784",
            "showbackground": true,
            "ticks": "",
            "zerolinecolor": "#C8D4E3"
           }
          },
          "shapedefaults": {
           "line": {
            "color": "#f2f5fa"
           }
          },
          "sliderdefaults": {
           "bgcolor": "#C8D4E3",
           "bordercolor": "rgb(17,17,17)",
           "borderwidth": 1,
           "tickwidth": 0
          },
          "ternary": {
           "aaxis": {
            "gridcolor": "#506784",
            "linecolor": "#506784",
            "ticks": ""
           },
           "baxis": {
            "gridcolor": "#506784",
            "linecolor": "#506784",
            "ticks": ""
           },
           "bgcolor": "rgb(17,17,17)",
           "caxis": {
            "gridcolor": "#506784",
            "linecolor": "#506784",
            "ticks": ""
           }
          },
          "title": {
           "x": 0.05
          },
          "updatemenudefaults": {
           "bgcolor": "#506784",
           "borderwidth": 0
          },
          "xaxis": {
           "automargin": true,
           "gridcolor": "#283442",
           "linecolor": "#506784",
           "ticks": "",
           "title": {
            "standoff": 15
           },
           "zerolinecolor": "#283442",
           "zerolinewidth": 2
          },
          "yaxis": {
           "automargin": true,
           "gridcolor": "#283442",
           "linecolor": "#506784",
           "ticks": "",
           "title": {
            "standoff": 15
           },
           "zerolinecolor": "#283442",
           "zerolinewidth": 2
          }
         }
        },
        "violinmode": "group",
        "xaxis": {
         "anchor": "y",
         "domain": [
          0,
          1
         ],
         "title": {
          "text": "Life expectancy "
         }
        },
        "yaxis": {
         "anchor": "x",
         "domain": [
          0,
          1
         ]
        }
       }
      }
     },
     "metadata": {},
     "output_type": "display_data"
    }
   ],
   "source": [
    "fig=px.violin(df,x='Life expectancy ',color='Status',template='plotly_dark')\n",
    "fig.show()"
   ]
  },
  {
   "cell_type": "markdown",
   "metadata": {},
   "source": [
    "we see that in developing nations the mortality is present below 70 years as well but in developed nation the mortality is zero below 50 in this dataset"
   ]
  },
  {
   "cell_type": "code",
   "execution_count": null,
   "metadata": {},
   "outputs": [],
   "source": []
  },
  {
   "cell_type": "code",
   "execution_count": 13,
   "metadata": {},
   "outputs": [
    {
     "data": {
      "text/plain": [
       "Index(['Country', 'Year', 'Status', 'Life expectancy ', 'Adult Mortality',\n",
       "       'infant deaths', 'Alcohol', 'percentage expenditure', 'Hepatitis B',\n",
       "       'Measles ', ' BMI ', 'under-five deaths ', 'Polio', 'Total expenditure',\n",
       "       'Diphtheria ', ' HIV/AIDS', 'GDP', 'Population',\n",
       "       ' thinness  1-19 years', ' thinness 5-9 years',\n",
       "       'Income composition of resources', 'Schooling'],\n",
       "      dtype='object')"
      ]
     },
     "execution_count": 13,
     "metadata": {},
     "output_type": "execute_result"
    }
   ],
   "source": [
    "df.columns"
   ]
  },
  {
   "cell_type": "code",
   "execution_count": 14,
   "metadata": {},
   "outputs": [],
   "source": [
    "from sklearn.feature_selection import RFECV\n",
    "from sklearn.svm import SVR"
   ]
  },
  {
   "cell_type": "code",
   "execution_count": 15,
   "metadata": {},
   "outputs": [],
   "source": [
    "# estimator = SVR(kernel=\"linear\")\n",
    "# selector = RFECV(estimator,step=5, scoring='accuracy', min_features_to_select = 10)"
   ]
  },
  {
   "cell_type": "code",
   "execution_count": null,
   "metadata": {},
   "outputs": [],
   "source": []
  },
  {
   "cell_type": "code",
   "execution_count": 16,
   "metadata": {},
   "outputs": [],
   "source": [
    "from sklearn.preprocessing import LabelEncoder\n",
    "from sklearn.preprocessing import StandardScaler\n"
   ]
  },
  {
   "cell_type": "code",
   "execution_count": null,
   "metadata": {},
   "outputs": [],
   "source": []
  },
  {
   "cell_type": "code",
   "execution_count": 17,
   "metadata": {},
   "outputs": [
    {
     "data": {
      "text/html": [
       "<div>\n",
       "<style scoped>\n",
       "    .dataframe tbody tr th:only-of-type {\n",
       "        vertical-align: middle;\n",
       "    }\n",
       "\n",
       "    .dataframe tbody tr th {\n",
       "        vertical-align: top;\n",
       "    }\n",
       "\n",
       "    .dataframe thead th {\n",
       "        text-align: right;\n",
       "    }\n",
       "</style>\n",
       "<table border=\"1\" class=\"dataframe\">\n",
       "  <thead>\n",
       "    <tr style=\"text-align: right;\">\n",
       "      <th></th>\n",
       "      <th>Country</th>\n",
       "      <th>Year</th>\n",
       "      <th>Status</th>\n",
       "      <th>Life expectancy</th>\n",
       "      <th>Adult Mortality</th>\n",
       "      <th>infant deaths</th>\n",
       "      <th>Alcohol</th>\n",
       "      <th>percentage expenditure</th>\n",
       "      <th>Hepatitis B</th>\n",
       "      <th>Measles</th>\n",
       "      <th>...</th>\n",
       "      <th>Polio</th>\n",
       "      <th>Total expenditure</th>\n",
       "      <th>Diphtheria</th>\n",
       "      <th>HIV/AIDS</th>\n",
       "      <th>GDP</th>\n",
       "      <th>Population</th>\n",
       "      <th>thinness  1-19 years</th>\n",
       "      <th>thinness 5-9 years</th>\n",
       "      <th>Income composition of resources</th>\n",
       "      <th>Schooling</th>\n",
       "    </tr>\n",
       "  </thead>\n",
       "  <tbody>\n",
       "    <tr>\n",
       "      <th>0</th>\n",
       "      <td>Afghanistan</td>\n",
       "      <td>2015</td>\n",
       "      <td>Developing</td>\n",
       "      <td>65.0</td>\n",
       "      <td>263.0</td>\n",
       "      <td>62</td>\n",
       "      <td>0.01</td>\n",
       "      <td>71.279624</td>\n",
       "      <td>65.0</td>\n",
       "      <td>1154</td>\n",
       "      <td>...</td>\n",
       "      <td>6.0</td>\n",
       "      <td>8.16</td>\n",
       "      <td>65.0</td>\n",
       "      <td>0.1</td>\n",
       "      <td>584.259210</td>\n",
       "      <td>33736494.0</td>\n",
       "      <td>17.2</td>\n",
       "      <td>17.3</td>\n",
       "      <td>0.479</td>\n",
       "      <td>10.1</td>\n",
       "    </tr>\n",
       "    <tr>\n",
       "      <th>1</th>\n",
       "      <td>Afghanistan</td>\n",
       "      <td>2014</td>\n",
       "      <td>Developing</td>\n",
       "      <td>59.9</td>\n",
       "      <td>271.0</td>\n",
       "      <td>64</td>\n",
       "      <td>0.01</td>\n",
       "      <td>73.523582</td>\n",
       "      <td>62.0</td>\n",
       "      <td>492</td>\n",
       "      <td>...</td>\n",
       "      <td>58.0</td>\n",
       "      <td>8.18</td>\n",
       "      <td>62.0</td>\n",
       "      <td>0.1</td>\n",
       "      <td>612.696514</td>\n",
       "      <td>327582.0</td>\n",
       "      <td>17.5</td>\n",
       "      <td>17.5</td>\n",
       "      <td>0.476</td>\n",
       "      <td>10.0</td>\n",
       "    </tr>\n",
       "    <tr>\n",
       "      <th>2</th>\n",
       "      <td>Afghanistan</td>\n",
       "      <td>2013</td>\n",
       "      <td>Developing</td>\n",
       "      <td>59.9</td>\n",
       "      <td>268.0</td>\n",
       "      <td>66</td>\n",
       "      <td>0.01</td>\n",
       "      <td>73.219243</td>\n",
       "      <td>64.0</td>\n",
       "      <td>430</td>\n",
       "      <td>...</td>\n",
       "      <td>62.0</td>\n",
       "      <td>8.13</td>\n",
       "      <td>64.0</td>\n",
       "      <td>0.1</td>\n",
       "      <td>631.744976</td>\n",
       "      <td>31731688.0</td>\n",
       "      <td>17.7</td>\n",
       "      <td>17.7</td>\n",
       "      <td>0.470</td>\n",
       "      <td>9.9</td>\n",
       "    </tr>\n",
       "    <tr>\n",
       "      <th>3</th>\n",
       "      <td>Afghanistan</td>\n",
       "      <td>2012</td>\n",
       "      <td>Developing</td>\n",
       "      <td>59.5</td>\n",
       "      <td>272.0</td>\n",
       "      <td>69</td>\n",
       "      <td>0.01</td>\n",
       "      <td>78.184215</td>\n",
       "      <td>67.0</td>\n",
       "      <td>2787</td>\n",
       "      <td>...</td>\n",
       "      <td>67.0</td>\n",
       "      <td>8.52</td>\n",
       "      <td>67.0</td>\n",
       "      <td>0.1</td>\n",
       "      <td>669.959000</td>\n",
       "      <td>3696958.0</td>\n",
       "      <td>17.9</td>\n",
       "      <td>18.0</td>\n",
       "      <td>0.463</td>\n",
       "      <td>9.8</td>\n",
       "    </tr>\n",
       "    <tr>\n",
       "      <th>4</th>\n",
       "      <td>Afghanistan</td>\n",
       "      <td>2011</td>\n",
       "      <td>Developing</td>\n",
       "      <td>59.2</td>\n",
       "      <td>275.0</td>\n",
       "      <td>71</td>\n",
       "      <td>0.01</td>\n",
       "      <td>7.097109</td>\n",
       "      <td>68.0</td>\n",
       "      <td>3013</td>\n",
       "      <td>...</td>\n",
       "      <td>68.0</td>\n",
       "      <td>7.87</td>\n",
       "      <td>68.0</td>\n",
       "      <td>0.1</td>\n",
       "      <td>63.537231</td>\n",
       "      <td>2978599.0</td>\n",
       "      <td>18.2</td>\n",
       "      <td>18.2</td>\n",
       "      <td>0.454</td>\n",
       "      <td>9.5</td>\n",
       "    </tr>\n",
       "  </tbody>\n",
       "</table>\n",
       "<p>5 rows × 22 columns</p>\n",
       "</div>"
      ],
      "text/plain": [
       "       Country  Year      Status  Life expectancy   Adult Mortality  \\\n",
       "0  Afghanistan  2015  Developing              65.0            263.0   \n",
       "1  Afghanistan  2014  Developing              59.9            271.0   \n",
       "2  Afghanistan  2013  Developing              59.9            268.0   \n",
       "3  Afghanistan  2012  Developing              59.5            272.0   \n",
       "4  Afghanistan  2011  Developing              59.2            275.0   \n",
       "\n",
       "   infant deaths  Alcohol  percentage expenditure  Hepatitis B  Measles   ...  \\\n",
       "0             62     0.01               71.279624         65.0      1154  ...   \n",
       "1             64     0.01               73.523582         62.0       492  ...   \n",
       "2             66     0.01               73.219243         64.0       430  ...   \n",
       "3             69     0.01               78.184215         67.0      2787  ...   \n",
       "4             71     0.01                7.097109         68.0      3013  ...   \n",
       "\n",
       "   Polio  Total expenditure  Diphtheria    HIV/AIDS         GDP  Population  \\\n",
       "0    6.0               8.16         65.0        0.1  584.259210  33736494.0   \n",
       "1   58.0               8.18         62.0        0.1  612.696514    327582.0   \n",
       "2   62.0               8.13         64.0        0.1  631.744976  31731688.0   \n",
       "3   67.0               8.52         67.0        0.1  669.959000   3696958.0   \n",
       "4   68.0               7.87         68.0        0.1   63.537231   2978599.0   \n",
       "\n",
       "    thinness  1-19 years   thinness 5-9 years  \\\n",
       "0                   17.2                 17.3   \n",
       "1                   17.5                 17.5   \n",
       "2                   17.7                 17.7   \n",
       "3                   17.9                 18.0   \n",
       "4                   18.2                 18.2   \n",
       "\n",
       "   Income composition of resources  Schooling  \n",
       "0                            0.479       10.1  \n",
       "1                            0.476       10.0  \n",
       "2                            0.470        9.9  \n",
       "3                            0.463        9.8  \n",
       "4                            0.454        9.5  \n",
       "\n",
       "[5 rows x 22 columns]"
      ]
     },
     "execution_count": 17,
     "metadata": {},
     "output_type": "execute_result"
    }
   ],
   "source": [
    "df.head()"
   ]
  },
  {
   "cell_type": "code",
   "execution_count": 18,
   "metadata": {},
   "outputs": [],
   "source": [
    "scaler = StandardScaler()\n",
    "temp = df.drop(['Country','Status'],axis = 1)\n",
    "scaler.fit(temp)\n",
    "scaler_df = pd.DataFrame(scaler.transform(temp),columns = [ 'Year', 'Life expectancy ', 'Adult Mortality',\n",
    "       'infant deaths', 'Alcohol', 'percentage expenditure', 'Hepatitis B',\n",
    "       'Measles ', ' BMI ', 'under-five deaths ', 'Polio', 'Total expenditure',\n",
    "       'Diphtheria ', ' HIV/AIDS', 'GDP', 'Population',\n",
    "       ' thinness  1-19 years', ' thinness 5-9 years',\n",
    "       'Income composition of resources', 'Schooling'])\n"
   ]
  },
  {
   "cell_type": "code",
   "execution_count": 19,
   "metadata": {},
   "outputs": [
    {
     "data": {
      "text/html": [
       "<div>\n",
       "<style scoped>\n",
       "    .dataframe tbody tr th:only-of-type {\n",
       "        vertical-align: middle;\n",
       "    }\n",
       "\n",
       "    .dataframe tbody tr th {\n",
       "        vertical-align: top;\n",
       "    }\n",
       "\n",
       "    .dataframe thead th {\n",
       "        text-align: right;\n",
       "    }\n",
       "</style>\n",
       "<table border=\"1\" class=\"dataframe\">\n",
       "  <thead>\n",
       "    <tr style=\"text-align: right;\">\n",
       "      <th></th>\n",
       "      <th>Year</th>\n",
       "      <th>Life expectancy</th>\n",
       "      <th>Adult Mortality</th>\n",
       "      <th>infant deaths</th>\n",
       "      <th>Alcohol</th>\n",
       "      <th>percentage expenditure</th>\n",
       "      <th>Hepatitis B</th>\n",
       "      <th>Measles</th>\n",
       "      <th>BMI</th>\n",
       "      <th>under-five deaths</th>\n",
       "      <th>Polio</th>\n",
       "      <th>Total expenditure</th>\n",
       "      <th>Diphtheria</th>\n",
       "      <th>HIV/AIDS</th>\n",
       "      <th>GDP</th>\n",
       "      <th>Population</th>\n",
       "      <th>thinness  1-19 years</th>\n",
       "      <th>thinness 5-9 years</th>\n",
       "      <th>Income composition of resources</th>\n",
       "      <th>Schooling</th>\n",
       "    </tr>\n",
       "  </thead>\n",
       "  <tbody>\n",
       "    <tr>\n",
       "      <th>0</th>\n",
       "      <td>1.751998</td>\n",
       "      <td>-0.489223</td>\n",
       "      <td>0.756629</td>\n",
       "      <td>0.243745</td>\n",
       "      <td>-1.122948</td>\n",
       "      <td>-0.356909</td>\n",
       "      <td>-0.555446</td>\n",
       "      <td>-0.106171</td>\n",
       "      <td>-0.963560</td>\n",
       "      <td>0.238134</td>\n",
       "      <td>-3.455955</td>\n",
       "      <td>0.958840</td>\n",
       "      <td>-0.887941</td>\n",
       "      <td>-0.312389</td>\n",
       "      <td>-0.434239</td>\n",
       "      <td>0.270913</td>\n",
       "      <td>2.685909</td>\n",
       "      <td>2.663654</td>\n",
       "      <td>-0.833462</td>\n",
       "      <td>-0.722799</td>\n",
       "    </tr>\n",
       "    <tr>\n",
       "      <th>1</th>\n",
       "      <td>1.507289</td>\n",
       "      <td>-1.069152</td>\n",
       "      <td>0.820490</td>\n",
       "      <td>0.260300</td>\n",
       "      <td>-1.122948</td>\n",
       "      <td>-0.355633</td>\n",
       "      <td>-0.672648</td>\n",
       "      <td>-0.171828</td>\n",
       "      <td>-0.988878</td>\n",
       "      <td>0.256557</td>\n",
       "      <td>-1.139051</td>\n",
       "      <td>0.967541</td>\n",
       "      <td>-1.027006</td>\n",
       "      <td>-0.312389</td>\n",
       "      <td>-0.431760</td>\n",
       "      <td>-0.203382</td>\n",
       "      <td>2.751157</td>\n",
       "      <td>2.706643</td>\n",
       "      <td>-0.849853</td>\n",
       "      <td>-0.758583</td>\n",
       "    </tr>\n",
       "    <tr>\n",
       "      <th>2</th>\n",
       "      <td>1.262579</td>\n",
       "      <td>-1.069152</td>\n",
       "      <td>0.796542</td>\n",
       "      <td>0.276854</td>\n",
       "      <td>-1.122948</td>\n",
       "      <td>-0.355806</td>\n",
       "      <td>-0.594514</td>\n",
       "      <td>-0.177977</td>\n",
       "      <td>-1.014197</td>\n",
       "      <td>0.274979</td>\n",
       "      <td>-0.960828</td>\n",
       "      <td>0.945790</td>\n",
       "      <td>-0.934296</td>\n",
       "      <td>-0.312389</td>\n",
       "      <td>-0.430100</td>\n",
       "      <td>0.242452</td>\n",
       "      <td>2.794656</td>\n",
       "      <td>2.749632</td>\n",
       "      <td>-0.882634</td>\n",
       "      <td>-0.794367</td>\n",
       "    </tr>\n",
       "    <tr>\n",
       "      <th>3</th>\n",
       "      <td>1.017869</td>\n",
       "      <td>-1.114637</td>\n",
       "      <td>0.828472</td>\n",
       "      <td>0.301687</td>\n",
       "      <td>-1.122948</td>\n",
       "      <td>-0.352983</td>\n",
       "      <td>-0.477312</td>\n",
       "      <td>0.055789</td>\n",
       "      <td>-1.039516</td>\n",
       "      <td>0.299541</td>\n",
       "      <td>-0.738049</td>\n",
       "      <td>1.115452</td>\n",
       "      <td>-0.795231</td>\n",
       "      <td>-0.312389</td>\n",
       "      <td>-0.426769</td>\n",
       "      <td>-0.155548</td>\n",
       "      <td>2.838155</td>\n",
       "      <td>2.814116</td>\n",
       "      <td>-0.920878</td>\n",
       "      <td>-0.830151</td>\n",
       "    </tr>\n",
       "    <tr>\n",
       "      <th>4</th>\n",
       "      <td>0.773159</td>\n",
       "      <td>-1.148751</td>\n",
       "      <td>0.852420</td>\n",
       "      <td>0.318242</td>\n",
       "      <td>-1.122948</td>\n",
       "      <td>-0.393403</td>\n",
       "      <td>-0.438245</td>\n",
       "      <td>0.078203</td>\n",
       "      <td>-1.059771</td>\n",
       "      <td>0.324104</td>\n",
       "      <td>-0.693493</td>\n",
       "      <td>0.832682</td>\n",
       "      <td>-0.748876</td>\n",
       "      <td>-0.312389</td>\n",
       "      <td>-0.479628</td>\n",
       "      <td>-0.165747</td>\n",
       "      <td>2.903403</td>\n",
       "      <td>2.857105</td>\n",
       "      <td>-0.970049</td>\n",
       "      <td>-0.937503</td>\n",
       "    </tr>\n",
       "  </tbody>\n",
       "</table>\n",
       "</div>"
      ],
      "text/plain": [
       "       Year  Life expectancy   Adult Mortality  infant deaths   Alcohol  \\\n",
       "0  1.751998         -0.489223         0.756629       0.243745 -1.122948   \n",
       "1  1.507289         -1.069152         0.820490       0.260300 -1.122948   \n",
       "2  1.262579         -1.069152         0.796542       0.276854 -1.122948   \n",
       "3  1.017869         -1.114637         0.828472       0.301687 -1.122948   \n",
       "4  0.773159         -1.148751         0.852420       0.318242 -1.122948   \n",
       "\n",
       "   percentage expenditure  Hepatitis B  Measles       BMI   \\\n",
       "0               -0.356909    -0.555446 -0.106171 -0.963560   \n",
       "1               -0.355633    -0.672648 -0.171828 -0.988878   \n",
       "2               -0.355806    -0.594514 -0.177977 -1.014197   \n",
       "3               -0.352983    -0.477312  0.055789 -1.039516   \n",
       "4               -0.393403    -0.438245  0.078203 -1.059771   \n",
       "\n",
       "   under-five deaths      Polio  Total expenditure  Diphtheria    HIV/AIDS  \\\n",
       "0            0.238134 -3.455955           0.958840    -0.887941  -0.312389   \n",
       "1            0.256557 -1.139051           0.967541    -1.027006  -0.312389   \n",
       "2            0.274979 -0.960828           0.945790    -0.934296  -0.312389   \n",
       "3            0.299541 -0.738049           1.115452    -0.795231  -0.312389   \n",
       "4            0.324104 -0.693493           0.832682    -0.748876  -0.312389   \n",
       "\n",
       "        GDP  Population   thinness  1-19 years   thinness 5-9 years  \\\n",
       "0 -0.434239    0.270913               2.685909             2.663654   \n",
       "1 -0.431760   -0.203382               2.751157             2.706643   \n",
       "2 -0.430100    0.242452               2.794656             2.749632   \n",
       "3 -0.426769   -0.155548               2.838155             2.814116   \n",
       "4 -0.479628   -0.165747               2.903403             2.857105   \n",
       "\n",
       "   Income composition of resources  Schooling  \n",
       "0                        -0.833462  -0.722799  \n",
       "1                        -0.849853  -0.758583  \n",
       "2                        -0.882634  -0.794367  \n",
       "3                        -0.920878  -0.830151  \n",
       "4                        -0.970049  -0.937503  "
      ]
     },
     "execution_count": 19,
     "metadata": {},
     "output_type": "execute_result"
    }
   ],
   "source": [
    "scaler_df.head()"
   ]
  },
  {
   "cell_type": "code",
   "execution_count": 20,
   "metadata": {},
   "outputs": [],
   "source": [
    "# df_new = pd.DataFrame(scaler_df,columns = [ 'Year', 'Life expectancy ', 'Adult Mortality',\n",
    "#        'infant deaths', 'Alcohol', 'percentage expenditure', 'Hepatitis B',\n",
    "#        'Measles ', ' BMI ', 'under-five deaths ', 'Polio', 'Total expenditure',\n",
    "#        'Diphtheria ', ' HIV/AIDS', 'GDP', 'Population',\n",
    "#        ' thinness  1-19 years', ' thinness 5-9 years',\n",
    "#        'Income composition of resources', 'Schooling'])"
   ]
  },
  {
   "cell_type": "code",
   "execution_count": 21,
   "metadata": {},
   "outputs": [],
   "source": [
    "# df_new.head()"
   ]
  },
  {
   "cell_type": "code",
   "execution_count": 22,
   "metadata": {},
   "outputs": [],
   "source": [
    "# selector = selector.fit(df[ft],df['Life expectancy '])\n",
    "# selector.support_"
   ]
  },
  {
   "cell_type": "code",
   "execution_count": 23,
   "metadata": {},
   "outputs": [],
   "source": [
    "\n",
    "le = LabelEncoder()\n",
    "le.fit(df['Country'])\n",
    "df['Country']=le.transform(df['Country'])"
   ]
  },
  {
   "cell_type": "code",
   "execution_count": 24,
   "metadata": {},
   "outputs": [],
   "source": [
    "ge = LabelEncoder()\n",
    "ge.fit(df['Status'])\n",
    "df['Status'] = ge.transform(df['Status'])"
   ]
  },
  {
   "cell_type": "code",
   "execution_count": 25,
   "metadata": {},
   "outputs": [
    {
     "data": {
      "text/html": [
       "<div>\n",
       "<style scoped>\n",
       "    .dataframe tbody tr th:only-of-type {\n",
       "        vertical-align: middle;\n",
       "    }\n",
       "\n",
       "    .dataframe tbody tr th {\n",
       "        vertical-align: top;\n",
       "    }\n",
       "\n",
       "    .dataframe thead th {\n",
       "        text-align: right;\n",
       "    }\n",
       "</style>\n",
       "<table border=\"1\" class=\"dataframe\">\n",
       "  <thead>\n",
       "    <tr style=\"text-align: right;\">\n",
       "      <th></th>\n",
       "      <th>Country</th>\n",
       "      <th>Year</th>\n",
       "      <th>Status</th>\n",
       "      <th>Life expectancy</th>\n",
       "      <th>Adult Mortality</th>\n",
       "      <th>infant deaths</th>\n",
       "      <th>Alcohol</th>\n",
       "      <th>percentage expenditure</th>\n",
       "      <th>Hepatitis B</th>\n",
       "      <th>Measles</th>\n",
       "      <th>...</th>\n",
       "      <th>Polio</th>\n",
       "      <th>Total expenditure</th>\n",
       "      <th>Diphtheria</th>\n",
       "      <th>HIV/AIDS</th>\n",
       "      <th>GDP</th>\n",
       "      <th>Population</th>\n",
       "      <th>thinness  1-19 years</th>\n",
       "      <th>thinness 5-9 years</th>\n",
       "      <th>Income composition of resources</th>\n",
       "      <th>Schooling</th>\n",
       "    </tr>\n",
       "  </thead>\n",
       "  <tbody>\n",
       "    <tr>\n",
       "      <th>0</th>\n",
       "      <td>0</td>\n",
       "      <td>2015</td>\n",
       "      <td>1</td>\n",
       "      <td>65.0</td>\n",
       "      <td>263.0</td>\n",
       "      <td>62</td>\n",
       "      <td>0.01</td>\n",
       "      <td>71.279624</td>\n",
       "      <td>65.0</td>\n",
       "      <td>1154</td>\n",
       "      <td>...</td>\n",
       "      <td>6.0</td>\n",
       "      <td>8.16</td>\n",
       "      <td>65.0</td>\n",
       "      <td>0.1</td>\n",
       "      <td>584.259210</td>\n",
       "      <td>33736494.0</td>\n",
       "      <td>17.2</td>\n",
       "      <td>17.3</td>\n",
       "      <td>0.479</td>\n",
       "      <td>10.1</td>\n",
       "    </tr>\n",
       "    <tr>\n",
       "      <th>1</th>\n",
       "      <td>0</td>\n",
       "      <td>2014</td>\n",
       "      <td>1</td>\n",
       "      <td>59.9</td>\n",
       "      <td>271.0</td>\n",
       "      <td>64</td>\n",
       "      <td>0.01</td>\n",
       "      <td>73.523582</td>\n",
       "      <td>62.0</td>\n",
       "      <td>492</td>\n",
       "      <td>...</td>\n",
       "      <td>58.0</td>\n",
       "      <td>8.18</td>\n",
       "      <td>62.0</td>\n",
       "      <td>0.1</td>\n",
       "      <td>612.696514</td>\n",
       "      <td>327582.0</td>\n",
       "      <td>17.5</td>\n",
       "      <td>17.5</td>\n",
       "      <td>0.476</td>\n",
       "      <td>10.0</td>\n",
       "    </tr>\n",
       "    <tr>\n",
       "      <th>2</th>\n",
       "      <td>0</td>\n",
       "      <td>2013</td>\n",
       "      <td>1</td>\n",
       "      <td>59.9</td>\n",
       "      <td>268.0</td>\n",
       "      <td>66</td>\n",
       "      <td>0.01</td>\n",
       "      <td>73.219243</td>\n",
       "      <td>64.0</td>\n",
       "      <td>430</td>\n",
       "      <td>...</td>\n",
       "      <td>62.0</td>\n",
       "      <td>8.13</td>\n",
       "      <td>64.0</td>\n",
       "      <td>0.1</td>\n",
       "      <td>631.744976</td>\n",
       "      <td>31731688.0</td>\n",
       "      <td>17.7</td>\n",
       "      <td>17.7</td>\n",
       "      <td>0.470</td>\n",
       "      <td>9.9</td>\n",
       "    </tr>\n",
       "    <tr>\n",
       "      <th>3</th>\n",
       "      <td>0</td>\n",
       "      <td>2012</td>\n",
       "      <td>1</td>\n",
       "      <td>59.5</td>\n",
       "      <td>272.0</td>\n",
       "      <td>69</td>\n",
       "      <td>0.01</td>\n",
       "      <td>78.184215</td>\n",
       "      <td>67.0</td>\n",
       "      <td>2787</td>\n",
       "      <td>...</td>\n",
       "      <td>67.0</td>\n",
       "      <td>8.52</td>\n",
       "      <td>67.0</td>\n",
       "      <td>0.1</td>\n",
       "      <td>669.959000</td>\n",
       "      <td>3696958.0</td>\n",
       "      <td>17.9</td>\n",
       "      <td>18.0</td>\n",
       "      <td>0.463</td>\n",
       "      <td>9.8</td>\n",
       "    </tr>\n",
       "    <tr>\n",
       "      <th>4</th>\n",
       "      <td>0</td>\n",
       "      <td>2011</td>\n",
       "      <td>1</td>\n",
       "      <td>59.2</td>\n",
       "      <td>275.0</td>\n",
       "      <td>71</td>\n",
       "      <td>0.01</td>\n",
       "      <td>7.097109</td>\n",
       "      <td>68.0</td>\n",
       "      <td>3013</td>\n",
       "      <td>...</td>\n",
       "      <td>68.0</td>\n",
       "      <td>7.87</td>\n",
       "      <td>68.0</td>\n",
       "      <td>0.1</td>\n",
       "      <td>63.537231</td>\n",
       "      <td>2978599.0</td>\n",
       "      <td>18.2</td>\n",
       "      <td>18.2</td>\n",
       "      <td>0.454</td>\n",
       "      <td>9.5</td>\n",
       "    </tr>\n",
       "  </tbody>\n",
       "</table>\n",
       "<p>5 rows × 22 columns</p>\n",
       "</div>"
      ],
      "text/plain": [
       "   Country  Year  Status  Life expectancy   Adult Mortality  infant deaths  \\\n",
       "0        0  2015       1              65.0            263.0             62   \n",
       "1        0  2014       1              59.9            271.0             64   \n",
       "2        0  2013       1              59.9            268.0             66   \n",
       "3        0  2012       1              59.5            272.0             69   \n",
       "4        0  2011       1              59.2            275.0             71   \n",
       "\n",
       "   Alcohol  percentage expenditure  Hepatitis B  Measles   ...  Polio  \\\n",
       "0     0.01               71.279624         65.0      1154  ...    6.0   \n",
       "1     0.01               73.523582         62.0       492  ...   58.0   \n",
       "2     0.01               73.219243         64.0       430  ...   62.0   \n",
       "3     0.01               78.184215         67.0      2787  ...   67.0   \n",
       "4     0.01                7.097109         68.0      3013  ...   68.0   \n",
       "\n",
       "   Total expenditure  Diphtheria    HIV/AIDS         GDP  Population  \\\n",
       "0               8.16         65.0        0.1  584.259210  33736494.0   \n",
       "1               8.18         62.0        0.1  612.696514    327582.0   \n",
       "2               8.13         64.0        0.1  631.744976  31731688.0   \n",
       "3               8.52         67.0        0.1  669.959000   3696958.0   \n",
       "4               7.87         68.0        0.1   63.537231   2978599.0   \n",
       "\n",
       "    thinness  1-19 years   thinness 5-9 years  \\\n",
       "0                   17.2                 17.3   \n",
       "1                   17.5                 17.5   \n",
       "2                   17.7                 17.7   \n",
       "3                   17.9                 18.0   \n",
       "4                   18.2                 18.2   \n",
       "\n",
       "   Income composition of resources  Schooling  \n",
       "0                            0.479       10.1  \n",
       "1                            0.476       10.0  \n",
       "2                            0.470        9.9  \n",
       "3                            0.463        9.8  \n",
       "4                            0.454        9.5  \n",
       "\n",
       "[5 rows x 22 columns]"
      ]
     },
     "execution_count": 25,
     "metadata": {},
     "output_type": "execute_result"
    }
   ],
   "source": [
    "df.head()"
   ]
  },
  {
   "cell_type": "code",
   "execution_count": 26,
   "metadata": {},
   "outputs": [],
   "source": [
    "from sklearn.model_selection import train_test_split, cross_val_score\n",
    "from statistics import mean\n",
    "ft = [ 'Year', 'Adult Mortality',\n",
    "       'infant deaths', 'Alcohol', 'percentage expenditure', 'Hepatitis B',\n",
    "       'Measles ', ' BMI ', 'under-five deaths ', 'Polio', 'Total expenditure',\n",
    "       'Diphtheria ', ' HIV/AIDS', 'GDP', 'Population',\n",
    "       ' thinness  1-19 years', ' thinness 5-9 years',\n",
    "       'Income composition of resources', 'Schooling']\n",
    "X_train, X_test, y_train, y_test = train_test_split(scaler_df[ft], scaler_df['Life expectancy '], test_size=0.30)\n"
   ]
  },
  {
   "cell_type": "code",
   "execution_count": 27,
   "metadata": {},
   "outputs": [
    {
     "name": "stdout",
     "output_type": "stream",
     "text": [
      "                                 OLS Regression Results                                \n",
      "=======================================================================================\n",
      "Dep. Variable:       Life expectancy    R-squared (uncentered):                   0.997\n",
      "Model:                            OLS   Adj. R-squared (uncentered):              0.997\n",
      "Method:                 Least Squares   F-statistic:                          3.239e+04\n",
      "Date:                Mon, 22 Aug 2022   Prob (F-statistic):                        0.00\n",
      "Time:                        00:08:44   Log-Likelihood:                         -4447.7\n",
      "No. Observations:                1649   AIC:                                      8933.\n",
      "Df Residuals:                    1630   BIC:                                      9036.\n",
      "Df Model:                          19                                                  \n",
      "Covariance Type:            nonrobust                                                  \n",
      "===================================================================================================\n",
      "                                      coef    std err          t      P>|t|      [0.025      0.975]\n",
      "---------------------------------------------------------------------------------------------------\n",
      "Year                                0.0266      0.000     72.006      0.000       0.026       0.027\n",
      "Adult Mortality                    -0.0169      0.001    -17.796      0.000      -0.019      -0.015\n",
      "infant deaths                       0.0945      0.011      8.813      0.000       0.073       0.116\n",
      "Alcohol                            -0.0462      0.031     -1.502      0.133      -0.107       0.014\n",
      "percentage expenditure              0.0004      0.000      2.166      0.030     3.7e-05       0.001\n",
      "Hepatitis B                        -0.0062      0.004     -1.392      0.164      -0.015       0.003\n",
      "Measles                         -7.998e-06   1.09e-05     -0.737      0.461   -2.93e-05    1.33e-05\n",
      " BMI                                0.0340      0.006      5.633      0.000       0.022       0.046\n",
      "under-five deaths                  -0.0711      0.008     -9.161      0.000      -0.086      -0.056\n",
      "Polio                               0.0084      0.005      1.613      0.107      -0.002       0.019\n",
      "Total expenditure                   0.0774      0.041      1.892      0.059      -0.003       0.158\n",
      "Diphtheria                          0.0147      0.006      2.459      0.014       0.003       0.026\n",
      " HIV/AIDS                          -0.4362      0.018    -24.291      0.000      -0.471      -0.401\n",
      "GDP                              1.035e-05   2.85e-05      0.363      0.717   -4.55e-05    6.62e-05\n",
      "Population                      -7.148e-10   1.76e-09     -0.406      0.685   -4.17e-09    2.74e-09\n",
      " thinness  1-19 years              -0.0092      0.053     -0.173      0.862      -0.114       0.095\n",
      " thinness 5-9 years                -0.0505      0.053     -0.959      0.338      -0.154       0.053\n",
      "Income composition of resources     9.7060      0.838     11.585      0.000       8.063      11.349\n",
      "Schooling                           0.8753      0.060     14.667      0.000       0.758       0.992\n",
      "==============================================================================\n",
      "Omnibus:                       38.192   Durbin-Watson:                   0.712\n",
      "Prob(Omnibus):                  0.000   Jarque-Bera (JB):               70.235\n",
      "Skew:                          -0.151   Prob(JB):                     5.61e-16\n",
      "Kurtosis:                       3.965   Cond. No.                     6.78e+08\n",
      "==============================================================================\n",
      "\n",
      "Notes:\n",
      "[1] R² is computed without centering (uncentered) since the model does not contain a constant.\n",
      "[2] Standard Errors assume that the covariance matrix of the errors is correctly specified.\n",
      "[3] The condition number is large, 6.78e+08. This might indicate that there are\n",
      "strong multicollinearity or other numerical problems.\n"
     ]
    }
   ],
   "source": [
    "import statsmodels.api as sm\n",
    "temp = df.drop(['Country','Status','Life expectancy '],axis = 1)\n",
    "yknot = df['Life expectancy ']\n",
    "result = sm.OLS(yknot,temp).fit()\n",
    "print(result.summary())\n",
    "\n"
   ]
  },
  {
   "cell_type": "code",
   "execution_count": 28,
   "metadata": {},
   "outputs": [
    {
     "name": "stdout",
     "output_type": "stream",
     "text": [
      "Year   KstestResult(statistic=0.0968412612327717, pvalue=6.518177426704756e-14)\n",
      "Adult Mortality   KstestResult(statistic=0.09887454613552715, pvalue=1.7425514060498855e-14)\n",
      "infant deaths   KstestResult(statistic=0.3937895994074244, pvalue=5.509157407808413e-231)\n",
      "Alcohol   KstestResult(statistic=0.1307298811785902, pvalue=4.943009735472367e-25)\n",
      "percentage expenditure   KstestResult(statistic=0.3455220386594843, pvalue=2.363740131499903e-176)\n",
      "Hepatitis B   KstestResult(statistic=0.21980871365346166, pvalue=1.9063230090232616e-70)\n",
      "Measles    KstestResult(statistic=0.41269264241693676, pvalue=1.2047421088128205e-254)\n",
      " BMI    KstestResult(statistic=0.11684250698654441, pvalue=4.527972738612601e-20)\n",
      "under-five deaths    KstestResult(statistic=0.39298733824574555, pvalue=5.205664618071042e-230)\n",
      "Polio   KstestResult(statistic=0.2458089452130079, pvalue=3.1389461536854585e-88)\n",
      "Total expenditure   KstestResult(statistic=0.03278195463821354, pvalue=0.056510891352609005)\n",
      "Diphtheria    KstestResult(statistic=0.24568593257453508, pvalue=3.8534482982790353e-88)\n",
      " HIV/AIDS   KstestResult(statistic=0.37737260092777863, pvalue=1.7443667998898696e-211)\n",
      "GDP   KstestResult(statistic=0.31383115904056647, pvalue=7.90898210263883e-145)\n",
      "Population   KstestResult(statistic=0.41760187702727325, pvalue=5.260924775797634e-261)\n",
      " thinness  1-19 years   KstestResult(statistic=0.15949348977811273, pvalue=4.125520403958777e-37)\n",
      " thinness 5-9 years   KstestResult(statistic=0.16367135517393427, pvalue=4.54752369192396e-39)\n",
      "Income composition of resources   KstestResult(statistic=0.09467120939902957, pvalue=2.584500622346101e-13)\n",
      "Schooling   KstestResult(statistic=0.03084883183400755, pvalue=0.08489981686060599)\n"
     ]
    }
   ],
   "source": [
    "#KS test\n",
    "from scipy.stats import kstest\n",
    "col = [ 'Year', 'Adult Mortality',\n",
    "       'infant deaths', 'Alcohol', 'percentage expenditure', 'Hepatitis B',\n",
    "       'Measles ', ' BMI ', 'under-five deaths ', 'Polio', 'Total expenditure',\n",
    "       'Diphtheria ', ' HIV/AIDS', 'GDP', 'Population',\n",
    "       ' thinness  1-19 years', ' thinness 5-9 years',\n",
    "       'Income composition of resources', 'Schooling']\n",
    "for i in col:\n",
    "    if i not in ['Country','Status']:\n",
    "        test = kstest(scaler_df[i].to_list(),'norm')\n",
    "        print(i,\" \",test)"
   ]
  },
  {
   "cell_type": "code",
   "execution_count": 29,
   "metadata": {},
   "outputs": [
    {
     "data": {
      "application/vnd.plotly.v1+json": {
       "config": {
        "plotlyServerURL": "https://plot.ly"
       },
       "data": [
        {
         "alignmentgroup": "True",
         "bingroup": "x",
         "hovertemplate": "Total expenditure=%{x}<br>count=%{y}<extra></extra>",
         "legendgroup": "",
         "marker": {
          "color": "#636efa",
          "pattern": {
           "shape": ""
          }
         },
         "name": "",
         "offsetgroup": "",
         "orientation": "v",
         "showlegend": false,
         "type": "histogram",
         "x": [
          8.16,
          8.18,
          8.13,
          8.52,
          7.87,
          9.2,
          9.42,
          8.33,
          6.73,
          7.43,
          8.7,
          8.79,
          8.82,
          7.76,
          7.8,
          8.2,
          6,
          5.88,
          5.66,
          5.59,
          5.71,
          5.34,
          5.79,
          5.87,
          6.1,
          5.86,
          6.12,
          6.38,
          6.27,
          6.3,
          6,
          6.26,
          7.21,
          7.12,
          6.14,
          5.29,
          5.12,
          5.36,
          4.2,
          3.82,
          3.36,
          3.24,
          3.54,
          3.31,
          4.26,
          3.3,
          3.38,
          3.39,
          4.37,
          3.84,
          3.38,
          4.79,
          4.99,
          5.2,
          5.89,
          6.55,
          7.63,
          6.66,
          6.49,
          6.68,
          6.85,
          6.84,
          8.22,
          8.31,
          4.48,
          4.55,
          4.48,
          3.71,
          4.56,
          4.55,
          3.8,
          4.31,
          4.58,
          5.25,
          5.5,
          5.56,
          5.4,
          5.94,
          6.25,
          9.42,
          9.36,
          9.36,
          9.2,
          9.2,
          9.5,
          8.78,
          8.53,
          8.49,
          8.45,
          8.57,
          8.32,
          8.39,
          8.18,
          11.21,
          11.14,
          11.17,
          1.94,
          11.17,
          11.19,
          1.6,
          1.4,
          1.35,
          1.53,
          1.56,
          1.48,
          1.27,
          1.12,
          1.6,
          6.4,
          5.54,
          5.37,
          5.1,
          5.33,
          5.85,
          4.37,
          5.1,
          6.17,
          7.86,
          7.92,
          6.56,
          4.47,
          2.82,
          2.88,
          3.8,
          3.16,
          3.6,
          2.91,
          2.85,
          2.8,
          2.8,
          2.68,
          2.62,
          2.51,
          5.69,
          6.7,
          5.1,
          4.92,
          5.55,
          6.9,
          5.95,
          6.44,
          6.34,
          6.89,
          6.59,
          6.59,
          6.47,
          6.62,
          6.13,
          1.59,
          1.57,
          1.54,
          1.42,
          1.17,
          1.39,
          9.6,
          9.25,
          9.17,
          9.24,
          9.32,
          9.3,
          8.46,
          8.29,
          8.12,
          5.79,
          5.79,
          5.45,
          5.61,
          5.85,
          5.81,
          5.9,
          4.76,
          4.4,
          4.45,
          4.39,
          4.53,
          4.38,
          4.5,
          3.98,
          4.59,
          4.59,
          4.86,
          5.37,
          4.95,
          4.46,
          4.2,
          4.55,
          4.75,
          4.73,
          4.56,
          4.63,
          4.27,
          3.57,
          3.83,
          3.7,
          4.73,
          5.17,
          6.3,
          6.58,
          5.88,
          5.27,
          5.28,
          4.41,
          4.9,
          7.75,
          5.91,
          6.91,
          9.57,
          9.46,
          9.94,
          9.71,
          9.58,
          9.64,
          8.58,
          8.37,
          8.28,
          8.5,
          9.4,
          5.41,
          5.84,
          6.27,
          5.25,
          5.64,
          6.39,
          5.55,
          4.71,
          4.93,
          5.62,
          5.56,
          4.65,
          6.47,
          5.73,
          4.64,
          8.32,
          8.48,
          8.26,
          8.9,
          8.27,
          8.65,
          8.24,
          8.28,
          8.36,
          8.27,
          7.7,
          6.94,
          7.13,
          7.19,
          7.3,
          8.44,
          7.93,
          7.11,
          6.88,
          7.24,
          6.78,
          6.61,
          6.41,
          6.67,
          7.8,
          7.9,
          7.43,
          7.41,
          7.23,
          6.7,
          4.96,
          5.91,
          5.33,
          5.17,
          7.17,
          7.41,
          6.77,
          6.63,
          6.58,
          7.54,
          8.3,
          8.21,
          8.58,
          8.82,
          6.96,
          7.86,
          1.3,
          11.49,
          9.84,
          7.1,
          4.76,
          4.29,
          4.61,
          4.6,
          4.83,
          4.24,
          3.96,
          4.3,
          5.11,
          4.86,
          5.6,
          5,
          5.17,
          5.68,
          5.93,
          6.24,
          5.64,
          5.95,
          6.36,
          5.55,
          3.75,
          4.48,
          4.1,
          4.29,
          4.34,
          3.96,
          5.28,
          5.7,
          5.18,
          4.76,
          4.69,
          4.75,
          1.45,
          1.67,
          1.78,
          1.82,
          11.2,
          11.17,
          1.3,
          9.83,
          9.75,
          9.57,
          9.56,
          9.54,
          4.2,
          3.82,
          3.62,
          3.73,
          3.9,
          3.58,
          3.62,
          3.42,
          3,
          3.17,
          2.95,
          3.31,
          2.92,
          7.79,
          7.53,
          7.24,
          7,
          6.97,
          7.39,
          6.87,
          6.35,
          6.18,
          5.55,
          5.39,
          5.26,
          5.3,
          4.89,
          5.8,
          4.59,
          4.32,
          4.52,
          4.66,
          4.72,
          4.82,
          4.79,
          4.56,
          4.6,
          7.2,
          6.84,
          6.93,
          6.64,
          6.76,
          7.1,
          6.62,
          6.25,
          6.11,
          5.82,
          5.37,
          5.92,
          5.67,
          5.96,
          5.91,
          6.75,
          6.51,
          7.11,
          6.1,
          5.82,
          3.82,
          5.13,
          4.93,
          4.57,
          4.32,
          3.96,
          3.65,
          9.31,
          9.47,
          9.56,
          9.73,
          9.66,
          9.69,
          9.1,
          8.37,
          7.82,
          7.74,
          7.8,
          8.45,
          8.23,
          7.25,
          7.12,
          7.8,
          7.83,
          7.8,
          7.8,
          8.25,
          8.18,
          7.7,
          7.44,
          7.37,
          7.46,
          7.44,
          7.54,
          7.23,
          7.4,
          6.89,
          6.5,
          6.28,
          6.37,
          6.42,
          6.83,
          6.12,
          5.78,
          5.77,
          1.57,
          9.14,
          8.95,
          8.71,
          8.84,
          8.37,
          8.5,
          7.72,
          4.38,
          4.12,
          4.26,
          4.22,
          4.6,
          4.41,
          4.2,
          4.34,
          4.34,
          4.26,
          4.28,
          5.53,
          5.79,
          5.59,
          5.9,
          9.16,
          7.29,
          6.48,
          5.92,
          5.9,
          5.58,
          5.66,
          5.94,
          5.86,
          5.87,
          6.22,
          6.46,
          4.62,
          3.86,
          3.38,
          6.77,
          6.95,
          6.7,
          6.81,
          6.91,
          6.83,
          6.21,
          6.32,
          6.68,
          7.19,
          7.3,
          7.61,
          7.9,
          8.2,
          8.17,
          3.8,
          3.6,
          3.24,
          3.3,
          3.69,
          3.29,
          3.3,
          2.97,
          3.14,
          3.5,
          4.2,
          6.38,
          6.48,
          6.36,
          5.83,
          6.25,
          6.93,
          6.6,
          5.16,
          5.1,
          5.2,
          5.13,
          4.88,
          5.19,
          5.77,
          6.55,
          6.86,
          4.41,
          4.28,
          4.69,
          4.49,
          4.26,
          4.16,
          4.6,
          4.23,
          4.26,
          3.68,
          3.74,
          3.84,
          3.61,
          3.61,
          3.35,
          3.48,
          3.28,
          3.87,
          11.54,
          11.56,
          11.44,
          11.33,
          11.2,
          11.28,
          1.57,
          1.45,
          1.53,
          1.6,
          1.53,
          1.43,
          1.22,
          9.89,
          9.77,
          3.44,
          3.98,
          3.13,
          3.12,
          3.41,
          3.43,
          2.54,
          2.86,
          2.88,
          2.76,
          7.42,
          7.25,
          8.57,
          9.38,
          1.5,
          1.19,
          8.99,
          8.17,
          8.39,
          8.6,
          8.53,
          8.49,
          8.72,
          7.82,
          6.94,
          11.3,
          11.16,
          1.99,
          1.93,
          11.25,
          11.4,
          1.39,
          1.18,
          1.34,
          1.52,
          1.37,
          1.62,
          1.4,
          1.15,
          1.1,
          3.56,
          4.63,
          4.79,
          4.81,
          5.33,
          5.17,
          4.85,
          5.3,
          4.64,
          4.51,
          3.96,
          3.12,
          3.7,
          8.8,
          9.26,
          9.24,
          9.77,
          9.18,
          9.76,
          9.76,
          9.41,
          9.34,
          9.36,
          8.3,
          8.61,
          8.72,
          8.47,
          7.6,
          6.2,
          6.3,
          6.33,
          6.28,
          6.64,
          6.79,
          6.65,
          6.86,
          7.7,
          6.79,
          5.64,
          5.49,
          5.39,
          4.73,
          4.55,
          3.85,
          3.21,
          3.8,
          5.59,
          6.14,
          5.96,
          5.46,
          6.7,
          6.81,
          5.25,
          5.1,
          6.57,
          6.8,
          6.6,
          7.32,
          7.46,
          6.45,
          4.67,
          5.83,
          5.73,
          5.97,
          5.84,
          5.82,
          7.56,
          8.1,
          8.72,
          9.15,
          9.78,
          8.57,
          8.45,
          8.84,
          8.4,
          7.89,
          7.63,
          7.81,
          7.89,
          8.29,
          7.28,
          6.88,
          6.63,
          4.69,
          4.53,
          4.39,
          4.33,
          4.28,
          4.38,
          4.34,
          4.23,
          4.25,
          4.28,
          4.22,
          2.85,
          2.93,
          2.9,
          2.71,
          2.74,
          2.83,
          2.81,
          3.1,
          2.91,
          2.79,
          2.37,
          2.53,
          2.27,
          2.23,
          1.98,
          5.54,
          5.92,
          5.26,
          3.32,
          3.82,
          4.65,
          3.93,
          3.69,
          3,
          4.13,
          5.61,
          7.78,
          8.1,
          8.32,
          8.15,
          8.76,
          7.81,
          7.89,
          7.73,
          7.39,
          7.36,
          7.46,
          7.33,
          7.37,
          7.38,
          7.44,
          7.35,
          7.44,
          7.49,
          7.61,
          7.13,
          9.25,
          9.22,
          9.28,
          9.27,
          9.42,
          9.41,
          8.89,
          8.48,
          8.82,
          8.71,
          8.49,
          8.17,
          8.23,
          8.11,
          7.91,
          5.36,
          5.91,
          5.66,
          5.21,
          5.3,
          5.16,
          5.4,
          4.87,
          4.22,
          4.7,
          4.8,
          4.56,
          7.45,
          7.23,
          8,
          8.39,
          8.42,
          9.54,
          8.78,
          8.35,
          8.8,
          8.88,
          9.5,
          9.15,
          9.68,
          9.9,
          9.65,
          4.36,
          4.3,
          4.32,
          4.6,
          4.42,
          4.13,
          3.65,
          3.19,
          3.73,
          4.7,
          3.95,
          3.7,
          3.61,
          3.47,
          4.16,
          5.72,
          5.57,
          5.49,
          5.23,
          3.97,
          4.17,
          3.9,
          4.8,
          4.24,
          4.36,
          4.29,
          4.45,
          4.54,
          1.21,
          1.15,
          1.37,
          1.42,
          1.52,
          12.24,
          12.23,
          13.66,
          1.93,
          1.6,
          1.39,
          9.98,
          9.1,
          9,
          8.12,
          5.88,
          5.67,
          5.91,
          6.1,
          6.55,
          6.84,
          6.63,
          7.1,
          6.8,
          6.37,
          6.51,
          6.15,
          6.29,
          6.17,
          6,
          6.39,
          6.63,
          6.99,
          7.12,
          7.19,
          7.42,
          8.7,
          8.9,
          8.83,
          8.42,
          8.91,
          9.3,
          1.5,
          1.9,
          1.86,
          1.62,
          11.7,
          11.14,
          11.79,
          1.87,
          9.8,
          8.85,
          8.47,
          7.12,
          6.3,
          6.96,
          7.13,
          1.4,
          9.25,
          1.19,
          11.23,
          11.87,
          14.39,
          11.83,
          6.55,
          6.59,
          6.67,
          6.86,
          7.9,
          7.53,
          6.61,
          6.22,
          6.2,
          5.83,
          5.67,
          6.46,
          6.4,
          6.26,
          6.46,
          6.94,
          7.1,
          7.18,
          7.34,
          7.68,
          8.11,
          7.34,
          6.8,
          7.75,
          7.95,
          8.2,
          7.67,
          8.27,
          7.4,
          7.48,
          3.4,
          4.15,
          3.46,
          4.24,
          4.86,
          4.7,
          4.5,
          4.98,
          5.11,
          5.3,
          4.89,
          4.81,
          5.29,
          11.38,
          1.96,
          12.6,
          11.67,
          1.5,
          1.18,
          1.7,
          9.31,
          8.99,
          8.2,
          7.82,
          6.35,
          4.82,
          4.17,
          4.2,
          4.1,
          3.89,
          3.99,
          3.97,
          3.47,
          3.61,
          3.65,
          3.29,
          3.74,
          3.95,
          3.4,
          3.4,
          3.4,
          13.73,
          11.16,
          9.16,
          8.11,
          7.93,
          9.22,
          9.3,
          6.64,
          7.37,
          9.52,
          5.89,
          5.9,
          5.78,
          5.84,
          8,
          6.86,
          6.58,
          6.47,
          6.59,
          6.35,
          6.85,
          6.74,
          6.97,
          6.56,
          6.34,
          6.28,
          6.25,
          9.75,
          9.89,
          9.95,
          9.6,
          8.3,
          8.33,
          8.15,
          8.36,
          8.93,
          8.83,
          8.46,
          8.6,
          3.77,
          3.63,
          3.36,
          2.87,
          3.28,
          3.79,
          3.23,
          3.54,
          3.21,
          4.21,
          4.81,
          4.82,
          4.76,
          5.2,
          5.29,
          4.97,
          4.6,
          4.24,
          4.38,
          4.47,
          4.29,
          4.15,
          4.24,
          3.87,
          3.78,
          6.3,
          6.3,
          6.21,
          6.4,
          6.39,
          6.6,
          6.6,
          5.92,
          5.83,
          6.4,
          6.11,
          6.2,
          5.52,
          5.35,
          4.98,
          4.73,
          4.21,
          4.22,
          4.45,
          4.7,
          5.29,
          5.58,
          5.6,
          4.68,
          5.9,
          5.99,
          6.18,
          5.81,
          5.45,
          4.92,
          6.42,
          6.43,
          7.25,
          6.92,
          6.9,
          6.7,
          6.13,
          6.74,
          8.1,
          5.91,
          5.94,
          6.15,
          5.99,
          5.86,
          5.67,
          5.41,
          5.48,
          5.23,
          5.6,
          5.22,
          5.25,
          5.31,
          4.44,
          4.18,
          6.98,
          5.9,
          5.58,
          6.23,
          5.38,
          5.43,
          4.91,
          5.25,
          6.51,
          6.87,
          5.91,
          6.39,
          6.45,
          5.64,
          2.28,
          2.16,
          2.22,
          1.87,
          1.92,
          2.5,
          1.87,
          1.68,
          1.78,
          1.83,
          1.97,
          1.97,
          8.93,
          8.53,
          8.24,
          8.78,
          7.89,
          5.8,
          5.69,
          5.89,
          6.73,
          6.43,
          6.41,
          6.44,
          5.84,
          5.7,
          5.72,
          5.82,
          5.48,
          1.9,
          11.4,
          11.1,
          1.53,
          9.4,
          8.43,
          8.4,
          6.39,
          6.58,
          6.82,
          6.98,
          6.91,
          6.33,
          6.11,
          6.13,
          6.12,
          5.71,
          5.26,
          5.39,
          5.82,
          5.9,
          6.11,
          6.66,
          6.36,
          6.98,
          3.67,
          3.7,
          3.3,
          3.69,
          3.47,
          4.24,
          4,
          4.47,
          3.66,
          4.11,
          2.61,
          2.7,
          2.76,
          3.1,
          3.2,
          2.94,
          3.26,
          3.35,
          3.4,
          2.91,
          2.56,
          2.61,
          8.3,
          8.9,
          7.25,
          7.5,
          8.5,
          7.56,
          6.75,
          6.31,
          7,
          7.48,
          8.9,
          7.6,
          8.3,
          7.72,
          4.26,
          4.78,
          4.55,
          4.94,
          4.18,
          4.36,
          4.6,
          4.4,
          5.92,
          6.42,
          8.39,
          6.79,
          7.69,
          6.68,
          3.98,
          9.81,
          1.49,
          1.33,
          9.42,
          9.1,
          9.14,
          7.6,
          6.41,
          6.43,
          6.7,
          5.78,
          5.99,
          5.47,
          5.23,
          5.18,
          4.93,
          5.3,
          5.36,
          4.73,
          4.6,
          4.47,
          4.72,
          4.56,
          4.6,
          4.71,
          4.56,
          4.46,
          4.29,
          4.37,
          4.41,
          4.5,
          3.94,
          3.95,
          3.91,
          3.23,
          3.25,
          2.79,
          3,
          3.21,
          6.35,
          6.4,
          6.62,
          6.7,
          6.88,
          7.12,
          6.88,
          6.28,
          6.17,
          6.2,
          6.19,
          6.22,
          6.32,
          5.86,
          5.5,
          9.5,
          9.55,
          9.74,
          1.7,
          1.44,
          1.42,
          9.9,
          9.62,
          9.67,
          9.98,
          9.84,
          9.54,
          9.15,
          9.1,
          9.14,
          5.57,
          5.6,
          5.48,
          5.53,
          5.83,
          5.56,
          5.33,
          5.21,
          5.6,
          5.47,
          5.43,
          5.3,
          4.57,
          4.36,
          4.33,
          7.7,
          7.9,
          6.88,
          6.61,
          6.83,
          7.44,
          6.22,
          5.38,
          5.3,
          5.21,
          5.19,
          5.61,
          5.99,
          5.67,
          7.53,
          7.69,
          7.68,
          7.71,
          7.91,
          7.2,
          7.66,
          8.49,
          1.2,
          6.83,
          6.24,
          6.34,
          4.18,
          7.22,
          6.91,
          5.2,
          5.8,
          5.7,
          5.4,
          4.52,
          5.25,
          4.68,
          4.47,
          4.45,
          4.71,
          5.1,
          5.16,
          5.31,
          8.35,
          9.76,
          8.6,
          5.44,
          5.24,
          6.65,
          5.66,
          7.44,
          7.84,
          1.4,
          9.94,
          11.12,
          4.66,
          4.51,
          4.31,
          4.42,
          4.62,
          4.81,
          4.94,
          4.72,
          5.44,
          5.35,
          5.68,
          1.37,
          1.12,
          9.89,
          9.72,
          1.9,
          9.9,
          1.5,
          1.2,
          8.99,
          8.7,
          8.24,
          3.37,
          3.58,
          4.8,
          3.38,
          3.59,
          2.64,
          2.64,
          3.3,
          3.73,
          3.91,
          4.17,
          4.64,
          4.21,
          4.45,
          4.62,
          11.9,
          11.59,
          11.24,
          11.98,
          1.32,
          13.13,
          1.29,
          1.12,
          5.5,
          5.42,
          5.48,
          5.8,
          7.47,
          7.92,
          5.97,
          6.42,
          6.66,
          7.83,
          5.64,
          6,
          6.9,
          6.44,
          4.56,
          8.8,
          8.78,
          8.79,
          8.61,
          8.5,
          8.39,
          7.75,
          7.53,
          7.57,
          7.77,
          7.93,
          8.26,
          8.9,
          8.31,
          8.7,
          9.3,
          9.1,
          9.39,
          9.48,
          9.56,
          9.52,
          8.8,
          8.36,
          8.23,
          8.12,
          8.5,
          7.99,
          7.25,
          7.24,
          7.21,
          3.5,
          3.68,
          3.21,
          3.28,
          3.43,
          3.37,
          3.44,
          3.76,
          4.6,
          4.6,
          4.28,
          3.95,
          5.69,
          5.96,
          6.9,
          5.93,
          5.81,
          6.14,
          5.92,
          5.92,
          6.22,
          6.78,
          9.25,
          9.66,
          8.76,
          8.61,
          8.47,
          8.46,
          8.19,
          7.5,
          6.81,
          6.8,
          5.88,
          5.71,
          5.16,
          5.11,
          5.26,
          11.93,
          11.97,
          11.8,
          11.7,
          3.72,
          3.78,
          4.11,
          4.48,
          5.12,
          4.94,
          4.92,
          4.92,
          6.88,
          6.75,
          6.39,
          5.98,
          6.4,
          5.93,
          5.58,
          5.35,
          5.7,
          5.89,
          5.7,
          4.46,
          4.48,
          4.12,
          4,
          4.17,
          4.12,
          3.81,
          4.11,
          3.92,
          3.56,
          3.49,
          3.55,
          3.51,
          3.58,
          3.7,
          3.32,
          3.4,
          1.48,
          1.29,
          1.1,
          0.76,
          0.92,
          1.2,
          0.74,
          5.25,
          5.12,
          5.11,
          5.21,
          5.37,
          6.64,
          5.73,
          5.18,
          4.98,
          4.51,
          4.6,
          4.59,
          4.67,
          5.13,
          5.82,
          5.61,
          6.52,
          4.87,
          5.9,
          5.3,
          5.66,
          4.75,
          5.93,
          5.98,
          5.78,
          5.6,
          5.29,
          6.47,
          4.4,
          4.82,
          4.49,
          5.31,
          5.22,
          5.13,
          5,
          7,
          7.26,
          7.18,
          7.15,
          6.54,
          6.18,
          5.63,
          5.64,
          5.64,
          5.57,
          5.63,
          5.36,
          5.32,
          5.29,
          5.4,
          5.41,
          5.38,
          5.24,
          5.29,
          5.61,
          6.8,
          6.7,
          6.4,
          5.81,
          5.45,
          5.37,
          5.34,
          5.36,
          5.16,
          4.95,
          2.7,
          2.12,
          1.96,
          1.98,
          1.99,
          1.88,
          1.93,
          2.16,
          2.9,
          3.51,
          4.3,
          3.85,
          3.34,
          7.22,
          7.47,
          7.58,
          9.9,
          11.2,
          8.43,
          9.1,
          9.76,
          9.86,
          9.36,
          8.9,
          7.54,
          7.78,
          7.1,
          7.67,
          7.47,
          6.98,
          7.81,
          7.8,
          6.63,
          6.36,
          6.39,
          6.41,
          6.61,
          6.93,
          6.25,
          5.66,
          5.59,
          8.58,
          8.68,
          8.74,
          8.55,
          8.63,
          8.78,
          8.17,
          8.23,
          11.17,
          11.15,
          11.59,
          6.52,
          7.18,
          7.46,
          7.82,
          5.84,
          6.32,
          6.49,
          5.65,
          5.34,
          6.31,
          5.92,
          5.81,
          5.49,
          5.11,
          5.11,
          5.17,
          5.44,
          5.2,
          3.92,
          3.7,
          3.85,
          4.71,
          3.9,
          3.66,
          3.67,
          3.96,
          3.87,
          4.12,
          4.2,
          3.52,
          3.37,
          3.28,
          4.99,
          4.99,
          4.91,
          4.26,
          4.41,
          4.73,
          4.87,
          4.37,
          6.11,
          7.56,
          6.44,
          6.88,
          6.69,
          6.31,
          5.37,
          6.26,
          4.96,
          4.47,
          5.12,
          6.44,
          7.13,
          6.52,
          6.53,
          6.16,
          7.1
         ],
         "xaxis": "x",
         "yaxis": "y"
        }
       ],
       "layout": {
        "barmode": "relative",
        "legend": {
         "tracegroupgap": 0
        },
        "margin": {
         "t": 60
        },
        "template": {
         "data": {
          "bar": [
           {
            "error_x": {
             "color": "#f2f5fa"
            },
            "error_y": {
             "color": "#f2f5fa"
            },
            "marker": {
             "line": {
              "color": "rgb(17,17,17)",
              "width": 0.5
             },
             "pattern": {
              "fillmode": "overlay",
              "size": 10,
              "solidity": 0.2
             }
            },
            "type": "bar"
           }
          ],
          "barpolar": [
           {
            "marker": {
             "line": {
              "color": "rgb(17,17,17)",
              "width": 0.5
             },
             "pattern": {
              "fillmode": "overlay",
              "size": 10,
              "solidity": 0.2
             }
            },
            "type": "barpolar"
           }
          ],
          "carpet": [
           {
            "aaxis": {
             "endlinecolor": "#A2B1C6",
             "gridcolor": "#506784",
             "linecolor": "#506784",
             "minorgridcolor": "#506784",
             "startlinecolor": "#A2B1C6"
            },
            "baxis": {
             "endlinecolor": "#A2B1C6",
             "gridcolor": "#506784",
             "linecolor": "#506784",
             "minorgridcolor": "#506784",
             "startlinecolor": "#A2B1C6"
            },
            "type": "carpet"
           }
          ],
          "choropleth": [
           {
            "colorbar": {
             "outlinewidth": 0,
             "ticks": ""
            },
            "type": "choropleth"
           }
          ],
          "contour": [
           {
            "colorbar": {
             "outlinewidth": 0,
             "ticks": ""
            },
            "colorscale": [
             [
              0,
              "#0d0887"
             ],
             [
              0.1111111111111111,
              "#46039f"
             ],
             [
              0.2222222222222222,
              "#7201a8"
             ],
             [
              0.3333333333333333,
              "#9c179e"
             ],
             [
              0.4444444444444444,
              "#bd3786"
             ],
             [
              0.5555555555555556,
              "#d8576b"
             ],
             [
              0.6666666666666666,
              "#ed7953"
             ],
             [
              0.7777777777777778,
              "#fb9f3a"
             ],
             [
              0.8888888888888888,
              "#fdca26"
             ],
             [
              1,
              "#f0f921"
             ]
            ],
            "type": "contour"
           }
          ],
          "contourcarpet": [
           {
            "colorbar": {
             "outlinewidth": 0,
             "ticks": ""
            },
            "type": "contourcarpet"
           }
          ],
          "heatmap": [
           {
            "colorbar": {
             "outlinewidth": 0,
             "ticks": ""
            },
            "colorscale": [
             [
              0,
              "#0d0887"
             ],
             [
              0.1111111111111111,
              "#46039f"
             ],
             [
              0.2222222222222222,
              "#7201a8"
             ],
             [
              0.3333333333333333,
              "#9c179e"
             ],
             [
              0.4444444444444444,
              "#bd3786"
             ],
             [
              0.5555555555555556,
              "#d8576b"
             ],
             [
              0.6666666666666666,
              "#ed7953"
             ],
             [
              0.7777777777777778,
              "#fb9f3a"
             ],
             [
              0.8888888888888888,
              "#fdca26"
             ],
             [
              1,
              "#f0f921"
             ]
            ],
            "type": "heatmap"
           }
          ],
          "heatmapgl": [
           {
            "colorbar": {
             "outlinewidth": 0,
             "ticks": ""
            },
            "colorscale": [
             [
              0,
              "#0d0887"
             ],
             [
              0.1111111111111111,
              "#46039f"
             ],
             [
              0.2222222222222222,
              "#7201a8"
             ],
             [
              0.3333333333333333,
              "#9c179e"
             ],
             [
              0.4444444444444444,
              "#bd3786"
             ],
             [
              0.5555555555555556,
              "#d8576b"
             ],
             [
              0.6666666666666666,
              "#ed7953"
             ],
             [
              0.7777777777777778,
              "#fb9f3a"
             ],
             [
              0.8888888888888888,
              "#fdca26"
             ],
             [
              1,
              "#f0f921"
             ]
            ],
            "type": "heatmapgl"
           }
          ],
          "histogram": [
           {
            "marker": {
             "pattern": {
              "fillmode": "overlay",
              "size": 10,
              "solidity": 0.2
             }
            },
            "type": "histogram"
           }
          ],
          "histogram2d": [
           {
            "colorbar": {
             "outlinewidth": 0,
             "ticks": ""
            },
            "colorscale": [
             [
              0,
              "#0d0887"
             ],
             [
              0.1111111111111111,
              "#46039f"
             ],
             [
              0.2222222222222222,
              "#7201a8"
             ],
             [
              0.3333333333333333,
              "#9c179e"
             ],
             [
              0.4444444444444444,
              "#bd3786"
             ],
             [
              0.5555555555555556,
              "#d8576b"
             ],
             [
              0.6666666666666666,
              "#ed7953"
             ],
             [
              0.7777777777777778,
              "#fb9f3a"
             ],
             [
              0.8888888888888888,
              "#fdca26"
             ],
             [
              1,
              "#f0f921"
             ]
            ],
            "type": "histogram2d"
           }
          ],
          "histogram2dcontour": [
           {
            "colorbar": {
             "outlinewidth": 0,
             "ticks": ""
            },
            "colorscale": [
             [
              0,
              "#0d0887"
             ],
             [
              0.1111111111111111,
              "#46039f"
             ],
             [
              0.2222222222222222,
              "#7201a8"
             ],
             [
              0.3333333333333333,
              "#9c179e"
             ],
             [
              0.4444444444444444,
              "#bd3786"
             ],
             [
              0.5555555555555556,
              "#d8576b"
             ],
             [
              0.6666666666666666,
              "#ed7953"
             ],
             [
              0.7777777777777778,
              "#fb9f3a"
             ],
             [
              0.8888888888888888,
              "#fdca26"
             ],
             [
              1,
              "#f0f921"
             ]
            ],
            "type": "histogram2dcontour"
           }
          ],
          "mesh3d": [
           {
            "colorbar": {
             "outlinewidth": 0,
             "ticks": ""
            },
            "type": "mesh3d"
           }
          ],
          "parcoords": [
           {
            "line": {
             "colorbar": {
              "outlinewidth": 0,
              "ticks": ""
             }
            },
            "type": "parcoords"
           }
          ],
          "pie": [
           {
            "automargin": true,
            "type": "pie"
           }
          ],
          "scatter": [
           {
            "marker": {
             "line": {
              "color": "#283442"
             }
            },
            "type": "scatter"
           }
          ],
          "scatter3d": [
           {
            "line": {
             "colorbar": {
              "outlinewidth": 0,
              "ticks": ""
             }
            },
            "marker": {
             "colorbar": {
              "outlinewidth": 0,
              "ticks": ""
             }
            },
            "type": "scatter3d"
           }
          ],
          "scattercarpet": [
           {
            "marker": {
             "colorbar": {
              "outlinewidth": 0,
              "ticks": ""
             }
            },
            "type": "scattercarpet"
           }
          ],
          "scattergeo": [
           {
            "marker": {
             "colorbar": {
              "outlinewidth": 0,
              "ticks": ""
             }
            },
            "type": "scattergeo"
           }
          ],
          "scattergl": [
           {
            "marker": {
             "line": {
              "color": "#283442"
             }
            },
            "type": "scattergl"
           }
          ],
          "scattermapbox": [
           {
            "marker": {
             "colorbar": {
              "outlinewidth": 0,
              "ticks": ""
             }
            },
            "type": "scattermapbox"
           }
          ],
          "scatterpolar": [
           {
            "marker": {
             "colorbar": {
              "outlinewidth": 0,
              "ticks": ""
             }
            },
            "type": "scatterpolar"
           }
          ],
          "scatterpolargl": [
           {
            "marker": {
             "colorbar": {
              "outlinewidth": 0,
              "ticks": ""
             }
            },
            "type": "scatterpolargl"
           }
          ],
          "scatterternary": [
           {
            "marker": {
             "colorbar": {
              "outlinewidth": 0,
              "ticks": ""
             }
            },
            "type": "scatterternary"
           }
          ],
          "surface": [
           {
            "colorbar": {
             "outlinewidth": 0,
             "ticks": ""
            },
            "colorscale": [
             [
              0,
              "#0d0887"
             ],
             [
              0.1111111111111111,
              "#46039f"
             ],
             [
              0.2222222222222222,
              "#7201a8"
             ],
             [
              0.3333333333333333,
              "#9c179e"
             ],
             [
              0.4444444444444444,
              "#bd3786"
             ],
             [
              0.5555555555555556,
              "#d8576b"
             ],
             [
              0.6666666666666666,
              "#ed7953"
             ],
             [
              0.7777777777777778,
              "#fb9f3a"
             ],
             [
              0.8888888888888888,
              "#fdca26"
             ],
             [
              1,
              "#f0f921"
             ]
            ],
            "type": "surface"
           }
          ],
          "table": [
           {
            "cells": {
             "fill": {
              "color": "#506784"
             },
             "line": {
              "color": "rgb(17,17,17)"
             }
            },
            "header": {
             "fill": {
              "color": "#2a3f5f"
             },
             "line": {
              "color": "rgb(17,17,17)"
             }
            },
            "type": "table"
           }
          ]
         },
         "layout": {
          "annotationdefaults": {
           "arrowcolor": "#f2f5fa",
           "arrowhead": 0,
           "arrowwidth": 1
          },
          "autotypenumbers": "strict",
          "coloraxis": {
           "colorbar": {
            "outlinewidth": 0,
            "ticks": ""
           }
          },
          "colorscale": {
           "diverging": [
            [
             0,
             "#8e0152"
            ],
            [
             0.1,
             "#c51b7d"
            ],
            [
             0.2,
             "#de77ae"
            ],
            [
             0.3,
             "#f1b6da"
            ],
            [
             0.4,
             "#fde0ef"
            ],
            [
             0.5,
             "#f7f7f7"
            ],
            [
             0.6,
             "#e6f5d0"
            ],
            [
             0.7,
             "#b8e186"
            ],
            [
             0.8,
             "#7fbc41"
            ],
            [
             0.9,
             "#4d9221"
            ],
            [
             1,
             "#276419"
            ]
           ],
           "sequential": [
            [
             0,
             "#0d0887"
            ],
            [
             0.1111111111111111,
             "#46039f"
            ],
            [
             0.2222222222222222,
             "#7201a8"
            ],
            [
             0.3333333333333333,
             "#9c179e"
            ],
            [
             0.4444444444444444,
             "#bd3786"
            ],
            [
             0.5555555555555556,
             "#d8576b"
            ],
            [
             0.6666666666666666,
             "#ed7953"
            ],
            [
             0.7777777777777778,
             "#fb9f3a"
            ],
            [
             0.8888888888888888,
             "#fdca26"
            ],
            [
             1,
             "#f0f921"
            ]
           ],
           "sequentialminus": [
            [
             0,
             "#0d0887"
            ],
            [
             0.1111111111111111,
             "#46039f"
            ],
            [
             0.2222222222222222,
             "#7201a8"
            ],
            [
             0.3333333333333333,
             "#9c179e"
            ],
            [
             0.4444444444444444,
             "#bd3786"
            ],
            [
             0.5555555555555556,
             "#d8576b"
            ],
            [
             0.6666666666666666,
             "#ed7953"
            ],
            [
             0.7777777777777778,
             "#fb9f3a"
            ],
            [
             0.8888888888888888,
             "#fdca26"
            ],
            [
             1,
             "#f0f921"
            ]
           ]
          },
          "colorway": [
           "#636efa",
           "#EF553B",
           "#00cc96",
           "#ab63fa",
           "#FFA15A",
           "#19d3f3",
           "#FF6692",
           "#B6E880",
           "#FF97FF",
           "#FECB52"
          ],
          "font": {
           "color": "#f2f5fa"
          },
          "geo": {
           "bgcolor": "rgb(17,17,17)",
           "lakecolor": "rgb(17,17,17)",
           "landcolor": "rgb(17,17,17)",
           "showlakes": true,
           "showland": true,
           "subunitcolor": "#506784"
          },
          "hoverlabel": {
           "align": "left"
          },
          "hovermode": "closest",
          "mapbox": {
           "style": "dark"
          },
          "paper_bgcolor": "rgb(17,17,17)",
          "plot_bgcolor": "rgb(17,17,17)",
          "polar": {
           "angularaxis": {
            "gridcolor": "#506784",
            "linecolor": "#506784",
            "ticks": ""
           },
           "bgcolor": "rgb(17,17,17)",
           "radialaxis": {
            "gridcolor": "#506784",
            "linecolor": "#506784",
            "ticks": ""
           }
          },
          "scene": {
           "xaxis": {
            "backgroundcolor": "rgb(17,17,17)",
            "gridcolor": "#506784",
            "gridwidth": 2,
            "linecolor": "#506784",
            "showbackground": true,
            "ticks": "",
            "zerolinecolor": "#C8D4E3"
           },
           "yaxis": {
            "backgroundcolor": "rgb(17,17,17)",
            "gridcolor": "#506784",
            "gridwidth": 2,
            "linecolor": "#506784",
            "showbackground": true,
            "ticks": "",
            "zerolinecolor": "#C8D4E3"
           },
           "zaxis": {
            "backgroundcolor": "rgb(17,17,17)",
            "gridcolor": "#506784",
            "gridwidth": 2,
            "linecolor": "#506784",
            "showbackground": true,
            "ticks": "",
            "zerolinecolor": "#C8D4E3"
           }
          },
          "shapedefaults": {
           "line": {
            "color": "#f2f5fa"
           }
          },
          "sliderdefaults": {
           "bgcolor": "#C8D4E3",
           "bordercolor": "rgb(17,17,17)",
           "borderwidth": 1,
           "tickwidth": 0
          },
          "ternary": {
           "aaxis": {
            "gridcolor": "#506784",
            "linecolor": "#506784",
            "ticks": ""
           },
           "baxis": {
            "gridcolor": "#506784",
            "linecolor": "#506784",
            "ticks": ""
           },
           "bgcolor": "rgb(17,17,17)",
           "caxis": {
            "gridcolor": "#506784",
            "linecolor": "#506784",
            "ticks": ""
           }
          },
          "title": {
           "x": 0.05
          },
          "updatemenudefaults": {
           "bgcolor": "#506784",
           "borderwidth": 0
          },
          "xaxis": {
           "automargin": true,
           "gridcolor": "#283442",
           "linecolor": "#506784",
           "ticks": "",
           "title": {
            "standoff": 15
           },
           "zerolinecolor": "#283442",
           "zerolinewidth": 2
          },
          "yaxis": {
           "automargin": true,
           "gridcolor": "#283442",
           "linecolor": "#506784",
           "ticks": "",
           "title": {
            "standoff": 15
           },
           "zerolinecolor": "#283442",
           "zerolinewidth": 2
          }
         }
        },
        "xaxis": {
         "anchor": "y",
         "domain": [
          0,
          1
         ],
         "title": {
          "text": "Total expenditure"
         }
        },
        "yaxis": {
         "anchor": "x",
         "domain": [
          0,
          1
         ],
         "title": {
          "text": "count"
         }
        }
       }
      }
     },
     "metadata": {},
     "output_type": "display_data"
    }
   ],
   "source": [
    "fig=px.histogram(df,x='Total expenditure',template='plotly_dark')\n",
    "fig.show()"
   ]
  },
  {
   "cell_type": "code",
   "execution_count": 31,
   "metadata": {},
   "outputs": [
    {
     "data": {
      "application/vnd.plotly.v1+json": {
       "config": {
        "plotlyServerURL": "https://plot.ly"
       },
       "data": [
        {
         "alignmentgroup": "True",
         "bingroup": "x",
         "hovertemplate": "Schooling=%{x}<br>count=%{y}<extra></extra>",
         "legendgroup": "",
         "marker": {
          "color": "#636efa",
          "pattern": {
           "shape": ""
          }
         },
         "name": "",
         "offsetgroup": "",
         "orientation": "v",
         "showlegend": false,
         "type": "histogram",
         "x": [
          10.1,
          10,
          9.9,
          9.8,
          9.5,
          9.2,
          8.9,
          8.7,
          8.4,
          8.1,
          7.9,
          6.8,
          6.5,
          6.2,
          5.9,
          5.5,
          14.2,
          14.2,
          14.2,
          14.2,
          13.3,
          12.5,
          12.2,
          12,
          11.6,
          11.4,
          10.8,
          10.9,
          10.7,
          10.7,
          10.6,
          10.7,
          14.4,
          14.4,
          14.4,
          14,
          13.6,
          13.1,
          12.6,
          12.3,
          12.3,
          12,
          11.7,
          11.4,
          11.4,
          10.3,
          9.4,
          9,
          8.5,
          8.1,
          7.7,
          17.3,
          17.3,
          17.2,
          17.1,
          16.8,
          16.5,
          16.3,
          16.3,
          16.1,
          16.3,
          16.3,
          16.4,
          16.3,
          12.7,
          12.7,
          12.7,
          12.7,
          12.3,
          11.9,
          12.3,
          11.7,
          11.2,
          10.9,
          10.9,
          10.8,
          10.8,
          11.1,
          11.2,
          20.4,
          20.3,
          20.1,
          19.8,
          19.5,
          19.1,
          19.1,
          19,
          20.3,
          20.3,
          20.7,
          20.6,
          20.1,
          20.5,
          15.9,
          15.7,
          15.7,
          15.7,
          15.4,
          15.3,
          15.1,
          15.2,
          15,
          14.9,
          14.7,
          14.7,
          16.1,
          15.5,
          15.4,
          12.2,
          11.9,
          11.8,
          11.7,
          11.7,
          11.6,
          11.6,
          11.6,
          10.7,
          11.2,
          11,
          10.8,
          10.6,
          10,
          10,
          9.9,
          9.4,
          8.9,
          8.4,
          8.6,
          8.6,
          8.4,
          8.2,
          8.1,
          7.9,
          15.7,
          15.7,
          15.6,
          15.5,
          15.5,
          15.4,
          15.1,
          14.9,
          14.6,
          14.4,
          14.1,
          13.9,
          13.6,
          13.3,
          13.1,
          16.3,
          16.3,
          16.2,
          16.1,
          15.9,
          15.8,
          15.8,
          15.8,
          15.7,
          15.7,
          18.8,
          18.6,
          18.8,
          18.2,
          18,
          12.8,
          12.9,
          12.5,
          12.4,
          12.4,
          12.7,
          12.8,
          12.8,
          12.3,
          12.8,
          12.5,
          12.2,
          11.9,
          11.8,
          11.7,
          10.7,
          10.3,
          10,
          9.8,
          9.5,
          9.3,
          9.1,
          8.9,
          8.7,
          8.5,
          8.1,
          7.7,
          7.3,
          12.5,
          12.6,
          12.3,
          11.9,
          11.4,
          10.9,
          10.5,
          10.1,
          9.6,
          9.2,
          8.8,
          8.4,
          8,
          7.6,
          7.3,
          14.2,
          14.2,
          13.9,
          13.4,
          13.3,
          13.3,
          13.1,
          12.9,
          12.7,
          12.5,
          12.3,
          12.6,
          12.6,
          12.5,
          12.4,
          12.3,
          12.2,
          12.1,
          12.1,
          11.9,
          11.9,
          11.8,
          11.8,
          11.9,
          11.8,
          11.7,
          15.2,
          14.2,
          14.2,
          14,
          13.8,
          13.8,
          13.3,
          13.5,
          13.8,
          13.8,
          14,
          14.8,
          14.6,
          14.3,
          14.1,
          14.8,
          14.4,
          14.3,
          14.2,
          13.9,
          13.8,
          13.8,
          13.5,
          13.5,
          13.5,
          13.3,
          12.9,
          12.9,
          12.9,
          12.9,
          7.7,
          7.5,
          7.2,
          6.7,
          6.3,
          5.9,
          5.4,
          4.9,
          4.7,
          10.6,
          10.5,
          10.3,
          9.9,
          9.3,
          8.6,
          7.9,
          7.2,
          5.9,
          5.6,
          5.2,
          13.5,
          13.6,
          13.2,
          13.1,
          12.7,
          12.4,
          12.2,
          11.9,
          11.9,
          11.2,
          11.1,
          11.3,
          11.3,
          10.9,
          10.8,
          10.7,
          10.7,
          10.6,
          10.5,
          10.5,
          10.3,
          10.1,
          10.4,
          10.4,
          10.4,
          10,
          9.7,
          9.2,
          8.8,
          8,
          8.2,
          8.3,
          15.9,
          15.9,
          15.9,
          15.9,
          15.9,
          15.9,
          15.8,
          15.8,
          15.8,
          15.8,
          15.8,
          15.8,
          7.1,
          7.1,
          7.1,
          6.8,
          6.6,
          6.4,
          7.3,
          7.3,
          7.3,
          6.7,
          6.7,
          6.3,
          6,
          16.2,
          15.6,
          15.5,
          15.4,
          15.2,
          15.3,
          15.2,
          14.8,
          14.9,
          13.1,
          12.7,
          12.4,
          12.8,
          12.5,
          12.2,
          11.9,
          11.4,
          11,
          10.6,
          10.2,
          9.9,
          9.7,
          9.6,
          9.5,
          13.6,
          13.3,
          13.2,
          13,
          12.8,
          12.4,
          12.2,
          11.9,
          11.5,
          11.1,
          11.3,
          11.6,
          11.5,
          11.4,
          11.3,
          11.1,
          10.9,
          10.8,
          10.6,
          10.5,
          10.3,
          10.2,
          10,
          9.9,
          9.7,
          9.5,
          9.2,
          13.9,
          13.7,
          13.6,
          13.4,
          13.3,
          13.1,
          12.9,
          12.8,
          12.6,
          12.4,
          12.2,
          12.1,
          11.9,
          11.7,
          11.6,
          15.1,
          14.9,
          14.6,
          14.5,
          14.2,
          14.2,
          14.3,
          14.3,
          14,
          13.8,
          13.8,
          13.8,
          14.6,
          14.1,
          13.7,
          13.5,
          13.4,
          13.5,
          13.4,
          13,
          12.5,
          12.4,
          12.5,
          6.3,
          6.3,
          6.3,
          5.9,
          5.5,
          5.3,
          5,
          4.5,
          13.2,
          13.2,
          13.1,
          13,
          12.9,
          12.9,
          12.8,
          12.7,
          12.6,
          12.6,
          12.5,
          12.4,
          12.3,
          12.3,
          12.2,
          14,
          13.4,
          13.3,
          13.2,
          13.1,
          13.1,
          13,
          12.9,
          12.8,
          12.8,
          12.7,
          12.6,
          12.5,
          12.4,
          12.4,
          13.2,
          13.2,
          13.2,
          13,
          12.9,
          12.8,
          13.4,
          12.9,
          12.9,
          12.7,
          12.4,
          12,
          11.8,
          11.6,
          11.3,
          9.2,
          5,
          5.1,
          5.2,
          5.2,
          5.3,
          5.3,
          5.4,
          5,
          4.7,
          4.4,
          16.5,
          16.5,
          16.5,
          16.4,
          16.2,
          16.1,
          16.1,
          16.1,
          16.1,
          15.9,
          15.7,
          8.4,
          8.4,
          8.4,
          8.2,
          8.1,
          8.1,
          7.6,
          7.1,
          15.2,
          15,
          14.9,
          14.7,
          14.6,
          14.5,
          14.3,
          14.2,
          14,
          13.9,
          13.4,
          13.3,
          13.3,
          13.2,
          13.1,
          16.2,
          16.2,
          16.1,
          16.1,
          16,
          16,
          16.1,
          16.1,
          16.1,
          15.5,
          15.5,
          15.4,
          15.5,
          15.6,
          15.7,
          12.6,
          12.5,
          12.5,
          12.5,
          12.5,
          12.4,
          12.4,
          12.4,
          12.4,
          12.4,
          13.5,
          13.5,
          13.4,
          13.3,
          13.3,
          12.8,
          13.1,
          12.5,
          12.6,
          12.2,
          12,
          11.8,
          11.8,
          11.7,
          11.4,
          17,
          16.9,
          16.9,
          16.8,
          16.7,
          16.7,
          16.6,
          16.6,
          16.5,
          16.4,
          16.4,
          16.3,
          16.3,
          16.2,
          16.2,
          11.7,
          11.5,
          11.2,
          10.9,
          10.5,
          10.4,
          9.8,
          9.1,
          8.7,
          8.1,
          7.7,
          7.9,
          7.6,
          17.2,
          17.1,
          16.8,
          16.7,
          16.4,
          16.2,
          15.9,
          16.4,
          16.3,
          15.6,
          15.3,
          15.2,
          14.6,
          14.2,
          13.9,
          10.7,
          10.7,
          10.6,
          10.5,
          10.5,
          10.4,
          10.4,
          10.1,
          9.8,
          9.6,
          8.6,
          8.5,
          8.5,
          8.4,
          8.3,
          8.1,
          7.9,
          7.6,
          9.2,
          9.1,
          9.1,
          9,
          8.9,
          8.9,
          10.3,
          10.3,
          10.6,
          10.3,
          10.2,
          10.5,
          10.7,
          11.2,
          11.7,
          11.4,
          11.2,
          11.1,
          11,
          10.9,
          9.1,
          9.1,
          11.4,
          11.6,
          11.6,
          11.7,
          11.5,
          11.3,
          11.1,
          10.9,
          10.8,
          10.6,
          10.4,
          10.3,
          10.1,
          9.9,
          9.8,
          11.6,
          11.5,
          11.3,
          10.8,
          10.4,
          10.5,
          10.2,
          9.9,
          9.7,
          9.4,
          9.2,
          12.9,
          12.9,
          12.6,
          12.3,
          12.1,
          11.7,
          11.7,
          11,
          10.9,
          11.1,
          11,
          10.8,
          10.6,
          10.6,
          10.7,
          10.1,
          10.3,
          10.5,
          10.4,
          10.4,
          10.3,
          10.3,
          10.2,
          10.2,
          10.1,
          9.8,
          18.6,
          18.6,
          18.5,
          18.5,
          18.2,
          16,
          15.9,
          15.9,
          15.8,
          15.7,
          15.6,
          15.8,
          15.7,
          15.7,
          15.8,
          15.9,
          16,
          15.3,
          15.1,
          15.2,
          16.3,
          16.5,
          16.6,
          16.4,
          16.4,
          16.3,
          16.3,
          16.1,
          16,
          15.8,
          15.6,
          15.4,
          15.2,
          14.9,
          14.8,
          12.8,
          12.8,
          12.8,
          12.8,
          12.7,
          12.7,
          12.6,
          12.5,
          12.5,
          12.4,
          11.1,
          11.9,
          13.1,
          13.1,
          12.9,
          13.1,
          13.2,
          13.6,
          13.6,
          13.6,
          13.7,
          13.8,
          13.5,
          13.2,
          13,
          12.7,
          12.6,
          15,
          15,
          14.7,
          14.4,
          14.5,
          14.6,
          14.6,
          14.7,
          14.3,
          13.9,
          13.5,
          13.1,
          12.7,
          12.3,
          12.1,
          11.1,
          11.1,
          11.1,
          11.1,
          11.1,
          10.7,
          10.4,
          10.1,
          9.7,
          9.6,
          8.9,
          8.2,
          8.5,
          11.9,
          11.9,
          11.9,
          11.9,
          11.9,
          11.9,
          11.6,
          11.8,
          12.1,
          12.2,
          12.4,
          11.6,
          11.7,
          10.4,
          10,
          16,
          15.4,
          15.5,
          15.8,
          16,
          16.4,
          16.3,
          16.2,
          16.2,
          15.9,
          15.5,
          15.2,
          14.8,
          14.2,
          13.7,
          13.3,
          13.3,
          13.3,
          13.2,
          13.3,
          13.2,
          13.1,
          12.9,
          13.2,
          13.7,
          14.2,
          14.8,
          15.2,
          15,
          14.9,
          10.8,
          11.1,
          11,
          11,
          10.9,
          10.8,
          10.7,
          10.6,
          10.7,
          10.7,
          10.7,
          10.5,
          9.9,
          9.8,
          9.6,
          9.5,
          9.6,
          9.7,
          9.8,
          16.5,
          16.4,
          16.5,
          16.7,
          16.8,
          16.6,
          16.5,
          16.4,
          16.4,
          16.2,
          16.3,
          15.8,
          15.3,
          14.7,
          14,
          13.9,
          13.9,
          13.9,
          13.9,
          13.7,
          13.5,
          13.5,
          13.5,
          13.5,
          13.5,
          13.5,
          13.6,
          13.5,
          13.4,
          13.5,
          10.3,
          10.3,
          10.2,
          10.2,
          10.2,
          9.7,
          9.4,
          9.1,
          9,
          8.9,
          8.7,
          8.5,
          8.3,
          10.7,
          10.7,
          10.7,
          10.6,
          10.2,
          9.9,
          9.6,
          9.7,
          9.6,
          9.7,
          10,
          10.3,
          10.4,
          13,
          12.9,
          12.9,
          13,
          12.8,
          12.6,
          12.5,
          12.3,
          12.7,
          12.9,
          12.7,
          12.1,
          12,
          11.9,
          11.6,
          12.7,
          12.4,
          12.1,
          11.8,
          11.6,
          11.8,
          11.8,
          11.9,
          12,
          12.1,
          12.2,
          11.8,
          12,
          11.8,
          11.3,
          8.2,
          8,
          7.7,
          7.5,
          7.3,
          7.1,
          5.8,
          6.4,
          6.1,
          5.8,
          5.5,
          5.2,
          14.3,
          14.2,
          14.1,
          14.8,
          14.6,
          14.4,
          14.6,
          14.4,
          14.8,
          14.8,
          14.2,
          13.8,
          8.5,
          8.2,
          7.8,
          7.7,
          7.6,
          7.1,
          7.2,
          7.4,
          7.2,
          7.2,
          14.7,
          14.7,
          14.3,
          14.1,
          14,
          13.8,
          13.6,
          13.5,
          13.4,
          13,
          12.8,
          12.6,
          12.5,
          12.2,
          12.1,
          13.1,
          12.9,
          12.7,
          12.6,
          12.5,
          12.5,
          12.3,
          12.3,
          12.2,
          12.2,
          12.1,
          11.9,
          11.6,
          11.6,
          11.4,
          14.8,
          14.7,
          14.7,
          14.6,
          14.3,
          13.8,
          13.4,
          13,
          12.7,
          11.8,
          11.2,
          10.5,
          10.1,
          9.4,
          8.9,
          15.1,
          15.1,
          15.1,
          15.1,
          15,
          14.6,
          14.2,
          13.6,
          13.2,
          12.1,
          12.1,
          11.6,
          11.2,
          10.7,
          10.5,
          10.3,
          10,
          10,
          9.8,
          9.6,
          9.3,
          8.8,
          8.5,
          8,
          9.1,
          9.1,
          9.2,
          9.5,
          9.3,
          9.2,
          8.8,
          8.2,
          7.9,
          7.3,
          7,
          6.7,
          6.2,
          5.8,
          9.1,
          9.1,
          9.1,
          9.1,
          8.8,
          8.5,
          8.2,
          8.1,
          8,
          7.9,
          7.8,
          7.7,
          11.7,
          11.6,
          11.5,
          11.5,
          11.4,
          12.4,
          12.3,
          12.3,
          12,
          11.1,
          10.5,
          10.1,
          10,
          9.6,
          9.4,
          9.3,
          9.2,
          18.1,
          18.1,
          18.1,
          17.2,
          11.6,
          11.5,
          11.5,
          11.5,
          11.4,
          11.3,
          11.1,
          11,
          11,
          11,
          11,
          11,
          10.7,
          10.4,
          10.1,
          5.3,
          5.3,
          5.1,
          4.8,
          4.5,
          4.2,
          10,
          9.8,
          9.7,
          9.6,
          9.5,
          9.3,
          9.2,
          9.1,
          9,
          8.9,
          7.8,
          7.7,
          7.6,
          7.5,
          7.5,
          7.3,
          7.3,
          6.7,
          6.5,
          6.1,
          5.6,
          5.6,
          13,
          12.9,
          12.8,
          12.9,
          12.8,
          12.8,
          12.8,
          12.9,
          12.9,
          12.9,
          12.8,
          12.8,
          12.6,
          12.4,
          10,
          10,
          9.9,
          9.9,
          9.6,
          9.2,
          8.9,
          8.6,
          8.2,
          7.9,
          7.6,
          7.2,
          6.9,
          6.6,
          6.2,
          12.3,
          12.3,
          12.3,
          12.3,
          12.4,
          12.1,
          11.9,
          12,
          12.1,
          12.3,
          12.1,
          12.7,
          13.4,
          13.4,
          13.4,
          13.4,
          13.3,
          13.3,
          13.2,
          13.2,
          13,
          13,
          12.8,
          13.3,
          11.7,
          11.7,
          11.6,
          11.5,
          11.4,
          11.7,
          11.5,
          11.4,
          11.5,
          11.6,
          11.6,
          11.6,
          11.4,
          11.4,
          11.4,
          16.4,
          15.4,
          15.3,
          15.4,
          15.1,
          15.1,
          15,
          15,
          15,
          14.8,
          15.5,
          15.3,
          15,
          14.7,
          14.6,
          16.8,
          16.3,
          16.3,
          16.2,
          16,
          16,
          15.8,
          15.4,
          15.4,
          15.4,
          15.9,
          15.8,
          15.9,
          15.7,
          15.5,
          14.7,
          14.7,
          15.3,
          15.7,
          15.8,
          15.4,
          14.7,
          14.1,
          13.7,
          13.4,
          12.9,
          12.5,
          12,
          11.7,
          11.5,
          14.9,
          14.6,
          14.3,
          14,
          13.7,
          14,
          13.9,
          13.8,
          13.8,
          13.7,
          13.6,
          13.2,
          12.8,
          12.5,
          10.8,
          10.8,
          10.5,
          10.2,
          10,
          10.2,
          10.4,
          10.1,
          9.3,
          8.8,
          8.2,
          7.6,
          7.2,
          12.9,
          12.9,
          12.9,
          12.9,
          12.9,
          12.9,
          12.9,
          12.9,
          12.7,
          12.6,
          12.4,
          12.3,
          12.1,
          12,
          12.1,
          11.1,
          11,
          10.8,
          10.6,
          10.6,
          10.1,
          10.4,
          10.3,
          10.2,
          10,
          9.8,
          9.7,
          9.1,
          8.7,
          8.3,
          7.9,
          7.7,
          7.5,
          7.1,
          6.8,
          6.6,
          6.4,
          6.2,
          14.3,
          14.1,
          14,
          13.5,
          13.6,
          13.6,
          13.5,
          13.5,
          13.4,
          13.2,
          13.1,
          13.2,
          13.5,
          13.5,
          13.3,
          13.2,
          13.2,
          13.2,
          13.1,
          13.1,
          12.1,
          12.3,
          12.1,
          12.1,
          12.2,
          12.3,
          9.5,
          9.3,
          9.1,
          8.9,
          8.7,
          8.5,
          8.3,
          8.2,
          9.6,
          9.5,
          9.4,
          9.4,
          9.3,
          9.3,
          9.2,
          9,
          8.4,
          8.3,
          8.1,
          8,
          7.3,
          6.6,
          7.2,
          13,
          12.8,
          12.8,
          12.8,
          12.8,
          12.8,
          12.9,
          12.9,
          12.9,
          12.9,
          12.9,
          12.9,
          12.9,
          13,
          13,
          17.6,
          17.5,
          17.2,
          16.9,
          16.4,
          16.3,
          16.1,
          16,
          15.9,
          15.8,
          15.6,
          15.6,
          15.7,
          15.7,
          15.7,
          14,
          13.8,
          13.7,
          13.6,
          13.5,
          13.4,
          13.3,
          13.2,
          13.1,
          12.9,
          12.8,
          12.7,
          12.7,
          12.7,
          12.7,
          12.5,
          12.3,
          12.1,
          11.9,
          11.7,
          11.5,
          11.3,
          11.4,
          11.4,
          11.3,
          11.2,
          11,
          10.8,
          10.6,
          10.5,
          9.9,
          9.7,
          9.4,
          9.1,
          9.2,
          9.3,
          9.4,
          15.8,
          15.8,
          15.8,
          16,
          11.5,
          11.4,
          11,
          10.6,
          10.3,
          10.2,
          10.1,
          10,
          11.3,
          11.2,
          11.1,
          11.1,
          11.1,
          11.1,
          10.8,
          10.9,
          10.7,
          10.6,
          10.5,
          10.1,
          9.8,
          13.6,
          13.6,
          13.7,
          13.3,
          13.1,
          13,
          12.9,
          12.3,
          12.4,
          12,
          11.9,
          11.8,
          11.5,
          11.2,
          10.9,
          12.5,
          12.5,
          12.5,
          12.5,
          12.4,
          12.1,
          11.7,
          12,
          12,
          12,
          11.5,
          11,
          10.6,
          10.1,
          14.3,
          14.3,
          14.4,
          14.4,
          14.4,
          14.5,
          14.5,
          14.5,
          14.6,
          14.6,
          14.6,
          13.7,
          13.5,
          13.2,
          13.7,
          12.7,
          12.7,
          12.6,
          12.6,
          12.5,
          12.5,
          12.4,
          12.4,
          12.3,
          12.3,
          12.2,
          12,
          11.9,
          14.7,
          14.7,
          14.6,
          14.5,
          14.4,
          14.4,
          14.3,
          14.3,
          14.2,
          13.9,
          13.6,
          13.5,
          13.3,
          13.1,
          12.8,
          14.5,
          14.4,
          14.3,
          13.8,
          13,
          12.5,
          12.5,
          12.3,
          11.9,
          11.9,
          12,
          11.9,
          11.5,
          11.1,
          10.7,
          10.8,
          10.7,
          10.7,
          10.6,
          10.6,
          10.5,
          10.5,
          10.4,
          10.4,
          10.3,
          10.3,
          10.3,
          10.2,
          10,
          10,
          10,
          10.7,
          10.9,
          10.8,
          10.6,
          10.3,
          10.6,
          10.9,
          11.6,
          11.5,
          11,
          15.2,
          15.2,
          15.1,
          14.9,
          14.9,
          14.9,
          14.9,
          14.8,
          14.7,
          14.5,
          14.6,
          14.3,
          13.9,
          13.2,
          13.3,
          15.5,
          15.5,
          15.5,
          15.5,
          15.6,
          15.5,
          15.7,
          15.3,
          15.2,
          15.5,
          15.5,
          15,
          14.7,
          14.2,
          14,
          12.1,
          12,
          12,
          12,
          11.9,
          11.8,
          11.9,
          11.8,
          11.8,
          11.7,
          11.6,
          11.3,
          11,
          10.8,
          10.8,
          10.8,
          10.8,
          10.8,
          10.7,
          10.7,
          10.7,
          10.6,
          10.6,
          10.7,
          10.4,
          10.2,
          10.1,
          9.6,
          12.5,
          12.5,
          12.3,
          12,
          11.8,
          11.6,
          11.4,
          11.1,
          10.9,
          10.7,
          10.3,
          10.4,
          9.8,
          10.1,
          10,
          9.9,
          9.7,
          9.6,
          9.5,
          9.3,
          9.2,
          9.5,
          10,
          9.8,
          9.8
         ],
         "xaxis": "x",
         "yaxis": "y"
        }
       ],
       "layout": {
        "barmode": "relative",
        "legend": {
         "tracegroupgap": 0
        },
        "margin": {
         "t": 60
        },
        "template": {
         "data": {
          "bar": [
           {
            "error_x": {
             "color": "#f2f5fa"
            },
            "error_y": {
             "color": "#f2f5fa"
            },
            "marker": {
             "line": {
              "color": "rgb(17,17,17)",
              "width": 0.5
             },
             "pattern": {
              "fillmode": "overlay",
              "size": 10,
              "solidity": 0.2
             }
            },
            "type": "bar"
           }
          ],
          "barpolar": [
           {
            "marker": {
             "line": {
              "color": "rgb(17,17,17)",
              "width": 0.5
             },
             "pattern": {
              "fillmode": "overlay",
              "size": 10,
              "solidity": 0.2
             }
            },
            "type": "barpolar"
           }
          ],
          "carpet": [
           {
            "aaxis": {
             "endlinecolor": "#A2B1C6",
             "gridcolor": "#506784",
             "linecolor": "#506784",
             "minorgridcolor": "#506784",
             "startlinecolor": "#A2B1C6"
            },
            "baxis": {
             "endlinecolor": "#A2B1C6",
             "gridcolor": "#506784",
             "linecolor": "#506784",
             "minorgridcolor": "#506784",
             "startlinecolor": "#A2B1C6"
            },
            "type": "carpet"
           }
          ],
          "choropleth": [
           {
            "colorbar": {
             "outlinewidth": 0,
             "ticks": ""
            },
            "type": "choropleth"
           }
          ],
          "contour": [
           {
            "colorbar": {
             "outlinewidth": 0,
             "ticks": ""
            },
            "colorscale": [
             [
              0,
              "#0d0887"
             ],
             [
              0.1111111111111111,
              "#46039f"
             ],
             [
              0.2222222222222222,
              "#7201a8"
             ],
             [
              0.3333333333333333,
              "#9c179e"
             ],
             [
              0.4444444444444444,
              "#bd3786"
             ],
             [
              0.5555555555555556,
              "#d8576b"
             ],
             [
              0.6666666666666666,
              "#ed7953"
             ],
             [
              0.7777777777777778,
              "#fb9f3a"
             ],
             [
              0.8888888888888888,
              "#fdca26"
             ],
             [
              1,
              "#f0f921"
             ]
            ],
            "type": "contour"
           }
          ],
          "contourcarpet": [
           {
            "colorbar": {
             "outlinewidth": 0,
             "ticks": ""
            },
            "type": "contourcarpet"
           }
          ],
          "heatmap": [
           {
            "colorbar": {
             "outlinewidth": 0,
             "ticks": ""
            },
            "colorscale": [
             [
              0,
              "#0d0887"
             ],
             [
              0.1111111111111111,
              "#46039f"
             ],
             [
              0.2222222222222222,
              "#7201a8"
             ],
             [
              0.3333333333333333,
              "#9c179e"
             ],
             [
              0.4444444444444444,
              "#bd3786"
             ],
             [
              0.5555555555555556,
              "#d8576b"
             ],
             [
              0.6666666666666666,
              "#ed7953"
             ],
             [
              0.7777777777777778,
              "#fb9f3a"
             ],
             [
              0.8888888888888888,
              "#fdca26"
             ],
             [
              1,
              "#f0f921"
             ]
            ],
            "type": "heatmap"
           }
          ],
          "heatmapgl": [
           {
            "colorbar": {
             "outlinewidth": 0,
             "ticks": ""
            },
            "colorscale": [
             [
              0,
              "#0d0887"
             ],
             [
              0.1111111111111111,
              "#46039f"
             ],
             [
              0.2222222222222222,
              "#7201a8"
             ],
             [
              0.3333333333333333,
              "#9c179e"
             ],
             [
              0.4444444444444444,
              "#bd3786"
             ],
             [
              0.5555555555555556,
              "#d8576b"
             ],
             [
              0.6666666666666666,
              "#ed7953"
             ],
             [
              0.7777777777777778,
              "#fb9f3a"
             ],
             [
              0.8888888888888888,
              "#fdca26"
             ],
             [
              1,
              "#f0f921"
             ]
            ],
            "type": "heatmapgl"
           }
          ],
          "histogram": [
           {
            "marker": {
             "pattern": {
              "fillmode": "overlay",
              "size": 10,
              "solidity": 0.2
             }
            },
            "type": "histogram"
           }
          ],
          "histogram2d": [
           {
            "colorbar": {
             "outlinewidth": 0,
             "ticks": ""
            },
            "colorscale": [
             [
              0,
              "#0d0887"
             ],
             [
              0.1111111111111111,
              "#46039f"
             ],
             [
              0.2222222222222222,
              "#7201a8"
             ],
             [
              0.3333333333333333,
              "#9c179e"
             ],
             [
              0.4444444444444444,
              "#bd3786"
             ],
             [
              0.5555555555555556,
              "#d8576b"
             ],
             [
              0.6666666666666666,
              "#ed7953"
             ],
             [
              0.7777777777777778,
              "#fb9f3a"
             ],
             [
              0.8888888888888888,
              "#fdca26"
             ],
             [
              1,
              "#f0f921"
             ]
            ],
            "type": "histogram2d"
           }
          ],
          "histogram2dcontour": [
           {
            "colorbar": {
             "outlinewidth": 0,
             "ticks": ""
            },
            "colorscale": [
             [
              0,
              "#0d0887"
             ],
             [
              0.1111111111111111,
              "#46039f"
             ],
             [
              0.2222222222222222,
              "#7201a8"
             ],
             [
              0.3333333333333333,
              "#9c179e"
             ],
             [
              0.4444444444444444,
              "#bd3786"
             ],
             [
              0.5555555555555556,
              "#d8576b"
             ],
             [
              0.6666666666666666,
              "#ed7953"
             ],
             [
              0.7777777777777778,
              "#fb9f3a"
             ],
             [
              0.8888888888888888,
              "#fdca26"
             ],
             [
              1,
              "#f0f921"
             ]
            ],
            "type": "histogram2dcontour"
           }
          ],
          "mesh3d": [
           {
            "colorbar": {
             "outlinewidth": 0,
             "ticks": ""
            },
            "type": "mesh3d"
           }
          ],
          "parcoords": [
           {
            "line": {
             "colorbar": {
              "outlinewidth": 0,
              "ticks": ""
             }
            },
            "type": "parcoords"
           }
          ],
          "pie": [
           {
            "automargin": true,
            "type": "pie"
           }
          ],
          "scatter": [
           {
            "marker": {
             "line": {
              "color": "#283442"
             }
            },
            "type": "scatter"
           }
          ],
          "scatter3d": [
           {
            "line": {
             "colorbar": {
              "outlinewidth": 0,
              "ticks": ""
             }
            },
            "marker": {
             "colorbar": {
              "outlinewidth": 0,
              "ticks": ""
             }
            },
            "type": "scatter3d"
           }
          ],
          "scattercarpet": [
           {
            "marker": {
             "colorbar": {
              "outlinewidth": 0,
              "ticks": ""
             }
            },
            "type": "scattercarpet"
           }
          ],
          "scattergeo": [
           {
            "marker": {
             "colorbar": {
              "outlinewidth": 0,
              "ticks": ""
             }
            },
            "type": "scattergeo"
           }
          ],
          "scattergl": [
           {
            "marker": {
             "line": {
              "color": "#283442"
             }
            },
            "type": "scattergl"
           }
          ],
          "scattermapbox": [
           {
            "marker": {
             "colorbar": {
              "outlinewidth": 0,
              "ticks": ""
             }
            },
            "type": "scattermapbox"
           }
          ],
          "scatterpolar": [
           {
            "marker": {
             "colorbar": {
              "outlinewidth": 0,
              "ticks": ""
             }
            },
            "type": "scatterpolar"
           }
          ],
          "scatterpolargl": [
           {
            "marker": {
             "colorbar": {
              "outlinewidth": 0,
              "ticks": ""
             }
            },
            "type": "scatterpolargl"
           }
          ],
          "scatterternary": [
           {
            "marker": {
             "colorbar": {
              "outlinewidth": 0,
              "ticks": ""
             }
            },
            "type": "scatterternary"
           }
          ],
          "surface": [
           {
            "colorbar": {
             "outlinewidth": 0,
             "ticks": ""
            },
            "colorscale": [
             [
              0,
              "#0d0887"
             ],
             [
              0.1111111111111111,
              "#46039f"
             ],
             [
              0.2222222222222222,
              "#7201a8"
             ],
             [
              0.3333333333333333,
              "#9c179e"
             ],
             [
              0.4444444444444444,
              "#bd3786"
             ],
             [
              0.5555555555555556,
              "#d8576b"
             ],
             [
              0.6666666666666666,
              "#ed7953"
             ],
             [
              0.7777777777777778,
              "#fb9f3a"
             ],
             [
              0.8888888888888888,
              "#fdca26"
             ],
             [
              1,
              "#f0f921"
             ]
            ],
            "type": "surface"
           }
          ],
          "table": [
           {
            "cells": {
             "fill": {
              "color": "#506784"
             },
             "line": {
              "color": "rgb(17,17,17)"
             }
            },
            "header": {
             "fill": {
              "color": "#2a3f5f"
             },
             "line": {
              "color": "rgb(17,17,17)"
             }
            },
            "type": "table"
           }
          ]
         },
         "layout": {
          "annotationdefaults": {
           "arrowcolor": "#f2f5fa",
           "arrowhead": 0,
           "arrowwidth": 1
          },
          "autotypenumbers": "strict",
          "coloraxis": {
           "colorbar": {
            "outlinewidth": 0,
            "ticks": ""
           }
          },
          "colorscale": {
           "diverging": [
            [
             0,
             "#8e0152"
            ],
            [
             0.1,
             "#c51b7d"
            ],
            [
             0.2,
             "#de77ae"
            ],
            [
             0.3,
             "#f1b6da"
            ],
            [
             0.4,
             "#fde0ef"
            ],
            [
             0.5,
             "#f7f7f7"
            ],
            [
             0.6,
             "#e6f5d0"
            ],
            [
             0.7,
             "#b8e186"
            ],
            [
             0.8,
             "#7fbc41"
            ],
            [
             0.9,
             "#4d9221"
            ],
            [
             1,
             "#276419"
            ]
           ],
           "sequential": [
            [
             0,
             "#0d0887"
            ],
            [
             0.1111111111111111,
             "#46039f"
            ],
            [
             0.2222222222222222,
             "#7201a8"
            ],
            [
             0.3333333333333333,
             "#9c179e"
            ],
            [
             0.4444444444444444,
             "#bd3786"
            ],
            [
             0.5555555555555556,
             "#d8576b"
            ],
            [
             0.6666666666666666,
             "#ed7953"
            ],
            [
             0.7777777777777778,
             "#fb9f3a"
            ],
            [
             0.8888888888888888,
             "#fdca26"
            ],
            [
             1,
             "#f0f921"
            ]
           ],
           "sequentialminus": [
            [
             0,
             "#0d0887"
            ],
            [
             0.1111111111111111,
             "#46039f"
            ],
            [
             0.2222222222222222,
             "#7201a8"
            ],
            [
             0.3333333333333333,
             "#9c179e"
            ],
            [
             0.4444444444444444,
             "#bd3786"
            ],
            [
             0.5555555555555556,
             "#d8576b"
            ],
            [
             0.6666666666666666,
             "#ed7953"
            ],
            [
             0.7777777777777778,
             "#fb9f3a"
            ],
            [
             0.8888888888888888,
             "#fdca26"
            ],
            [
             1,
             "#f0f921"
            ]
           ]
          },
          "colorway": [
           "#636efa",
           "#EF553B",
           "#00cc96",
           "#ab63fa",
           "#FFA15A",
           "#19d3f3",
           "#FF6692",
           "#B6E880",
           "#FF97FF",
           "#FECB52"
          ],
          "font": {
           "color": "#f2f5fa"
          },
          "geo": {
           "bgcolor": "rgb(17,17,17)",
           "lakecolor": "rgb(17,17,17)",
           "landcolor": "rgb(17,17,17)",
           "showlakes": true,
           "showland": true,
           "subunitcolor": "#506784"
          },
          "hoverlabel": {
           "align": "left"
          },
          "hovermode": "closest",
          "mapbox": {
           "style": "dark"
          },
          "paper_bgcolor": "rgb(17,17,17)",
          "plot_bgcolor": "rgb(17,17,17)",
          "polar": {
           "angularaxis": {
            "gridcolor": "#506784",
            "linecolor": "#506784",
            "ticks": ""
           },
           "bgcolor": "rgb(17,17,17)",
           "radialaxis": {
            "gridcolor": "#506784",
            "linecolor": "#506784",
            "ticks": ""
           }
          },
          "scene": {
           "xaxis": {
            "backgroundcolor": "rgb(17,17,17)",
            "gridcolor": "#506784",
            "gridwidth": 2,
            "linecolor": "#506784",
            "showbackground": true,
            "ticks": "",
            "zerolinecolor": "#C8D4E3"
           },
           "yaxis": {
            "backgroundcolor": "rgb(17,17,17)",
            "gridcolor": "#506784",
            "gridwidth": 2,
            "linecolor": "#506784",
            "showbackground": true,
            "ticks": "",
            "zerolinecolor": "#C8D4E3"
           },
           "zaxis": {
            "backgroundcolor": "rgb(17,17,17)",
            "gridcolor": "#506784",
            "gridwidth": 2,
            "linecolor": "#506784",
            "showbackground": true,
            "ticks": "",
            "zerolinecolor": "#C8D4E3"
           }
          },
          "shapedefaults": {
           "line": {
            "color": "#f2f5fa"
           }
          },
          "sliderdefaults": {
           "bgcolor": "#C8D4E3",
           "bordercolor": "rgb(17,17,17)",
           "borderwidth": 1,
           "tickwidth": 0
          },
          "ternary": {
           "aaxis": {
            "gridcolor": "#506784",
            "linecolor": "#506784",
            "ticks": ""
           },
           "baxis": {
            "gridcolor": "#506784",
            "linecolor": "#506784",
            "ticks": ""
           },
           "bgcolor": "rgb(17,17,17)",
           "caxis": {
            "gridcolor": "#506784",
            "linecolor": "#506784",
            "ticks": ""
           }
          },
          "title": {
           "x": 0.05
          },
          "updatemenudefaults": {
           "bgcolor": "#506784",
           "borderwidth": 0
          },
          "xaxis": {
           "automargin": true,
           "gridcolor": "#283442",
           "linecolor": "#506784",
           "ticks": "",
           "title": {
            "standoff": 15
           },
           "zerolinecolor": "#283442",
           "zerolinewidth": 2
          },
          "yaxis": {
           "automargin": true,
           "gridcolor": "#283442",
           "linecolor": "#506784",
           "ticks": "",
           "title": {
            "standoff": 15
           },
           "zerolinecolor": "#283442",
           "zerolinewidth": 2
          }
         }
        },
        "xaxis": {
         "anchor": "y",
         "domain": [
          0,
          1
         ],
         "title": {
          "text": "Schooling"
         }
        },
        "yaxis": {
         "anchor": "x",
         "domain": [
          0,
          1
         ],
         "title": {
          "text": "count"
         }
        }
       }
      }
     },
     "metadata": {},
     "output_type": "display_data"
    }
   ],
   "source": [
    "fig=px.histogram(df,x='Schooling',template='plotly_dark')\n",
    "fig.show()"
   ]
  },
  {
   "cell_type": "code",
   "execution_count": 28,
   "metadata": {},
   "outputs": [],
   "source": [
    "from sklearn.linear_model import LinearRegression\n",
    "from sklearn.metrics import mean_squared_error\n",
    "from sklearn.linear_model import Lasso"
   ]
  },
  {
   "cell_type": "code",
   "execution_count": 29,
   "metadata": {},
   "outputs": [
    {
     "name": "stdout",
     "output_type": "stream",
     "text": [
      "0.8166331533006799\n"
     ]
    }
   ],
   "source": [
    "linearModel = LinearRegression()\n",
    "linearModel.fit(X_train, y_train)\n",
    " \n",
    "# Evaluating the Linear Regression model\n",
    "print(linearModel.score(X_test, y_test))"
   ]
  },
  {
   "cell_type": "code",
   "execution_count": 30,
   "metadata": {},
   "outputs": [
    {
     "name": "stdout",
     "output_type": "stream",
     "text": [
      "0.25 : 65.22060848674958\n",
      "0.5 : 32.03271607901974\n",
      "0.75 : -8.042384021194692\n",
      "1.0 : -8.149687643573019\n",
      "1.25 : -8.149687643573019\n",
      "1.5 : -8.149687643573019\n",
      "1.75 : -8.149687643573019\n",
      "2.0 : -8.149687643573019\n"
     ]
    }
   ],
   "source": [
    "#cross validation for lasso regression\n",
    "cross_val_scores_lasso = []\n",
    "Lambda = []\n",
    " \n",
    "\n",
    "for i in range(1, 9):\n",
    "    lassoModel = Lasso(alpha = i * 0.25, tol = 0.0925)\n",
    "    lassoModel.fit(X_train, y_train)\n",
    "    scores = cross_val_score(lassoModel,scaler_df[ft] ,scaler_df['Life expectancy '], cv = 10)\n",
    "    avg_cross_val_score = mean(scores)*100\n",
    "    cross_val_scores_lasso.append(avg_cross_val_score)\n",
    "    Lambda.append(i * 0.25)\n",
    "\n",
    "for i in range(0, len(Lambda)):\n",
    "    print(str(Lambda[i])+' : '+str(cross_val_scores_lasso[i]))"
   ]
  },
  {
   "cell_type": "code",
   "execution_count": 31,
   "metadata": {},
   "outputs": [
    {
     "name": "stdout",
     "output_type": "stream",
     "text": [
      "76.3903109024792\n"
     ]
    },
    {
     "name": "stderr",
     "output_type": "stream",
     "text": [
      "c:\\Users\\siddh\\AppData\\Local\\Programs\\Python\\Python39\\lib\\site-packages\\sklearn\\linear_model\\_coordinate_descent.py:647: ConvergenceWarning:\n",
      "\n",
      "Objective did not converge. You might want to increase the number of iterations, check the scale of the features or consider increasing regularisation. Duality gap: 1.437e+04, tolerance: 9.992e+03\n",
      "\n",
      "c:\\Users\\siddh\\AppData\\Local\\Programs\\Python\\Python39\\lib\\site-packages\\sklearn\\linear_model\\_coordinate_descent.py:647: ConvergenceWarning:\n",
      "\n",
      "Objective did not converge. You might want to increase the number of iterations, check the scale of the features or consider increasing regularisation. Duality gap: 1.369e+04, tolerance: 1.078e+04\n",
      "\n",
      "c:\\Users\\siddh\\AppData\\Local\\Programs\\Python\\Python39\\lib\\site-packages\\sklearn\\linear_model\\_coordinate_descent.py:647: ConvergenceWarning:\n",
      "\n",
      "Objective did not converge. You might want to increase the number of iterations, check the scale of the features or consider increasing regularisation. Duality gap: 1.418e+04, tolerance: 1.026e+04\n",
      "\n"
     ]
    }
   ],
   "source": [
    "#from above we conclude that the best one is for 2\n",
    "lassoModelChosen = Lasso(alpha = 2, tol = 0.0925)\n",
    "lassoModelChosen.fit(X_train, y_train)\n",
    "scores = cross_val_score(lassoModel,df[ft] ,df['Life expectancy '], cv = 10)\n",
    "avg_score = mean(scores)*100\n",
    "print(avg_score)\n",
    "\n"
   ]
  },
  {
   "cell_type": "markdown",
   "metadata": {},
   "source": [
    "we can see that we are getting almost same score in both the regressors"
   ]
  },
  {
   "cell_type": "code",
   "execution_count": 32,
   "metadata": {},
   "outputs": [
    {
     "name": "stderr",
     "output_type": "stream",
     "text": [
      "c:\\Users\\siddh\\AppData\\Local\\Programs\\Python\\Python39\\lib\\site-packages\\sklearn\\linear_model\\_ridge.py:156: LinAlgWarning:\n",
      "\n",
      "Ill-conditioned matrix (rcond=2.07861e-18): result may not be accurate.\n",
      "\n",
      "c:\\Users\\siddh\\AppData\\Local\\Programs\\Python\\Python39\\lib\\site-packages\\sklearn\\linear_model\\_ridge.py:156: LinAlgWarning:\n",
      "\n",
      "Ill-conditioned matrix (rcond=1.78324e-18): result may not be accurate.\n",
      "\n",
      "c:\\Users\\siddh\\AppData\\Local\\Programs\\Python\\Python39\\lib\\site-packages\\sklearn\\linear_model\\_ridge.py:156: LinAlgWarning:\n",
      "\n",
      "Ill-conditioned matrix (rcond=2.02003e-18): result may not be accurate.\n",
      "\n",
      "c:\\Users\\siddh\\AppData\\Local\\Programs\\Python\\Python39\\lib\\site-packages\\sklearn\\linear_model\\_ridge.py:156: LinAlgWarning:\n",
      "\n",
      "Ill-conditioned matrix (rcond=2.10593e-18): result may not be accurate.\n",
      "\n",
      "c:\\Users\\siddh\\AppData\\Local\\Programs\\Python\\Python39\\lib\\site-packages\\sklearn\\linear_model\\_ridge.py:156: LinAlgWarning:\n",
      "\n",
      "Ill-conditioned matrix (rcond=1.62501e-17): result may not be accurate.\n",
      "\n",
      "c:\\Users\\siddh\\AppData\\Local\\Programs\\Python\\Python39\\lib\\site-packages\\sklearn\\linear_model\\_ridge.py:156: LinAlgWarning:\n",
      "\n",
      "Ill-conditioned matrix (rcond=1.71454e-18): result may not be accurate.\n",
      "\n",
      "c:\\Users\\siddh\\AppData\\Local\\Programs\\Python\\Python39\\lib\\site-packages\\sklearn\\linear_model\\_ridge.py:156: LinAlgWarning:\n",
      "\n",
      "Ill-conditioned matrix (rcond=2.14198e-18): result may not be accurate.\n",
      "\n",
      "c:\\Users\\siddh\\AppData\\Local\\Programs\\Python\\Python39\\lib\\site-packages\\sklearn\\linear_model\\_ridge.py:156: LinAlgWarning:\n",
      "\n",
      "Ill-conditioned matrix (rcond=2.14393e-18): result may not be accurate.\n",
      "\n",
      "c:\\Users\\siddh\\AppData\\Local\\Programs\\Python\\Python39\\lib\\site-packages\\sklearn\\linear_model\\_ridge.py:156: LinAlgWarning:\n",
      "\n",
      "Ill-conditioned matrix (rcond=2.04229e-18): result may not be accurate.\n",
      "\n",
      "c:\\Users\\siddh\\AppData\\Local\\Programs\\Python\\Python39\\lib\\site-packages\\sklearn\\linear_model\\_ridge.py:156: LinAlgWarning:\n",
      "\n",
      "Ill-conditioned matrix (rcond=1.5726e-18): result may not be accurate.\n",
      "\n",
      "c:\\Users\\siddh\\AppData\\Local\\Programs\\Python\\Python39\\lib\\site-packages\\sklearn\\linear_model\\_ridge.py:156: LinAlgWarning:\n",
      "\n",
      "Ill-conditioned matrix (rcond=2.10785e-18): result may not be accurate.\n",
      "\n",
      "c:\\Users\\siddh\\AppData\\Local\\Programs\\Python\\Python39\\lib\\site-packages\\sklearn\\linear_model\\_ridge.py:156: LinAlgWarning:\n",
      "\n",
      "Ill-conditioned matrix (rcond=1.81318e-18): result may not be accurate.\n",
      "\n",
      "c:\\Users\\siddh\\AppData\\Local\\Programs\\Python\\Python39\\lib\\site-packages\\sklearn\\linear_model\\_ridge.py:156: LinAlgWarning:\n",
      "\n",
      "Ill-conditioned matrix (rcond=2.04918e-18): result may not be accurate.\n",
      "\n",
      "c:\\Users\\siddh\\AppData\\Local\\Programs\\Python\\Python39\\lib\\site-packages\\sklearn\\linear_model\\_ridge.py:156: LinAlgWarning:\n",
      "\n",
      "Ill-conditioned matrix (rcond=2.13532e-18): result may not be accurate.\n",
      "\n",
      "c:\\Users\\siddh\\AppData\\Local\\Programs\\Python\\Python39\\lib\\site-packages\\sklearn\\linear_model\\_ridge.py:156: LinAlgWarning:\n",
      "\n",
      "Ill-conditioned matrix (rcond=1.65064e-17): result may not be accurate.\n",
      "\n",
      "c:\\Users\\siddh\\AppData\\Local\\Programs\\Python\\Python39\\lib\\site-packages\\sklearn\\linear_model\\_ridge.py:156: LinAlgWarning:\n",
      "\n",
      "Ill-conditioned matrix (rcond=1.74364e-18): result may not be accurate.\n",
      "\n",
      "c:\\Users\\siddh\\AppData\\Local\\Programs\\Python\\Python39\\lib\\site-packages\\sklearn\\linear_model\\_ridge.py:156: LinAlgWarning:\n",
      "\n",
      "Ill-conditioned matrix (rcond=2.17185e-18): result may not be accurate.\n",
      "\n",
      "c:\\Users\\siddh\\AppData\\Local\\Programs\\Python\\Python39\\lib\\site-packages\\sklearn\\linear_model\\_ridge.py:156: LinAlgWarning:\n",
      "\n",
      "Ill-conditioned matrix (rcond=2.17348e-18): result may not be accurate.\n",
      "\n",
      "c:\\Users\\siddh\\AppData\\Local\\Programs\\Python\\Python39\\lib\\site-packages\\sklearn\\linear_model\\_ridge.py:156: LinAlgWarning:\n",
      "\n",
      "Ill-conditioned matrix (rcond=2.07154e-18): result may not be accurate.\n",
      "\n",
      "c:\\Users\\siddh\\AppData\\Local\\Programs\\Python\\Python39\\lib\\site-packages\\sklearn\\linear_model\\_ridge.py:156: LinAlgWarning:\n",
      "\n",
      "Ill-conditioned matrix (rcond=1.60179e-18): result may not be accurate.\n",
      "\n",
      "c:\\Users\\siddh\\AppData\\Local\\Programs\\Python\\Python39\\lib\\site-packages\\sklearn\\linear_model\\_ridge.py:156: LinAlgWarning:\n",
      "\n",
      "Ill-conditioned matrix (rcond=2.13709e-18): result may not be accurate.\n",
      "\n",
      "c:\\Users\\siddh\\AppData\\Local\\Programs\\Python\\Python39\\lib\\site-packages\\sklearn\\linear_model\\_ridge.py:156: LinAlgWarning:\n",
      "\n",
      "Ill-conditioned matrix (rcond=1.84312e-18): result may not be accurate.\n",
      "\n",
      "c:\\Users\\siddh\\AppData\\Local\\Programs\\Python\\Python39\\lib\\site-packages\\sklearn\\linear_model\\_ridge.py:156: LinAlgWarning:\n",
      "\n",
      "Ill-conditioned matrix (rcond=2.07832e-18): result may not be accurate.\n",
      "\n",
      "c:\\Users\\siddh\\AppData\\Local\\Programs\\Python\\Python39\\lib\\site-packages\\sklearn\\linear_model\\_ridge.py:156: LinAlgWarning:\n",
      "\n",
      "Ill-conditioned matrix (rcond=2.16471e-18): result may not be accurate.\n",
      "\n",
      "c:\\Users\\siddh\\AppData\\Local\\Programs\\Python\\Python39\\lib\\site-packages\\sklearn\\linear_model\\_ridge.py:156: LinAlgWarning:\n",
      "\n",
      "Ill-conditioned matrix (rcond=1.67627e-17): result may not be accurate.\n",
      "\n",
      "c:\\Users\\siddh\\AppData\\Local\\Programs\\Python\\Python39\\lib\\site-packages\\sklearn\\linear_model\\_ridge.py:156: LinAlgWarning:\n",
      "\n",
      "Ill-conditioned matrix (rcond=1.77275e-18): result may not be accurate.\n",
      "\n",
      "c:\\Users\\siddh\\AppData\\Local\\Programs\\Python\\Python39\\lib\\site-packages\\sklearn\\linear_model\\_ridge.py:156: LinAlgWarning:\n",
      "\n",
      "Ill-conditioned matrix (rcond=2.20171e-18): result may not be accurate.\n",
      "\n",
      "c:\\Users\\siddh\\AppData\\Local\\Programs\\Python\\Python39\\lib\\site-packages\\sklearn\\linear_model\\_ridge.py:156: LinAlgWarning:\n",
      "\n",
      "Ill-conditioned matrix (rcond=2.20303e-18): result may not be accurate.\n",
      "\n",
      "c:\\Users\\siddh\\AppData\\Local\\Programs\\Python\\Python39\\lib\\site-packages\\sklearn\\linear_model\\_ridge.py:156: LinAlgWarning:\n",
      "\n",
      "Ill-conditioned matrix (rcond=2.10079e-18): result may not be accurate.\n",
      "\n",
      "c:\\Users\\siddh\\AppData\\Local\\Programs\\Python\\Python39\\lib\\site-packages\\sklearn\\linear_model\\_ridge.py:156: LinAlgWarning:\n",
      "\n",
      "Ill-conditioned matrix (rcond=1.63097e-18): result may not be accurate.\n",
      "\n",
      "c:\\Users\\siddh\\AppData\\Local\\Programs\\Python\\Python39\\lib\\site-packages\\sklearn\\linear_model\\_ridge.py:156: LinAlgWarning:\n",
      "\n",
      "Ill-conditioned matrix (rcond=2.16634e-18): result may not be accurate.\n",
      "\n",
      "c:\\Users\\siddh\\AppData\\Local\\Programs\\Python\\Python39\\lib\\site-packages\\sklearn\\linear_model\\_ridge.py:156: LinAlgWarning:\n",
      "\n",
      "Ill-conditioned matrix (rcond=1.87307e-18): result may not be accurate.\n",
      "\n",
      "c:\\Users\\siddh\\AppData\\Local\\Programs\\Python\\Python39\\lib\\site-packages\\sklearn\\linear_model\\_ridge.py:156: LinAlgWarning:\n",
      "\n",
      "Ill-conditioned matrix (rcond=2.10746e-18): result may not be accurate.\n",
      "\n",
      "c:\\Users\\siddh\\AppData\\Local\\Programs\\Python\\Python39\\lib\\site-packages\\sklearn\\linear_model\\_ridge.py:156: LinAlgWarning:\n",
      "\n",
      "Ill-conditioned matrix (rcond=2.19409e-18): result may not be accurate.\n",
      "\n",
      "c:\\Users\\siddh\\AppData\\Local\\Programs\\Python\\Python39\\lib\\site-packages\\sklearn\\linear_model\\_ridge.py:156: LinAlgWarning:\n",
      "\n",
      "Ill-conditioned matrix (rcond=1.70191e-17): result may not be accurate.\n",
      "\n",
      "c:\\Users\\siddh\\AppData\\Local\\Programs\\Python\\Python39\\lib\\site-packages\\sklearn\\linear_model\\_ridge.py:156: LinAlgWarning:\n",
      "\n",
      "Ill-conditioned matrix (rcond=1.80185e-18): result may not be accurate.\n",
      "\n",
      "c:\\Users\\siddh\\AppData\\Local\\Programs\\Python\\Python39\\lib\\site-packages\\sklearn\\linear_model\\_ridge.py:156: LinAlgWarning:\n",
      "\n",
      "Ill-conditioned matrix (rcond=2.23157e-18): result may not be accurate.\n",
      "\n",
      "c:\\Users\\siddh\\AppData\\Local\\Programs\\Python\\Python39\\lib\\site-packages\\sklearn\\linear_model\\_ridge.py:156: LinAlgWarning:\n",
      "\n",
      "Ill-conditioned matrix (rcond=2.23258e-18): result may not be accurate.\n",
      "\n",
      "c:\\Users\\siddh\\AppData\\Local\\Programs\\Python\\Python39\\lib\\site-packages\\sklearn\\linear_model\\_ridge.py:156: LinAlgWarning:\n",
      "\n",
      "Ill-conditioned matrix (rcond=2.13004e-18): result may not be accurate.\n",
      "\n",
      "c:\\Users\\siddh\\AppData\\Local\\Programs\\Python\\Python39\\lib\\site-packages\\sklearn\\linear_model\\_ridge.py:156: LinAlgWarning:\n",
      "\n",
      "Ill-conditioned matrix (rcond=1.66016e-18): result may not be accurate.\n",
      "\n",
      "c:\\Users\\siddh\\AppData\\Local\\Programs\\Python\\Python39\\lib\\site-packages\\sklearn\\linear_model\\_ridge.py:156: LinAlgWarning:\n",
      "\n",
      "Ill-conditioned matrix (rcond=2.19558e-18): result may not be accurate.\n",
      "\n",
      "c:\\Users\\siddh\\AppData\\Local\\Programs\\Python\\Python39\\lib\\site-packages\\sklearn\\linear_model\\_ridge.py:156: LinAlgWarning:\n",
      "\n",
      "Ill-conditioned matrix (rcond=1.90301e-18): result may not be accurate.\n",
      "\n",
      "c:\\Users\\siddh\\AppData\\Local\\Programs\\Python\\Python39\\lib\\site-packages\\sklearn\\linear_model\\_ridge.py:156: LinAlgWarning:\n",
      "\n",
      "Ill-conditioned matrix (rcond=2.1366e-18): result may not be accurate.\n",
      "\n",
      "c:\\Users\\siddh\\AppData\\Local\\Programs\\Python\\Python39\\lib\\site-packages\\sklearn\\linear_model\\_ridge.py:156: LinAlgWarning:\n",
      "\n",
      "Ill-conditioned matrix (rcond=2.22348e-18): result may not be accurate.\n",
      "\n",
      "c:\\Users\\siddh\\AppData\\Local\\Programs\\Python\\Python39\\lib\\site-packages\\sklearn\\linear_model\\_ridge.py:156: LinAlgWarning:\n",
      "\n",
      "Ill-conditioned matrix (rcond=1.72754e-17): result may not be accurate.\n",
      "\n",
      "c:\\Users\\siddh\\AppData\\Local\\Programs\\Python\\Python39\\lib\\site-packages\\sklearn\\linear_model\\_ridge.py:156: LinAlgWarning:\n",
      "\n",
      "Ill-conditioned matrix (rcond=1.83095e-18): result may not be accurate.\n",
      "\n",
      "c:\\Users\\siddh\\AppData\\Local\\Programs\\Python\\Python39\\lib\\site-packages\\sklearn\\linear_model\\_ridge.py:156: LinAlgWarning:\n",
      "\n",
      "Ill-conditioned matrix (rcond=2.26143e-18): result may not be accurate.\n",
      "\n",
      "c:\\Users\\siddh\\AppData\\Local\\Programs\\Python\\Python39\\lib\\site-packages\\sklearn\\linear_model\\_ridge.py:156: LinAlgWarning:\n",
      "\n",
      "Ill-conditioned matrix (rcond=2.26212e-18): result may not be accurate.\n",
      "\n",
      "c:\\Users\\siddh\\AppData\\Local\\Programs\\Python\\Python39\\lib\\site-packages\\sklearn\\linear_model\\_ridge.py:156: LinAlgWarning:\n",
      "\n",
      "Ill-conditioned matrix (rcond=2.1593e-18): result may not be accurate.\n",
      "\n",
      "c:\\Users\\siddh\\AppData\\Local\\Programs\\Python\\Python39\\lib\\site-packages\\sklearn\\linear_model\\_ridge.py:156: LinAlgWarning:\n",
      "\n",
      "Ill-conditioned matrix (rcond=1.68935e-18): result may not be accurate.\n",
      "\n",
      "c:\\Users\\siddh\\AppData\\Local\\Programs\\Python\\Python39\\lib\\site-packages\\sklearn\\linear_model\\_ridge.py:156: LinAlgWarning:\n",
      "\n",
      "Ill-conditioned matrix (rcond=2.22482e-18): result may not be accurate.\n",
      "\n",
      "c:\\Users\\siddh\\AppData\\Local\\Programs\\Python\\Python39\\lib\\site-packages\\sklearn\\linear_model\\_ridge.py:156: LinAlgWarning:\n",
      "\n",
      "Ill-conditioned matrix (rcond=1.93295e-18): result may not be accurate.\n",
      "\n",
      "c:\\Users\\siddh\\AppData\\Local\\Programs\\Python\\Python39\\lib\\site-packages\\sklearn\\linear_model\\_ridge.py:156: LinAlgWarning:\n",
      "\n",
      "Ill-conditioned matrix (rcond=2.16575e-18): result may not be accurate.\n",
      "\n",
      "c:\\Users\\siddh\\AppData\\Local\\Programs\\Python\\Python39\\lib\\site-packages\\sklearn\\linear_model\\_ridge.py:156: LinAlgWarning:\n",
      "\n",
      "Ill-conditioned matrix (rcond=2.25287e-18): result may not be accurate.\n",
      "\n",
      "c:\\Users\\siddh\\AppData\\Local\\Programs\\Python\\Python39\\lib\\site-packages\\sklearn\\linear_model\\_ridge.py:156: LinAlgWarning:\n",
      "\n",
      "Ill-conditioned matrix (rcond=1.75317e-17): result may not be accurate.\n",
      "\n",
      "c:\\Users\\siddh\\AppData\\Local\\Programs\\Python\\Python39\\lib\\site-packages\\sklearn\\linear_model\\_ridge.py:156: LinAlgWarning:\n",
      "\n",
      "Ill-conditioned matrix (rcond=1.86006e-18): result may not be accurate.\n",
      "\n",
      "c:\\Users\\siddh\\AppData\\Local\\Programs\\Python\\Python39\\lib\\site-packages\\sklearn\\linear_model\\_ridge.py:156: LinAlgWarning:\n",
      "\n",
      "Ill-conditioned matrix (rcond=2.2913e-18): result may not be accurate.\n",
      "\n",
      "c:\\Users\\siddh\\AppData\\Local\\Programs\\Python\\Python39\\lib\\site-packages\\sklearn\\linear_model\\_ridge.py:156: LinAlgWarning:\n",
      "\n",
      "Ill-conditioned matrix (rcond=2.29167e-18): result may not be accurate.\n",
      "\n",
      "c:\\Users\\siddh\\AppData\\Local\\Programs\\Python\\Python39\\lib\\site-packages\\sklearn\\linear_model\\_ridge.py:156: LinAlgWarning:\n",
      "\n",
      "Ill-conditioned matrix (rcond=2.18855e-18): result may not be accurate.\n",
      "\n",
      "c:\\Users\\siddh\\AppData\\Local\\Programs\\Python\\Python39\\lib\\site-packages\\sklearn\\linear_model\\_ridge.py:156: LinAlgWarning:\n",
      "\n",
      "Ill-conditioned matrix (rcond=1.71853e-18): result may not be accurate.\n",
      "\n",
      "c:\\Users\\siddh\\AppData\\Local\\Programs\\Python\\Python39\\lib\\site-packages\\sklearn\\linear_model\\_ridge.py:156: LinAlgWarning:\n",
      "\n",
      "Ill-conditioned matrix (rcond=2.25407e-18): result may not be accurate.\n",
      "\n",
      "c:\\Users\\siddh\\AppData\\Local\\Programs\\Python\\Python39\\lib\\site-packages\\sklearn\\linear_model\\_ridge.py:156: LinAlgWarning:\n",
      "\n",
      "Ill-conditioned matrix (rcond=1.9629e-18): result may not be accurate.\n",
      "\n",
      "c:\\Users\\siddh\\AppData\\Local\\Programs\\Python\\Python39\\lib\\site-packages\\sklearn\\linear_model\\_ridge.py:156: LinAlgWarning:\n",
      "\n",
      "Ill-conditioned matrix (rcond=2.19489e-18): result may not be accurate.\n",
      "\n"
     ]
    },
    {
     "name": "stdout",
     "output_type": "stream",
     "text": [
      "0.25 : 78.45240801569177\n",
      "0.5 : 78.45816625277523\n",
      "0.75 : 78.46253574436933\n",
      "1.0 : 78.46564035404099\n",
      "1.25 : 78.46759250209276\n",
      "1.5 : 78.46849434288859\n",
      "1.75 : 78.46843880656947\n",
      "2.0 : 78.46751052254784\n"
     ]
    },
    {
     "name": "stderr",
     "output_type": "stream",
     "text": [
      "c:\\Users\\siddh\\AppData\\Local\\Programs\\Python\\Python39\\lib\\site-packages\\sklearn\\linear_model\\_ridge.py:156: LinAlgWarning:\n",
      "\n",
      "Ill-conditioned matrix (rcond=2.28225e-18): result may not be accurate.\n",
      "\n",
      "c:\\Users\\siddh\\AppData\\Local\\Programs\\Python\\Python39\\lib\\site-packages\\sklearn\\linear_model\\_ridge.py:156: LinAlgWarning:\n",
      "\n",
      "Ill-conditioned matrix (rcond=1.7788e-17): result may not be accurate.\n",
      "\n",
      "c:\\Users\\siddh\\AppData\\Local\\Programs\\Python\\Python39\\lib\\site-packages\\sklearn\\linear_model\\_ridge.py:156: LinAlgWarning:\n",
      "\n",
      "Ill-conditioned matrix (rcond=1.88916e-18): result may not be accurate.\n",
      "\n",
      "c:\\Users\\siddh\\AppData\\Local\\Programs\\Python\\Python39\\lib\\site-packages\\sklearn\\linear_model\\_ridge.py:156: LinAlgWarning:\n",
      "\n",
      "Ill-conditioned matrix (rcond=2.32116e-18): result may not be accurate.\n",
      "\n",
      "c:\\Users\\siddh\\AppData\\Local\\Programs\\Python\\Python39\\lib\\site-packages\\sklearn\\linear_model\\_ridge.py:156: LinAlgWarning:\n",
      "\n",
      "Ill-conditioned matrix (rcond=2.32122e-18): result may not be accurate.\n",
      "\n",
      "c:\\Users\\siddh\\AppData\\Local\\Programs\\Python\\Python39\\lib\\site-packages\\sklearn\\linear_model\\_ridge.py:156: LinAlgWarning:\n",
      "\n",
      "Ill-conditioned matrix (rcond=2.2178e-18): result may not be accurate.\n",
      "\n",
      "c:\\Users\\siddh\\AppData\\Local\\Programs\\Python\\Python39\\lib\\site-packages\\sklearn\\linear_model\\_ridge.py:156: LinAlgWarning:\n",
      "\n",
      "Ill-conditioned matrix (rcond=1.74772e-18): result may not be accurate.\n",
      "\n",
      "c:\\Users\\siddh\\AppData\\Local\\Programs\\Python\\Python39\\lib\\site-packages\\sklearn\\linear_model\\_ridge.py:156: LinAlgWarning:\n",
      "\n",
      "Ill-conditioned matrix (rcond=2.28331e-18): result may not be accurate.\n",
      "\n",
      "c:\\Users\\siddh\\AppData\\Local\\Programs\\Python\\Python39\\lib\\site-packages\\sklearn\\linear_model\\_ridge.py:156: LinAlgWarning:\n",
      "\n",
      "Ill-conditioned matrix (rcond=1.99284e-18): result may not be accurate.\n",
      "\n",
      "c:\\Users\\siddh\\AppData\\Local\\Programs\\Python\\Python39\\lib\\site-packages\\sklearn\\linear_model\\_ridge.py:156: LinAlgWarning:\n",
      "\n",
      "Ill-conditioned matrix (rcond=2.22403e-18): result may not be accurate.\n",
      "\n",
      "c:\\Users\\siddh\\AppData\\Local\\Programs\\Python\\Python39\\lib\\site-packages\\sklearn\\linear_model\\_ridge.py:156: LinAlgWarning:\n",
      "\n",
      "Ill-conditioned matrix (rcond=2.31164e-18): result may not be accurate.\n",
      "\n",
      "c:\\Users\\siddh\\AppData\\Local\\Programs\\Python\\Python39\\lib\\site-packages\\sklearn\\linear_model\\_ridge.py:156: LinAlgWarning:\n",
      "\n",
      "Ill-conditioned matrix (rcond=1.80443e-17): result may not be accurate.\n",
      "\n",
      "c:\\Users\\siddh\\AppData\\Local\\Programs\\Python\\Python39\\lib\\site-packages\\sklearn\\linear_model\\_ridge.py:156: LinAlgWarning:\n",
      "\n",
      "Ill-conditioned matrix (rcond=1.91827e-18): result may not be accurate.\n",
      "\n",
      "c:\\Users\\siddh\\AppData\\Local\\Programs\\Python\\Python39\\lib\\site-packages\\sklearn\\linear_model\\_ridge.py:156: LinAlgWarning:\n",
      "\n",
      "Ill-conditioned matrix (rcond=2.35102e-18): result may not be accurate.\n",
      "\n",
      "c:\\Users\\siddh\\AppData\\Local\\Programs\\Python\\Python39\\lib\\site-packages\\sklearn\\linear_model\\_ridge.py:156: LinAlgWarning:\n",
      "\n",
      "Ill-conditioned matrix (rcond=2.35077e-18): result may not be accurate.\n",
      "\n",
      "c:\\Users\\siddh\\AppData\\Local\\Programs\\Python\\Python39\\lib\\site-packages\\sklearn\\linear_model\\_ridge.py:156: LinAlgWarning:\n",
      "\n",
      "Ill-conditioned matrix (rcond=2.24705e-18): result may not be accurate.\n",
      "\n",
      "c:\\Users\\siddh\\AppData\\Local\\Programs\\Python\\Python39\\lib\\site-packages\\sklearn\\linear_model\\_ridge.py:156: LinAlgWarning:\n",
      "\n",
      "Ill-conditioned matrix (rcond=1.77691e-18): result may not be accurate.\n",
      "\n"
     ]
    }
   ],
   "source": [
    "from sklearn.linear_model import Ridge\n",
    "cross_val_scores_ridge = []\n",
    " \n",
    "alpha = []\n",
    " \n",
    "\n",
    "for i in range(1, 9):\n",
    "    ridgeModel = Ridge(alpha = i * 0.25)\n",
    "    ridgeModel.fit(X_train, y_train)\n",
    "    scores = cross_val_score(ridgeModel,df[ft] ,df['Life expectancy '], cv = 10)\n",
    "    avg_cross_val_score = mean(scores)*100\n",
    "    cross_val_scores_ridge.append(avg_cross_val_score)\n",
    "    alpha.append(i * 0.25)\n",
    " \n",
    "\n",
    "for i in range(0, len(alpha)):\n",
    "    print(str(alpha[i])+' : '+str(cross_val_scores_ridge[i]))"
   ]
  },
  {
   "cell_type": "code",
   "execution_count": 33,
   "metadata": {},
   "outputs": [
    {
     "name": "stdout",
     "output_type": "stream",
     "text": [
      "0.8154330726611927\n"
     ]
    }
   ],
   "source": [
    "ridgeModelChosen = Ridge(alpha = 2)\n",
    "ridgeModelChosen.fit(X_train, y_train)\n",
    " \n",
    "# Evaluating the Ridge Regression model\n",
    "print(ridgeModelChosen.score(X_test, y_test))"
   ]
  },
  {
   "cell_type": "code",
   "execution_count": null,
   "metadata": {},
   "outputs": [],
   "source": []
  },
  {
   "cell_type": "markdown",
   "metadata": {},
   "source": [
    "self implementation cross validation for linear regression"
   ]
  },
  {
   "cell_type": "code",
   "execution_count": 34,
   "metadata": {},
   "outputs": [],
   "source": [
    "def cross(traink,k=5):\n",
    "  \n",
    "  ft_columns = [ 'Year','Life expectancy ', 'Adult Mortality',\n",
    "       'infant deaths', 'Alcohol', 'percentage expenditure', 'Hepatitis B',\n",
    "       'Measles ', ' BMI ', 'under-five deaths ', 'Polio', 'Total expenditure',\n",
    "       'Diphtheria ', ' HIV/AIDS', 'GDP', 'Population',\n",
    "       ' thinness  1-19 years', ' thinness 5-9 years',\n",
    "       'Income composition of resources', 'Schooling']\n",
    "  train = traink[ft_columns]\n",
    "  ret = np.array_split(train,k)\n",
    "  weights = []\n",
    "  for i in range(k):\n",
    "    ret[i] = pd.DataFrame(ret[i],columns=ft_columns)\n",
    "  \n",
    "  for i in range(k):\n",
    "    print(i)\n",
    "    great = ret[i]\n",
    "    \n",
    "    X_test = great.drop('Life expectancy ',axis =1)\n",
    "    y_test = great['Life expectancy ']\n",
    "    oops = pd.DataFrame(columns = ft_columns)\n",
    "    for j in range(k):\n",
    "      if j!=i:\n",
    "        oops = oops.append(ret[j], ignore_index=True)\n",
    "    X_train = oops\n",
    "    y_train = X_train['Life expectancy ']\n",
    "    X_train = X_train.drop(\"Life expectancy \",axis =1)\n",
    "\n",
    "    linreg = LinearRegression()\n",
    "    linreg.fit(X_train, y_train)\n",
    "    #weights.append(linreg.fit(X_train, y_train))\n",
    "    y_pred = linreg.predict(X_test)\n",
    "    print(linreg.score(X_test,y_test))\n",
    "    count = 0\n",
    "    su = 0.0\n",
    "    mse = mean_squared_error(y_test,y_pred,squared = False)\n",
    "    print(\"RMSE linreg:\",mse)"
   ]
  },
  {
   "cell_type": "code",
   "execution_count": 35,
   "metadata": {},
   "outputs": [
    {
     "name": "stdout",
     "output_type": "stream",
     "text": [
      "0\n",
      "0.83577060314275\n",
      "RMSE linreg: 0.43194569323329185\n",
      "1\n",
      "0.7725073708509681\n",
      "RMSE linreg: 0.4380070084172396\n",
      "2\n",
      "0.842991969771948\n",
      "RMSE linreg: 0.42267991028902796\n",
      "3\n",
      "0.7139205382778535\n",
      "RMSE linreg: 0.44168281829940653\n",
      "4\n",
      "0.7925828440419074\n",
      "RMSE linreg: 0.4781369574063617\n"
     ]
    }
   ],
   "source": [
    "cross(scaler_df,5)"
   ]
  },
  {
   "cell_type": "markdown",
   "metadata": {},
   "source": [
    "we can see that the third one give  the highiest accuracy\n"
   ]
  },
  {
   "cell_type": "code",
   "execution_count": 36,
   "metadata": {},
   "outputs": [],
   "source": [
    "from sklearn.model_selection import train_test_split, cross_val_score\n",
    "from statistics import mean\n",
    "\n",
    "X_train, X_test, y_train, y_test = train_test_split(scaler_df, scaler_df['Life expectancy '], test_size=0.30)"
   ]
  },
  {
   "cell_type": "code",
   "execution_count": 37,
   "metadata": {},
   "outputs": [],
   "source": [
    "A = X_train.to_numpy()\n",
    "t = np.dot(np.dot(np.linalg.inv(np.dot(A.transpose(),A)),A.transpose()),y_train)\n",
    "\n",
    "A_test = X_test.to_numpy()\n",
    "y_cap = np.dot(t,np.transpose(A_test))"
   ]
  },
  {
   "cell_type": "code",
   "execution_count": 38,
   "metadata": {},
   "outputs": [
    {
     "name": "stdout",
     "output_type": "stream",
     "text": [
      "RMSE pseudo inv: 6.339502808926198e-15\n"
     ]
    }
   ],
   "source": [
    "mse = mean_squared_error(y_test,y_cap,squared = False)\n",
    "print(\"RMSE pseudo inv:\",mse)"
   ]
  },
  {
   "cell_type": "code",
   "execution_count": 39,
   "metadata": {},
   "outputs": [],
   "source": [
    "def merge(x,y):\n",
    "    x['Life expectancy'] = y\n",
    "    return x"
   ]
  },
  {
   "cell_type": "code",
   "execution_count": 40,
   "metadata": {},
   "outputs": [
    {
     "name": "stdout",
     "output_type": "stream",
     "text": [
      "0\n",
      "0.83577060314275\n",
      "RMSE linreg: 0.43194569323329185\n",
      "1\n",
      "0.7725073708509681\n",
      "RMSE linreg: 0.4380070084172396\n",
      "2\n",
      "0.842991969771948\n",
      "RMSE linreg: 0.42267991028902796\n",
      "3\n",
      "0.7139205382778535\n",
      "RMSE linreg: 0.44168281829940653\n",
      "4\n",
      "0.7925828440419074\n",
      "RMSE linreg: 0.4781369574063617\n"
     ]
    },
    {
     "data": {
      "text/plain": [
       "Pipeline(steps=[('svc', StandardScaler()), ('kross', None)])"
      ]
     },
     "execution_count": 40,
     "metadata": {},
     "output_type": "execute_result"
    }
   ],
   "source": [
    "from sklearn.pipeline import Pipeline\n",
    "pipe = Pipeline([('svc',StandardScaler()),('kross',cross(scaler_df))])\n",
    "pipe.fit(X_train,y_train)"
   ]
  },
  {
   "cell_type": "code",
   "execution_count": null,
   "metadata": {},
   "outputs": [],
   "source": []
  }
 ],
 "metadata": {
  "kernelspec": {
   "display_name": "Python 3.9.3 64-bit",
   "language": "python",
   "name": "python3"
  },
  "language_info": {
   "codemirror_mode": {
    "name": "ipython",
    "version": 3
   },
   "file_extension": ".py",
   "mimetype": "text/x-python",
   "name": "python",
   "nbconvert_exporter": "python",
   "pygments_lexer": "ipython3",
   "version": "3.9.3"
  },
  "orig_nbformat": 4,
  "vscode": {
   "interpreter": {
    "hash": "93c3a718b4c6642ce4c45cce76395d725a388a32f575fa81b43fa67ce89bca37"
   }
  }
 },
 "nbformat": 4,
 "nbformat_minor": 2
}
